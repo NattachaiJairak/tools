{
  "nbformat": 4,
  "nbformat_minor": 0,
  "metadata": {
    "colab": {
      "provenance": [],
      "include_colab_link": true
    },
    "kernelspec": {
      "name": "python3",
      "display_name": "Python 3"
    },
    "language_info": {
      "name": "python"
    }
  },
  "cells": [
    {
      "cell_type": "markdown",
      "metadata": {
        "id": "view-in-github",
        "colab_type": "text"
      },
      "source": [
        "<a href=\"https://colab.research.google.com/github/ratimayy/tools/blob/main/09_Plotly/Week9_PK.ipynb\" target=\"_parent\"><img src=\"https://colab.research.google.com/assets/colab-badge.svg\" alt=\"Open In Colab\"/></a>"
      ]
    },
    {
      "cell_type": "markdown",
      "source": [
        "#Week9"
      ],
      "metadata": {
        "id": "VQqOyypPeHNU"
      }
    },
    {
      "cell_type": "markdown",
      "source": [
        "https://colab.research.google.com/drive/1u9UtBFgnJKxroV3h7XJw7JxbPaGuHGlL?usp=sharing"
      ],
      "metadata": {
        "id": "074xRN2agn-H"
      }
    },
    {
      "cell_type": "markdown",
      "source": [
        "Reference\n",
        "- https://pbpython.com/plotly-look.html\n",
        "- https://www.kaggle.com/crawford/80-cereals >> data set\n",
        "- http://seaborn.pydata.org/examples/index.html\n"
      ],
      "metadata": {
        "id": "gFJ-tFyegOe4"
      }
    },
    {
      "cell_type": "code",
      "execution_count": 1,
      "metadata": {
        "colab": {
          "base_uri": "https://localhost:8080/",
          "height": 206
        },
        "id": "Vc6lXCuXfMJF",
        "outputId": "aa7f2353-35b9-4e89-c772-ea12000deeb2"
      },
      "outputs": [
        {
          "output_type": "execute_result",
          "data": {
            "text/plain": [
              "                        name             mfr  type  calories  protein  fat  \\\n",
              "0                  100% Bran         Nabisco  Cold        70        4    1   \n",
              "1          100% Natural Bran     Quaker Oats  Cold       120        3    5   \n",
              "2                   All-Bran         Kellogs  Cold        70        4    1   \n",
              "3  All-Bran with Extra Fiber         Kellogs  Cold        50        4    0   \n",
              "4             Almond Delight  Ralston Purina  Cold       110        2    2   \n",
              "\n",
              "   sodium  fiber  carbo  sugars  potass  vitamins shelf  weight  cups  rating  \\\n",
              "0     130   10.0    5.0       6     280        25   Top     1.0  0.33   68.40   \n",
              "1      15    2.0    8.0       8     135         0   Top     1.0  1.00   33.98   \n",
              "2     260    9.0    7.0       5     320        25   Top     1.0  0.33   59.43   \n",
              "3     140   14.0    8.0       0     330        25   Top     1.0  0.50   93.70   \n",
              "4     200    1.0   14.0       8      -1        25   Top     1.0  0.75   34.38   \n",
              "\n",
              "   cereal  \n",
              "0       1  \n",
              "1       1  \n",
              "2       1  \n",
              "3       1  \n",
              "4       1  "
            ],
            "text/html": [
              "\n",
              "  <div id=\"df-7374c153-30d5-4b70-8185-5f6167ea8028\" class=\"colab-df-container\">\n",
              "    <div>\n",
              "<style scoped>\n",
              "    .dataframe tbody tr th:only-of-type {\n",
              "        vertical-align: middle;\n",
              "    }\n",
              "\n",
              "    .dataframe tbody tr th {\n",
              "        vertical-align: top;\n",
              "    }\n",
              "\n",
              "    .dataframe thead th {\n",
              "        text-align: right;\n",
              "    }\n",
              "</style>\n",
              "<table border=\"1\" class=\"dataframe\">\n",
              "  <thead>\n",
              "    <tr style=\"text-align: right;\">\n",
              "      <th></th>\n",
              "      <th>name</th>\n",
              "      <th>mfr</th>\n",
              "      <th>type</th>\n",
              "      <th>calories</th>\n",
              "      <th>protein</th>\n",
              "      <th>fat</th>\n",
              "      <th>sodium</th>\n",
              "      <th>fiber</th>\n",
              "      <th>carbo</th>\n",
              "      <th>sugars</th>\n",
              "      <th>potass</th>\n",
              "      <th>vitamins</th>\n",
              "      <th>shelf</th>\n",
              "      <th>weight</th>\n",
              "      <th>cups</th>\n",
              "      <th>rating</th>\n",
              "      <th>cereal</th>\n",
              "    </tr>\n",
              "  </thead>\n",
              "  <tbody>\n",
              "    <tr>\n",
              "      <th>0</th>\n",
              "      <td>100% Bran</td>\n",
              "      <td>Nabisco</td>\n",
              "      <td>Cold</td>\n",
              "      <td>70</td>\n",
              "      <td>4</td>\n",
              "      <td>1</td>\n",
              "      <td>130</td>\n",
              "      <td>10.0</td>\n",
              "      <td>5.0</td>\n",
              "      <td>6</td>\n",
              "      <td>280</td>\n",
              "      <td>25</td>\n",
              "      <td>Top</td>\n",
              "      <td>1.0</td>\n",
              "      <td>0.33</td>\n",
              "      <td>68.40</td>\n",
              "      <td>1</td>\n",
              "    </tr>\n",
              "    <tr>\n",
              "      <th>1</th>\n",
              "      <td>100% Natural Bran</td>\n",
              "      <td>Quaker Oats</td>\n",
              "      <td>Cold</td>\n",
              "      <td>120</td>\n",
              "      <td>3</td>\n",
              "      <td>5</td>\n",
              "      <td>15</td>\n",
              "      <td>2.0</td>\n",
              "      <td>8.0</td>\n",
              "      <td>8</td>\n",
              "      <td>135</td>\n",
              "      <td>0</td>\n",
              "      <td>Top</td>\n",
              "      <td>1.0</td>\n",
              "      <td>1.00</td>\n",
              "      <td>33.98</td>\n",
              "      <td>1</td>\n",
              "    </tr>\n",
              "    <tr>\n",
              "      <th>2</th>\n",
              "      <td>All-Bran</td>\n",
              "      <td>Kellogs</td>\n",
              "      <td>Cold</td>\n",
              "      <td>70</td>\n",
              "      <td>4</td>\n",
              "      <td>1</td>\n",
              "      <td>260</td>\n",
              "      <td>9.0</td>\n",
              "      <td>7.0</td>\n",
              "      <td>5</td>\n",
              "      <td>320</td>\n",
              "      <td>25</td>\n",
              "      <td>Top</td>\n",
              "      <td>1.0</td>\n",
              "      <td>0.33</td>\n",
              "      <td>59.43</td>\n",
              "      <td>1</td>\n",
              "    </tr>\n",
              "    <tr>\n",
              "      <th>3</th>\n",
              "      <td>All-Bran with Extra Fiber</td>\n",
              "      <td>Kellogs</td>\n",
              "      <td>Cold</td>\n",
              "      <td>50</td>\n",
              "      <td>4</td>\n",
              "      <td>0</td>\n",
              "      <td>140</td>\n",
              "      <td>14.0</td>\n",
              "      <td>8.0</td>\n",
              "      <td>0</td>\n",
              "      <td>330</td>\n",
              "      <td>25</td>\n",
              "      <td>Top</td>\n",
              "      <td>1.0</td>\n",
              "      <td>0.50</td>\n",
              "      <td>93.70</td>\n",
              "      <td>1</td>\n",
              "    </tr>\n",
              "    <tr>\n",
              "      <th>4</th>\n",
              "      <td>Almond Delight</td>\n",
              "      <td>Ralston Purina</td>\n",
              "      <td>Cold</td>\n",
              "      <td>110</td>\n",
              "      <td>2</td>\n",
              "      <td>2</td>\n",
              "      <td>200</td>\n",
              "      <td>1.0</td>\n",
              "      <td>14.0</td>\n",
              "      <td>8</td>\n",
              "      <td>-1</td>\n",
              "      <td>25</td>\n",
              "      <td>Top</td>\n",
              "      <td>1.0</td>\n",
              "      <td>0.75</td>\n",
              "      <td>34.38</td>\n",
              "      <td>1</td>\n",
              "    </tr>\n",
              "  </tbody>\n",
              "</table>\n",
              "</div>\n",
              "    <div class=\"colab-df-buttons\">\n",
              "\n",
              "  <div class=\"colab-df-container\">\n",
              "    <button class=\"colab-df-convert\" onclick=\"convertToInteractive('df-7374c153-30d5-4b70-8185-5f6167ea8028')\"\n",
              "            title=\"Convert this dataframe to an interactive table.\"\n",
              "            style=\"display:none;\">\n",
              "\n",
              "  <svg xmlns=\"http://www.w3.org/2000/svg\" height=\"24px\" viewBox=\"0 -960 960 960\">\n",
              "    <path d=\"M120-120v-720h720v720H120Zm60-500h600v-160H180v160Zm220 220h160v-160H400v160Zm0 220h160v-160H400v160ZM180-400h160v-160H180v160Zm440 0h160v-160H620v160ZM180-180h160v-160H180v160Zm440 0h160v-160H620v160Z\"/>\n",
              "  </svg>\n",
              "    </button>\n",
              "\n",
              "  <style>\n",
              "    .colab-df-container {\n",
              "      display:flex;\n",
              "      gap: 12px;\n",
              "    }\n",
              "\n",
              "    .colab-df-convert {\n",
              "      background-color: #E8F0FE;\n",
              "      border: none;\n",
              "      border-radius: 50%;\n",
              "      cursor: pointer;\n",
              "      display: none;\n",
              "      fill: #1967D2;\n",
              "      height: 32px;\n",
              "      padding: 0 0 0 0;\n",
              "      width: 32px;\n",
              "    }\n",
              "\n",
              "    .colab-df-convert:hover {\n",
              "      background-color: #E2EBFA;\n",
              "      box-shadow: 0px 1px 2px rgba(60, 64, 67, 0.3), 0px 1px 3px 1px rgba(60, 64, 67, 0.15);\n",
              "      fill: #174EA6;\n",
              "    }\n",
              "\n",
              "    .colab-df-buttons div {\n",
              "      margin-bottom: 4px;\n",
              "    }\n",
              "\n",
              "    [theme=dark] .colab-df-convert {\n",
              "      background-color: #3B4455;\n",
              "      fill: #D2E3FC;\n",
              "    }\n",
              "\n",
              "    [theme=dark] .colab-df-convert:hover {\n",
              "      background-color: #434B5C;\n",
              "      box-shadow: 0px 1px 3px 1px rgba(0, 0, 0, 0.15);\n",
              "      filter: drop-shadow(0px 1px 2px rgba(0, 0, 0, 0.3));\n",
              "      fill: #FFFFFF;\n",
              "    }\n",
              "  </style>\n",
              "\n",
              "    <script>\n",
              "      const buttonEl =\n",
              "        document.querySelector('#df-7374c153-30d5-4b70-8185-5f6167ea8028 button.colab-df-convert');\n",
              "      buttonEl.style.display =\n",
              "        google.colab.kernel.accessAllowed ? 'block' : 'none';\n",
              "\n",
              "      async function convertToInteractive(key) {\n",
              "        const element = document.querySelector('#df-7374c153-30d5-4b70-8185-5f6167ea8028');\n",
              "        const dataTable =\n",
              "          await google.colab.kernel.invokeFunction('convertToInteractive',\n",
              "                                                    [key], {});\n",
              "        if (!dataTable) return;\n",
              "\n",
              "        const docLinkHtml = 'Like what you see? Visit the ' +\n",
              "          '<a target=\"_blank\" href=https://colab.research.google.com/notebooks/data_table.ipynb>data table notebook</a>'\n",
              "          + ' to learn more about interactive tables.';\n",
              "        element.innerHTML = '';\n",
              "        dataTable['output_type'] = 'display_data';\n",
              "        await google.colab.output.renderOutput(dataTable, element);\n",
              "        const docLink = document.createElement('div');\n",
              "        docLink.innerHTML = docLinkHtml;\n",
              "        element.appendChild(docLink);\n",
              "      }\n",
              "    </script>\n",
              "  </div>\n",
              "\n",
              "\n",
              "<div id=\"df-902e6e40-adb1-4239-bf40-b586b5d6beae\">\n",
              "  <button class=\"colab-df-quickchart\" onclick=\"quickchart('df-902e6e40-adb1-4239-bf40-b586b5d6beae')\"\n",
              "            title=\"Suggest charts\"\n",
              "            style=\"display:none;\">\n",
              "\n",
              "<svg xmlns=\"http://www.w3.org/2000/svg\" height=\"24px\"viewBox=\"0 0 24 24\"\n",
              "     width=\"24px\">\n",
              "    <g>\n",
              "        <path d=\"M19 3H5c-1.1 0-2 .9-2 2v14c0 1.1.9 2 2 2h14c1.1 0 2-.9 2-2V5c0-1.1-.9-2-2-2zM9 17H7v-7h2v7zm4 0h-2V7h2v10zm4 0h-2v-4h2v4z\"/>\n",
              "    </g>\n",
              "</svg>\n",
              "  </button>\n",
              "\n",
              "<style>\n",
              "  .colab-df-quickchart {\n",
              "      --bg-color: #E8F0FE;\n",
              "      --fill-color: #1967D2;\n",
              "      --hover-bg-color: #E2EBFA;\n",
              "      --hover-fill-color: #174EA6;\n",
              "      --disabled-fill-color: #AAA;\n",
              "      --disabled-bg-color: #DDD;\n",
              "  }\n",
              "\n",
              "  [theme=dark] .colab-df-quickchart {\n",
              "      --bg-color: #3B4455;\n",
              "      --fill-color: #D2E3FC;\n",
              "      --hover-bg-color: #434B5C;\n",
              "      --hover-fill-color: #FFFFFF;\n",
              "      --disabled-bg-color: #3B4455;\n",
              "      --disabled-fill-color: #666;\n",
              "  }\n",
              "\n",
              "  .colab-df-quickchart {\n",
              "    background-color: var(--bg-color);\n",
              "    border: none;\n",
              "    border-radius: 50%;\n",
              "    cursor: pointer;\n",
              "    display: none;\n",
              "    fill: var(--fill-color);\n",
              "    height: 32px;\n",
              "    padding: 0;\n",
              "    width: 32px;\n",
              "  }\n",
              "\n",
              "  .colab-df-quickchart:hover {\n",
              "    background-color: var(--hover-bg-color);\n",
              "    box-shadow: 0 1px 2px rgba(60, 64, 67, 0.3), 0 1px 3px 1px rgba(60, 64, 67, 0.15);\n",
              "    fill: var(--button-hover-fill-color);\n",
              "  }\n",
              "\n",
              "  .colab-df-quickchart-complete:disabled,\n",
              "  .colab-df-quickchart-complete:disabled:hover {\n",
              "    background-color: var(--disabled-bg-color);\n",
              "    fill: var(--disabled-fill-color);\n",
              "    box-shadow: none;\n",
              "  }\n",
              "\n",
              "  .colab-df-spinner {\n",
              "    border: 2px solid var(--fill-color);\n",
              "    border-color: transparent;\n",
              "    border-bottom-color: var(--fill-color);\n",
              "    animation:\n",
              "      spin 1s steps(1) infinite;\n",
              "  }\n",
              "\n",
              "  @keyframes spin {\n",
              "    0% {\n",
              "      border-color: transparent;\n",
              "      border-bottom-color: var(--fill-color);\n",
              "      border-left-color: var(--fill-color);\n",
              "    }\n",
              "    20% {\n",
              "      border-color: transparent;\n",
              "      border-left-color: var(--fill-color);\n",
              "      border-top-color: var(--fill-color);\n",
              "    }\n",
              "    30% {\n",
              "      border-color: transparent;\n",
              "      border-left-color: var(--fill-color);\n",
              "      border-top-color: var(--fill-color);\n",
              "      border-right-color: var(--fill-color);\n",
              "    }\n",
              "    40% {\n",
              "      border-color: transparent;\n",
              "      border-right-color: var(--fill-color);\n",
              "      border-top-color: var(--fill-color);\n",
              "    }\n",
              "    60% {\n",
              "      border-color: transparent;\n",
              "      border-right-color: var(--fill-color);\n",
              "    }\n",
              "    80% {\n",
              "      border-color: transparent;\n",
              "      border-right-color: var(--fill-color);\n",
              "      border-bottom-color: var(--fill-color);\n",
              "    }\n",
              "    90% {\n",
              "      border-color: transparent;\n",
              "      border-bottom-color: var(--fill-color);\n",
              "    }\n",
              "  }\n",
              "</style>\n",
              "\n",
              "  <script>\n",
              "    async function quickchart(key) {\n",
              "      const quickchartButtonEl =\n",
              "        document.querySelector('#' + key + ' button');\n",
              "      quickchartButtonEl.disabled = true;  // To prevent multiple clicks.\n",
              "      quickchartButtonEl.classList.add('colab-df-spinner');\n",
              "      try {\n",
              "        const charts = await google.colab.kernel.invokeFunction(\n",
              "            'suggestCharts', [key], {});\n",
              "      } catch (error) {\n",
              "        console.error('Error during call to suggestCharts:', error);\n",
              "      }\n",
              "      quickchartButtonEl.classList.remove('colab-df-spinner');\n",
              "      quickchartButtonEl.classList.add('colab-df-quickchart-complete');\n",
              "    }\n",
              "    (() => {\n",
              "      let quickchartButtonEl =\n",
              "        document.querySelector('#df-902e6e40-adb1-4239-bf40-b586b5d6beae button');\n",
              "      quickchartButtonEl.style.display =\n",
              "        google.colab.kernel.accessAllowed ? 'block' : 'none';\n",
              "    })();\n",
              "  </script>\n",
              "</div>\n",
              "    </div>\n",
              "  </div>\n"
            ],
            "application/vnd.google.colaboratory.intrinsic+json": {
              "type": "dataframe",
              "variable_name": "df",
              "summary": "{\n  \"name\": \"df\",\n  \"rows\": 77,\n  \"fields\": [\n    {\n      \"column\": \"name\",\n      \"properties\": {\n        \"dtype\": \"string\",\n        \"num_unique_values\": 77,\n        \"samples\": [\n          \"Almond Delight\",\n          \"Honey Graham Ohs\",\n          \"Cap'n'Crunch\"\n        ],\n        \"semantic_type\": \"\",\n        \"description\": \"\"\n      }\n    },\n    {\n      \"column\": \"mfr\",\n      \"properties\": {\n        \"dtype\": \"category\",\n        \"num_unique_values\": 7,\n        \"samples\": [\n          \"Nabisco\",\n          \"Quaker Oats\",\n          \"Post\"\n        ],\n        \"semantic_type\": \"\",\n        \"description\": \"\"\n      }\n    },\n    {\n      \"column\": \"type\",\n      \"properties\": {\n        \"dtype\": \"category\",\n        \"num_unique_values\": 2,\n        \"samples\": [\n          \"Hot\",\n          \"Cold\"\n        ],\n        \"semantic_type\": \"\",\n        \"description\": \"\"\n      }\n    },\n    {\n      \"column\": \"calories\",\n      \"properties\": {\n        \"dtype\": \"number\",\n        \"std\": 19,\n        \"min\": 50,\n        \"max\": 160,\n        \"num_unique_values\": 11,\n        \"samples\": [\n          90,\n          70\n        ],\n        \"semantic_type\": \"\",\n        \"description\": \"\"\n      }\n    },\n    {\n      \"column\": \"protein\",\n      \"properties\": {\n        \"dtype\": \"number\",\n        \"std\": 1,\n        \"min\": 1,\n        \"max\": 6,\n        \"num_unique_values\": 6,\n        \"samples\": [\n          4,\n          3\n        ],\n        \"semantic_type\": \"\",\n        \"description\": \"\"\n      }\n    },\n    {\n      \"column\": \"fat\",\n      \"properties\": {\n        \"dtype\": \"number\",\n        \"std\": 1,\n        \"min\": 0,\n        \"max\": 5,\n        \"num_unique_values\": 5,\n        \"samples\": [\n          5,\n          3\n        ],\n        \"semantic_type\": \"\",\n        \"description\": \"\"\n      }\n    },\n    {\n      \"column\": \"sodium\",\n      \"properties\": {\n        \"dtype\": \"number\",\n        \"std\": 83,\n        \"min\": 0,\n        \"max\": 320,\n        \"num_unique_values\": 27,\n        \"samples\": [\n          220,\n          190\n        ],\n        \"semantic_type\": \"\",\n        \"description\": \"\"\n      }\n    },\n    {\n      \"column\": \"fiber\",\n      \"properties\": {\n        \"dtype\": \"number\",\n        \"std\": 2.383363964387222,\n        \"min\": 0.0,\n        \"max\": 14.0,\n        \"num_unique_values\": 13,\n        \"samples\": [\n          2.7,\n          3.0\n        ],\n        \"semantic_type\": \"\",\n        \"description\": \"\"\n      }\n    },\n    {\n      \"column\": \"carbo\",\n      \"properties\": {\n        \"dtype\": \"number\",\n        \"std\": 4.278956280325908,\n        \"min\": -1.0,\n        \"max\": 23.0,\n        \"num_unique_values\": 22,\n        \"samples\": [\n          5.0,\n          10.0\n        ],\n        \"semantic_type\": \"\",\n        \"description\": \"\"\n      }\n    },\n    {\n      \"column\": \"sugars\",\n      \"properties\": {\n        \"dtype\": \"number\",\n        \"std\": 4,\n        \"min\": -1,\n        \"max\": 15,\n        \"num_unique_values\": 17,\n        \"samples\": [\n          6,\n          8\n        ],\n        \"semantic_type\": \"\",\n        \"description\": \"\"\n      }\n    },\n    {\n      \"column\": \"potass\",\n      \"properties\": {\n        \"dtype\": \"number\",\n        \"std\": 71,\n        \"min\": -1,\n        \"max\": 330,\n        \"num_unique_values\": 36,\n        \"samples\": [\n          115,\n          55\n        ],\n        \"semantic_type\": \"\",\n        \"description\": \"\"\n      }\n    },\n    {\n      \"column\": \"vitamins\",\n      \"properties\": {\n        \"dtype\": \"number\",\n        \"std\": 22,\n        \"min\": 0,\n        \"max\": 100,\n        \"num_unique_values\": 3,\n        \"samples\": [\n          25,\n          0\n        ],\n        \"semantic_type\": \"\",\n        \"description\": \"\"\n      }\n    },\n    {\n      \"column\": \"shelf\",\n      \"properties\": {\n        \"dtype\": \"category\",\n        \"num_unique_values\": 3,\n        \"samples\": [\n          \"Top\",\n          \"Bottom\"\n        ],\n        \"semantic_type\": \"\",\n        \"description\": \"\"\n      }\n    },\n    {\n      \"column\": \"weight\",\n      \"properties\": {\n        \"dtype\": \"number\",\n        \"std\": 0.15047679973689215,\n        \"min\": 0.5,\n        \"max\": 1.5,\n        \"num_unique_values\": 7,\n        \"samples\": [\n          1.0,\n          1.33\n        ],\n        \"semantic_type\": \"\",\n        \"description\": \"\"\n      }\n    },\n    {\n      \"column\": \"cups\",\n      \"properties\": {\n        \"dtype\": \"number\",\n        \"std\": 0.2327161384469139,\n        \"min\": 0.25,\n        \"max\": 1.5,\n        \"num_unique_values\": 12,\n        \"samples\": [\n          1.5,\n          1.33\n        ],\n        \"semantic_type\": \"\",\n        \"description\": \"\"\n      }\n    },\n    {\n      \"column\": \"rating\",\n      \"properties\": {\n        \"dtype\": \"number\",\n        \"std\": 14.047301443826328,\n        \"min\": 18.04,\n        \"max\": 93.7,\n        \"num_unique_values\": 77,\n        \"samples\": [\n          34.38,\n          21.87\n        ],\n        \"semantic_type\": \"\",\n        \"description\": \"\"\n      }\n    },\n    {\n      \"column\": \"cereal\",\n      \"properties\": {\n        \"dtype\": \"number\",\n        \"std\": 0,\n        \"min\": 1,\n        \"max\": 1,\n        \"num_unique_values\": 1,\n        \"samples\": [\n          1\n        ],\n        \"semantic_type\": \"\",\n        \"description\": \"\"\n      }\n    }\n  ]\n}"
            }
          },
          "metadata": {},
          "execution_count": 1
        }
      ],
      "source": [
        "import pandas as pd\n",
        "import plotly.express as px\n",
        "import seaborn as sns\n",
        "\n",
        "df = pd.read_csv('https://github.com/chris1610/pbpython/blob/master/data/cereal_data.csv?raw=True')\n",
        "df.head()"
      ]
    },
    {
      "cell_type": "code",
      "source": [
        "df.shape"
      ],
      "metadata": {
        "colab": {
          "base_uri": "https://localhost:8080/"
        },
        "id": "egemWxWbAGK-",
        "outputId": "67bb5ce6-840c-40a2-9634-405fdcb39a04"
      },
      "execution_count": 2,
      "outputs": [
        {
          "output_type": "execute_result",
          "data": {
            "text/plain": [
              "(77, 17)"
            ]
          },
          "metadata": {},
          "execution_count": 2
        }
      ]
    },
    {
      "cell_type": "markdown",
      "source": [
        "77 rows 17 columns"
      ],
      "metadata": {
        "id": "1kfhdkGBuMjH"
      }
    },
    {
      "cell_type": "code",
      "source": [
        "df.info()"
      ],
      "metadata": {
        "colab": {
          "base_uri": "https://localhost:8080/"
        },
        "id": "YXTkRUjrqcGo",
        "outputId": "481300fc-8142-49a5-f77d-f895bf5ac8f8"
      },
      "execution_count": 3,
      "outputs": [
        {
          "output_type": "stream",
          "name": "stdout",
          "text": [
            "<class 'pandas.core.frame.DataFrame'>\n",
            "RangeIndex: 77 entries, 0 to 76\n",
            "Data columns (total 17 columns):\n",
            " #   Column    Non-Null Count  Dtype  \n",
            "---  ------    --------------  -----  \n",
            " 0   name      77 non-null     object \n",
            " 1   mfr       77 non-null     object \n",
            " 2   type      77 non-null     object \n",
            " 3   calories  77 non-null     int64  \n",
            " 4   protein   77 non-null     int64  \n",
            " 5   fat       77 non-null     int64  \n",
            " 6   sodium    77 non-null     int64  \n",
            " 7   fiber     77 non-null     float64\n",
            " 8   carbo     77 non-null     float64\n",
            " 9   sugars    77 non-null     int64  \n",
            " 10  potass    77 non-null     int64  \n",
            " 11  vitamins  77 non-null     int64  \n",
            " 12  shelf     77 non-null     object \n",
            " 13  weight    77 non-null     float64\n",
            " 14  cups      77 non-null     float64\n",
            " 15  rating    77 non-null     float64\n",
            " 16  cereal    77 non-null     int64  \n",
            "dtypes: float64(5), int64(8), object(4)\n",
            "memory usage: 10.4+ KB\n"
          ]
        }
      ]
    },
    {
      "cell_type": "code",
      "source": [
        "df['shelf'].unique()"
      ],
      "metadata": {
        "colab": {
          "base_uri": "https://localhost:8080/"
        },
        "id": "VcPn5lo-jhNX",
        "outputId": "4ccf879f-fe4d-4909-9ab3-9168e93af506"
      },
      "execution_count": 4,
      "outputs": [
        {
          "output_type": "execute_result",
          "data": {
            "text/plain": [
              "array(['Top', 'Bottom', 'Middle'], dtype=object)"
            ]
          },
          "metadata": {},
          "execution_count": 4
        }
      ]
    },
    {
      "cell_type": "markdown",
      "source": [
        "hover_name คือให้เวลาเอาเม้าไปที่จุดในกราฟมันจะขึ้นชื่อให้\n",
        "- น้ำตาลยิ่งน้อย rating ยิ่งสูง"
      ],
      "metadata": {
        "id": "6TY5l5hou1dD"
      }
    },
    {
      "cell_type": "code",
      "source": [
        "fig = px.scatter(df,\n",
        "                x='sugars',\n",
        "                y='rating',\n",
        "                hover_name='name',\n",
        "                #hover_name= df['name'].astype(str)+\" \"+df['mfr'].astype(str),\n",
        "                title='Cereal_ratingsvs.sugars')\n",
        "fig.show()"
      ],
      "metadata": {
        "colab": {
          "base_uri": "https://localhost:8080/",
          "height": 542
        },
        "id": "deXHuGcOgSrt",
        "outputId": "7f348d93-34ee-45ee-ba09-ade6f1f8ddd1"
      },
      "execution_count": 5,
      "outputs": [
        {
          "output_type": "display_data",
          "data": {
            "text/html": [
              "<html>\n",
              "<head><meta charset=\"utf-8\" /></head>\n",
              "<body>\n",
              "    <div>            <script src=\"https://cdnjs.cloudflare.com/ajax/libs/mathjax/2.7.5/MathJax.js?config=TeX-AMS-MML_SVG\"></script><script type=\"text/javascript\">if (window.MathJax && window.MathJax.Hub && window.MathJax.Hub.Config) {window.MathJax.Hub.Config({SVG: {font: \"STIX-Web\"}});}</script>                <script type=\"text/javascript\">window.PlotlyConfig = {MathJaxConfig: 'local'};</script>\n",
              "        <script charset=\"utf-8\" src=\"https://cdn.plot.ly/plotly-2.24.1.min.js\"></script>                <div id=\"79466592-07b7-4570-9946-319a8d7ad62e\" class=\"plotly-graph-div\" style=\"height:525px; width:100%;\"></div>            <script type=\"text/javascript\">                                    window.PLOTLYENV=window.PLOTLYENV || {};                                    if (document.getElementById(\"79466592-07b7-4570-9946-319a8d7ad62e\")) {                    Plotly.newPlot(                        \"79466592-07b7-4570-9946-319a8d7ad62e\",                        [{\"hovertemplate\":\"\\u003cb\\u003e%{hovertext}\\u003c\\u002fb\\u003e\\u003cbr\\u003e\\u003cbr\\u003esugars=%{x}\\u003cbr\\u003erating=%{y}\\u003cextra\\u003e\\u003c\\u002fextra\\u003e\",\"hovertext\":[\"100% Bran\",\"100% Natural Bran\",\"All-Bran\",\"All-Bran with Extra Fiber\",\"Almond Delight\",\"Apple Cinnamon Cheerios\",\"Apple Jacks\",\"Basic 4\",\"Bran Chex\",\"Bran Flakes\",\"Cap'n'Crunch\",\"Cheerios\",\"Cinnamon Toast Crunch\",\"Clusters\",\"Cocoa Puffs\",\"Corn Chex\",\"Corn Flakes\",\"Corn Pops\",\"Count Chocula\",\"Cracklin' Oat Bran\",\"Cream of Wheat (Quick)\",\"Crispix\",\"Crispy Wheat & Raisins\",\"Double Chex\",\"Froot Loops\",\"Frosted Flakes\",\"Frosted Mini-Wheats\",\"Fruit & Fibre Dates, Walnuts, and Oats\",\"Fruitful Bran\",\"Fruity Pebbles\",\"Golden Crisp\",\"Golden Grahams\",\"Grape Nuts Flakes\",\"Grape-Nuts\",\"Great Grains Pecan\",\"Honey Graham Ohs\",\"Honey Nut Cheerios\",\"Honey-comb\",\"Just Right Crunchy  Nuggets\",\"Just Right Fruit & Nut\",\"Kix\",\"Life\",\"Lucky Charms\",\"Maypo\",\"Muesli Raisins, Dates, & Almonds\",\"Muesli Raisins, Peaches, & Pecans\",\"Mueslix Crispy Blend\",\"Multi-Grain Cheerios\",\"Nut&Honey Crunch\",\"Nutri-Grain Almond-Raisin\",\"Nutri-grain Wheat\",\"Oatmeal Raisin Crisp\",\"Post Nat. Raisin Bran\",\"Product 19\",\"Puffed Rice\",\"Puffed Wheat\",\"Quaker Oat Squares\",\"Quaker Oatmeal\",\"Raisin Bran\",\"Raisin Nut Bran\",\"Raisin Squares\",\"Rice Chex\",\"Rice Krispies\",\"Shredded Wheat\",\"Shredded Wheat 'n'Bran\",\"Shredded Wheat spoon size\",\"Smacks\",\"Special K\",\"Strawberry Fruit Wheats\",\"Total Corn Flakes\",\"Total Raisin Bran\",\"Total Whole Grain\",\"Triples\",\"Trix\",\"Wheat Chex\",\"Wheaties\",\"Wheaties Honey Gold\"],\"legendgroup\":\"\",\"marker\":{\"color\":\"#636efa\",\"symbol\":\"circle\"},\"mode\":\"markers\",\"name\":\"\",\"orientation\":\"v\",\"showlegend\":false,\"x\":[6,8,5,0,8,10,14,8,6,5,12,1,9,7,13,3,2,12,13,7,0,3,10,5,13,11,7,10,12,12,15,9,5,3,4,11,10,11,6,9,3,6,12,3,11,11,13,6,9,7,2,10,14,3,0,0,6,-1,12,8,6,2,3,0,0,0,15,3,5,3,14,3,3,12,3,3,8],\"xaxis\":\"x\",\"y\":[68.4,33.98,59.43,93.7,34.38,29.51,33.17,37.04,49.12,53.31,18.04,50.76,19.82,40.4,22.74,41.45,45.86,35.78,22.4,40.45,64.53,46.9,36.18,44.33,32.21,31.44,58.35,40.92,41.02,28.03,35.25,23.8,52.08,53.37,45.81,21.87,31.07,28.74,36.52,36.47,39.24,45.33,26.73,54.85,37.14,34.14,30.31,40.11,29.92,40.69,59.64,30.45,37.84,41.5,60.76,63.01,49.51,50.83,39.26,39.7,55.33,42.0,40.56,68.24,74.47,72.8,31.23,53.13,59.36,38.84,28.59,46.66,39.11,27.75,49.79,51.59,36.19],\"yaxis\":\"y\",\"type\":\"scatter\"}],                        {\"template\":{\"data\":{\"histogram2dcontour\":[{\"type\":\"histogram2dcontour\",\"colorbar\":{\"outlinewidth\":0,\"ticks\":\"\"},\"colorscale\":[[0.0,\"#0d0887\"],[0.1111111111111111,\"#46039f\"],[0.2222222222222222,\"#7201a8\"],[0.3333333333333333,\"#9c179e\"],[0.4444444444444444,\"#bd3786\"],[0.5555555555555556,\"#d8576b\"],[0.6666666666666666,\"#ed7953\"],[0.7777777777777778,\"#fb9f3a\"],[0.8888888888888888,\"#fdca26\"],[1.0,\"#f0f921\"]]}],\"choropleth\":[{\"type\":\"choropleth\",\"colorbar\":{\"outlinewidth\":0,\"ticks\":\"\"}}],\"histogram2d\":[{\"type\":\"histogram2d\",\"colorbar\":{\"outlinewidth\":0,\"ticks\":\"\"},\"colorscale\":[[0.0,\"#0d0887\"],[0.1111111111111111,\"#46039f\"],[0.2222222222222222,\"#7201a8\"],[0.3333333333333333,\"#9c179e\"],[0.4444444444444444,\"#bd3786\"],[0.5555555555555556,\"#d8576b\"],[0.6666666666666666,\"#ed7953\"],[0.7777777777777778,\"#fb9f3a\"],[0.8888888888888888,\"#fdca26\"],[1.0,\"#f0f921\"]]}],\"heatmap\":[{\"type\":\"heatmap\",\"colorbar\":{\"outlinewidth\":0,\"ticks\":\"\"},\"colorscale\":[[0.0,\"#0d0887\"],[0.1111111111111111,\"#46039f\"],[0.2222222222222222,\"#7201a8\"],[0.3333333333333333,\"#9c179e\"],[0.4444444444444444,\"#bd3786\"],[0.5555555555555556,\"#d8576b\"],[0.6666666666666666,\"#ed7953\"],[0.7777777777777778,\"#fb9f3a\"],[0.8888888888888888,\"#fdca26\"],[1.0,\"#f0f921\"]]}],\"heatmapgl\":[{\"type\":\"heatmapgl\",\"colorbar\":{\"outlinewidth\":0,\"ticks\":\"\"},\"colorscale\":[[0.0,\"#0d0887\"],[0.1111111111111111,\"#46039f\"],[0.2222222222222222,\"#7201a8\"],[0.3333333333333333,\"#9c179e\"],[0.4444444444444444,\"#bd3786\"],[0.5555555555555556,\"#d8576b\"],[0.6666666666666666,\"#ed7953\"],[0.7777777777777778,\"#fb9f3a\"],[0.8888888888888888,\"#fdca26\"],[1.0,\"#f0f921\"]]}],\"contourcarpet\":[{\"type\":\"contourcarpet\",\"colorbar\":{\"outlinewidth\":0,\"ticks\":\"\"}}],\"contour\":[{\"type\":\"contour\",\"colorbar\":{\"outlinewidth\":0,\"ticks\":\"\"},\"colorscale\":[[0.0,\"#0d0887\"],[0.1111111111111111,\"#46039f\"],[0.2222222222222222,\"#7201a8\"],[0.3333333333333333,\"#9c179e\"],[0.4444444444444444,\"#bd3786\"],[0.5555555555555556,\"#d8576b\"],[0.6666666666666666,\"#ed7953\"],[0.7777777777777778,\"#fb9f3a\"],[0.8888888888888888,\"#fdca26\"],[1.0,\"#f0f921\"]]}],\"surface\":[{\"type\":\"surface\",\"colorbar\":{\"outlinewidth\":0,\"ticks\":\"\"},\"colorscale\":[[0.0,\"#0d0887\"],[0.1111111111111111,\"#46039f\"],[0.2222222222222222,\"#7201a8\"],[0.3333333333333333,\"#9c179e\"],[0.4444444444444444,\"#bd3786\"],[0.5555555555555556,\"#d8576b\"],[0.6666666666666666,\"#ed7953\"],[0.7777777777777778,\"#fb9f3a\"],[0.8888888888888888,\"#fdca26\"],[1.0,\"#f0f921\"]]}],\"mesh3d\":[{\"type\":\"mesh3d\",\"colorbar\":{\"outlinewidth\":0,\"ticks\":\"\"}}],\"scatter\":[{\"fillpattern\":{\"fillmode\":\"overlay\",\"size\":10,\"solidity\":0.2},\"type\":\"scatter\"}],\"parcoords\":[{\"type\":\"parcoords\",\"line\":{\"colorbar\":{\"outlinewidth\":0,\"ticks\":\"\"}}}],\"scatterpolargl\":[{\"type\":\"scatterpolargl\",\"marker\":{\"colorbar\":{\"outlinewidth\":0,\"ticks\":\"\"}}}],\"bar\":[{\"error_x\":{\"color\":\"#2a3f5f\"},\"error_y\":{\"color\":\"#2a3f5f\"},\"marker\":{\"line\":{\"color\":\"#E5ECF6\",\"width\":0.5},\"pattern\":{\"fillmode\":\"overlay\",\"size\":10,\"solidity\":0.2}},\"type\":\"bar\"}],\"scattergeo\":[{\"type\":\"scattergeo\",\"marker\":{\"colorbar\":{\"outlinewidth\":0,\"ticks\":\"\"}}}],\"scatterpolar\":[{\"type\":\"scatterpolar\",\"marker\":{\"colorbar\":{\"outlinewidth\":0,\"ticks\":\"\"}}}],\"histogram\":[{\"marker\":{\"pattern\":{\"fillmode\":\"overlay\",\"size\":10,\"solidity\":0.2}},\"type\":\"histogram\"}],\"scattergl\":[{\"type\":\"scattergl\",\"marker\":{\"colorbar\":{\"outlinewidth\":0,\"ticks\":\"\"}}}],\"scatter3d\":[{\"type\":\"scatter3d\",\"line\":{\"colorbar\":{\"outlinewidth\":0,\"ticks\":\"\"}},\"marker\":{\"colorbar\":{\"outlinewidth\":0,\"ticks\":\"\"}}}],\"scattermapbox\":[{\"type\":\"scattermapbox\",\"marker\":{\"colorbar\":{\"outlinewidth\":0,\"ticks\":\"\"}}}],\"scatterternary\":[{\"type\":\"scatterternary\",\"marker\":{\"colorbar\":{\"outlinewidth\":0,\"ticks\":\"\"}}}],\"scattercarpet\":[{\"type\":\"scattercarpet\",\"marker\":{\"colorbar\":{\"outlinewidth\":0,\"ticks\":\"\"}}}],\"carpet\":[{\"aaxis\":{\"endlinecolor\":\"#2a3f5f\",\"gridcolor\":\"white\",\"linecolor\":\"white\",\"minorgridcolor\":\"white\",\"startlinecolor\":\"#2a3f5f\"},\"baxis\":{\"endlinecolor\":\"#2a3f5f\",\"gridcolor\":\"white\",\"linecolor\":\"white\",\"minorgridcolor\":\"white\",\"startlinecolor\":\"#2a3f5f\"},\"type\":\"carpet\"}],\"table\":[{\"cells\":{\"fill\":{\"color\":\"#EBF0F8\"},\"line\":{\"color\":\"white\"}},\"header\":{\"fill\":{\"color\":\"#C8D4E3\"},\"line\":{\"color\":\"white\"}},\"type\":\"table\"}],\"barpolar\":[{\"marker\":{\"line\":{\"color\":\"#E5ECF6\",\"width\":0.5},\"pattern\":{\"fillmode\":\"overlay\",\"size\":10,\"solidity\":0.2}},\"type\":\"barpolar\"}],\"pie\":[{\"automargin\":true,\"type\":\"pie\"}]},\"layout\":{\"autotypenumbers\":\"strict\",\"colorway\":[\"#636efa\",\"#EF553B\",\"#00cc96\",\"#ab63fa\",\"#FFA15A\",\"#19d3f3\",\"#FF6692\",\"#B6E880\",\"#FF97FF\",\"#FECB52\"],\"font\":{\"color\":\"#2a3f5f\"},\"hovermode\":\"closest\",\"hoverlabel\":{\"align\":\"left\"},\"paper_bgcolor\":\"white\",\"plot_bgcolor\":\"#E5ECF6\",\"polar\":{\"bgcolor\":\"#E5ECF6\",\"angularaxis\":{\"gridcolor\":\"white\",\"linecolor\":\"white\",\"ticks\":\"\"},\"radialaxis\":{\"gridcolor\":\"white\",\"linecolor\":\"white\",\"ticks\":\"\"}},\"ternary\":{\"bgcolor\":\"#E5ECF6\",\"aaxis\":{\"gridcolor\":\"white\",\"linecolor\":\"white\",\"ticks\":\"\"},\"baxis\":{\"gridcolor\":\"white\",\"linecolor\":\"white\",\"ticks\":\"\"},\"caxis\":{\"gridcolor\":\"white\",\"linecolor\":\"white\",\"ticks\":\"\"}},\"coloraxis\":{\"colorbar\":{\"outlinewidth\":0,\"ticks\":\"\"}},\"colorscale\":{\"sequential\":[[0.0,\"#0d0887\"],[0.1111111111111111,\"#46039f\"],[0.2222222222222222,\"#7201a8\"],[0.3333333333333333,\"#9c179e\"],[0.4444444444444444,\"#bd3786\"],[0.5555555555555556,\"#d8576b\"],[0.6666666666666666,\"#ed7953\"],[0.7777777777777778,\"#fb9f3a\"],[0.8888888888888888,\"#fdca26\"],[1.0,\"#f0f921\"]],\"sequentialminus\":[[0.0,\"#0d0887\"],[0.1111111111111111,\"#46039f\"],[0.2222222222222222,\"#7201a8\"],[0.3333333333333333,\"#9c179e\"],[0.4444444444444444,\"#bd3786\"],[0.5555555555555556,\"#d8576b\"],[0.6666666666666666,\"#ed7953\"],[0.7777777777777778,\"#fb9f3a\"],[0.8888888888888888,\"#fdca26\"],[1.0,\"#f0f921\"]],\"diverging\":[[0,\"#8e0152\"],[0.1,\"#c51b7d\"],[0.2,\"#de77ae\"],[0.3,\"#f1b6da\"],[0.4,\"#fde0ef\"],[0.5,\"#f7f7f7\"],[0.6,\"#e6f5d0\"],[0.7,\"#b8e186\"],[0.8,\"#7fbc41\"],[0.9,\"#4d9221\"],[1,\"#276419\"]]},\"xaxis\":{\"gridcolor\":\"white\",\"linecolor\":\"white\",\"ticks\":\"\",\"title\":{\"standoff\":15},\"zerolinecolor\":\"white\",\"automargin\":true,\"zerolinewidth\":2},\"yaxis\":{\"gridcolor\":\"white\",\"linecolor\":\"white\",\"ticks\":\"\",\"title\":{\"standoff\":15},\"zerolinecolor\":\"white\",\"automargin\":true,\"zerolinewidth\":2},\"scene\":{\"xaxis\":{\"backgroundcolor\":\"#E5ECF6\",\"gridcolor\":\"white\",\"linecolor\":\"white\",\"showbackground\":true,\"ticks\":\"\",\"zerolinecolor\":\"white\",\"gridwidth\":2},\"yaxis\":{\"backgroundcolor\":\"#E5ECF6\",\"gridcolor\":\"white\",\"linecolor\":\"white\",\"showbackground\":true,\"ticks\":\"\",\"zerolinecolor\":\"white\",\"gridwidth\":2},\"zaxis\":{\"backgroundcolor\":\"#E5ECF6\",\"gridcolor\":\"white\",\"linecolor\":\"white\",\"showbackground\":true,\"ticks\":\"\",\"zerolinecolor\":\"white\",\"gridwidth\":2}},\"shapedefaults\":{\"line\":{\"color\":\"#2a3f5f\"}},\"annotationdefaults\":{\"arrowcolor\":\"#2a3f5f\",\"arrowhead\":0,\"arrowwidth\":1},\"geo\":{\"bgcolor\":\"white\",\"landcolor\":\"#E5ECF6\",\"subunitcolor\":\"white\",\"showland\":true,\"showlakes\":true,\"lakecolor\":\"white\"},\"title\":{\"x\":0.05},\"mapbox\":{\"style\":\"light\"}}},\"xaxis\":{\"anchor\":\"y\",\"domain\":[0.0,1.0],\"title\":{\"text\":\"sugars\"}},\"yaxis\":{\"anchor\":\"x\",\"domain\":[0.0,1.0],\"title\":{\"text\":\"rating\"}},\"legend\":{\"tracegroupgap\":0},\"title\":{\"text\":\"Cereal_ratingsvs.sugars\"}},                        {\"responsive\": true}                    ).then(function(){\n",
              "                            \n",
              "var gd = document.getElementById('79466592-07b7-4570-9946-319a8d7ad62e');\n",
              "var x = new MutationObserver(function (mutations, observer) {{\n",
              "        var display = window.getComputedStyle(gd).display;\n",
              "        if (!display || display === 'none') {{\n",
              "            console.log([gd, 'removed!']);\n",
              "            Plotly.purge(gd);\n",
              "            observer.disconnect();\n",
              "        }}\n",
              "}});\n",
              "\n",
              "// Listen for the removal of the full notebook cells\n",
              "var notebookContainer = gd.closest('#notebook-container');\n",
              "if (notebookContainer) {{\n",
              "    x.observe(notebookContainer, {childList: true});\n",
              "}}\n",
              "\n",
              "// Listen for the clearing of the current output cell\n",
              "var outputEl = gd.closest('.output');\n",
              "if (outputEl) {{\n",
              "    x.observe(outputEl, {childList: true});\n",
              "}}\n",
              "\n",
              "                        })                };                            </script>        </div>\n",
              "</body>\n",
              "</html>"
            ]
          },
          "metadata": {}
        }
      ]
    },
    {
      "cell_type": "code",
      "source": [
        "fig = px.scatter(df,\n",
        "                x='sugars',\n",
        "                y='rating',\n",
        "                #hover_name='name',\n",
        "                hover_name= df['name'].astype(str)+\"/\"+df['mfr'].astype(str), #ให้ show ชื่อแบรน (mfr) ด้วย ตอนเอาเม้าไปจิ้ม, จริงๆประมาณว่ามัรเป็นสตริงอยู่แล้ว .astype(str) ไม่ต้องใส่ก็ได้\n",
        "                title='Cereal_ratingsvs.sugars')\n",
        "fig.show()"
      ],
      "metadata": {
        "id": "A6yVQuSRvaUX",
        "outputId": "923e89f2-628e-48ce-d2b1-a973e9d700d8",
        "colab": {
          "base_uri": "https://localhost:8080/",
          "height": 542
        }
      },
      "execution_count": 13,
      "outputs": [
        {
          "output_type": "display_data",
          "data": {
            "text/html": [
              "<html>\n",
              "<head><meta charset=\"utf-8\" /></head>\n",
              "<body>\n",
              "    <div>            <script src=\"https://cdnjs.cloudflare.com/ajax/libs/mathjax/2.7.5/MathJax.js?config=TeX-AMS-MML_SVG\"></script><script type=\"text/javascript\">if (window.MathJax && window.MathJax.Hub && window.MathJax.Hub.Config) {window.MathJax.Hub.Config({SVG: {font: \"STIX-Web\"}});}</script>                <script type=\"text/javascript\">window.PlotlyConfig = {MathJaxConfig: 'local'};</script>\n",
              "        <script charset=\"utf-8\" src=\"https://cdn.plot.ly/plotly-2.24.1.min.js\"></script>                <div id=\"4d6a0a9f-e55e-4849-836b-3ecaf6821efd\" class=\"plotly-graph-div\" style=\"height:525px; width:100%;\"></div>            <script type=\"text/javascript\">                                    window.PLOTLYENV=window.PLOTLYENV || {};                                    if (document.getElementById(\"4d6a0a9f-e55e-4849-836b-3ecaf6821efd\")) {                    Plotly.newPlot(                        \"4d6a0a9f-e55e-4849-836b-3ecaf6821efd\",                        [{\"hovertemplate\":\"\\u003cb\\u003e%{hovertext}\\u003c\\u002fb\\u003e\\u003cbr\\u003e\\u003cbr\\u003esugars=%{x}\\u003cbr\\u003erating=%{y}\\u003cextra\\u003e\\u003c\\u002fextra\\u003e\",\"hovertext\":[\"100% Bran\\u002fNabisco\",\"100% Natural Bran\\u002fQuaker Oats\",\"All-Bran\\u002fKellogs\",\"All-Bran with Extra Fiber\\u002fKellogs\",\"Almond Delight\\u002fRalston Purina\",\"Apple Cinnamon Cheerios\\u002fGeneral Mills\",\"Apple Jacks\\u002fKellogs\",\"Basic 4\\u002fGeneral Mills\",\"Bran Chex\\u002fRalston Purina\",\"Bran Flakes\\u002fPost\",\"Cap'n'Crunch\\u002fQuaker Oats\",\"Cheerios\\u002fGeneral Mills\",\"Cinnamon Toast Crunch\\u002fGeneral Mills\",\"Clusters\\u002fGeneral Mills\",\"Cocoa Puffs\\u002fGeneral Mills\",\"Corn Chex\\u002fRalston Purina\",\"Corn Flakes\\u002fKellogs\",\"Corn Pops\\u002fKellogs\",\"Count Chocula\\u002fGeneral Mills\",\"Cracklin' Oat Bran\\u002fKellogs\",\"Cream of Wheat (Quick)\\u002fNabisco\",\"Crispix\\u002fKellogs\",\"Crispy Wheat & Raisins\\u002fGeneral Mills\",\"Double Chex\\u002fRalston Purina\",\"Froot Loops\\u002fKellogs\",\"Frosted Flakes\\u002fKellogs\",\"Frosted Mini-Wheats\\u002fKellogs\",\"Fruit & Fibre Dates, Walnuts, and Oats\\u002fPost\",\"Fruitful Bran\\u002fKellogs\",\"Fruity Pebbles\\u002fPost\",\"Golden Crisp\\u002fPost\",\"Golden Grahams\\u002fGeneral Mills\",\"Grape Nuts Flakes\\u002fPost\",\"Grape-Nuts\\u002fPost\",\"Great Grains Pecan\\u002fPost\",\"Honey Graham Ohs\\u002fQuaker Oats\",\"Honey Nut Cheerios\\u002fGeneral Mills\",\"Honey-comb\\u002fPost\",\"Just Right Crunchy  Nuggets\\u002fKellogs\",\"Just Right Fruit & Nut\\u002fKellogs\",\"Kix\\u002fGeneral Mills\",\"Life\\u002fQuaker Oats\",\"Lucky Charms\\u002fGeneral Mills\",\"Maypo\\u002fAM Home Food\",\"Muesli Raisins, Dates, & Almonds\\u002fRalston Purina\",\"Muesli Raisins, Peaches, & Pecans\\u002fRalston Purina\",\"Mueslix Crispy Blend\\u002fKellogs\",\"Multi-Grain Cheerios\\u002fGeneral Mills\",\"Nut&Honey Crunch\\u002fKellogs\",\"Nutri-Grain Almond-Raisin\\u002fKellogs\",\"Nutri-grain Wheat\\u002fKellogs\",\"Oatmeal Raisin Crisp\\u002fGeneral Mills\",\"Post Nat. Raisin Bran\\u002fPost\",\"Product 19\\u002fKellogs\",\"Puffed Rice\\u002fQuaker Oats\",\"Puffed Wheat\\u002fQuaker Oats\",\"Quaker Oat Squares\\u002fQuaker Oats\",\"Quaker Oatmeal\\u002fQuaker Oats\",\"Raisin Bran\\u002fKellogs\",\"Raisin Nut Bran\\u002fGeneral Mills\",\"Raisin Squares\\u002fKellogs\",\"Rice Chex\\u002fRalston Purina\",\"Rice Krispies\\u002fKellogs\",\"Shredded Wheat\\u002fNabisco\",\"Shredded Wheat 'n'Bran\\u002fNabisco\",\"Shredded Wheat spoon size\\u002fNabisco\",\"Smacks\\u002fKellogs\",\"Special K\\u002fKellogs\",\"Strawberry Fruit Wheats\\u002fNabisco\",\"Total Corn Flakes\\u002fGeneral Mills\",\"Total Raisin Bran\\u002fGeneral Mills\",\"Total Whole Grain\\u002fGeneral Mills\",\"Triples\\u002fGeneral Mills\",\"Trix\\u002fGeneral Mills\",\"Wheat Chex\\u002fRalston Purina\",\"Wheaties\\u002fGeneral Mills\",\"Wheaties Honey Gold\\u002fGeneral Mills\"],\"legendgroup\":\"\",\"marker\":{\"color\":\"#636efa\",\"symbol\":\"circle\"},\"mode\":\"markers\",\"name\":\"\",\"orientation\":\"v\",\"showlegend\":false,\"x\":[6,8,5,0,8,10,14,8,6,5,12,1,9,7,13,3,2,12,13,7,0,3,10,5,13,11,7,10,12,12,15,9,5,3,4,11,10,11,6,9,3,6,12,3,11,11,13,6,9,7,2,10,14,3,0,0,6,-1,12,8,6,2,3,0,0,0,15,3,5,3,14,3,3,12,3,3,8],\"xaxis\":\"x\",\"y\":[68.4,33.98,59.43,93.7,34.38,29.51,33.17,37.04,49.12,53.31,18.04,50.76,19.82,40.4,22.74,41.45,45.86,35.78,22.4,40.45,64.53,46.9,36.18,44.33,32.21,31.44,58.35,40.92,41.02,28.03,35.25,23.8,52.08,53.37,45.81,21.87,31.07,28.74,36.52,36.47,39.24,45.33,26.73,54.85,37.14,34.14,30.31,40.11,29.92,40.69,59.64,30.45,37.84,41.5,60.76,63.01,49.51,50.83,39.26,39.7,55.33,42.0,40.56,68.24,74.47,72.8,31.23,53.13,59.36,38.84,28.59,46.66,39.11,27.75,49.79,51.59,36.19],\"yaxis\":\"y\",\"type\":\"scatter\"}],                        {\"template\":{\"data\":{\"histogram2dcontour\":[{\"type\":\"histogram2dcontour\",\"colorbar\":{\"outlinewidth\":0,\"ticks\":\"\"},\"colorscale\":[[0.0,\"#0d0887\"],[0.1111111111111111,\"#46039f\"],[0.2222222222222222,\"#7201a8\"],[0.3333333333333333,\"#9c179e\"],[0.4444444444444444,\"#bd3786\"],[0.5555555555555556,\"#d8576b\"],[0.6666666666666666,\"#ed7953\"],[0.7777777777777778,\"#fb9f3a\"],[0.8888888888888888,\"#fdca26\"],[1.0,\"#f0f921\"]]}],\"choropleth\":[{\"type\":\"choropleth\",\"colorbar\":{\"outlinewidth\":0,\"ticks\":\"\"}}],\"histogram2d\":[{\"type\":\"histogram2d\",\"colorbar\":{\"outlinewidth\":0,\"ticks\":\"\"},\"colorscale\":[[0.0,\"#0d0887\"],[0.1111111111111111,\"#46039f\"],[0.2222222222222222,\"#7201a8\"],[0.3333333333333333,\"#9c179e\"],[0.4444444444444444,\"#bd3786\"],[0.5555555555555556,\"#d8576b\"],[0.6666666666666666,\"#ed7953\"],[0.7777777777777778,\"#fb9f3a\"],[0.8888888888888888,\"#fdca26\"],[1.0,\"#f0f921\"]]}],\"heatmap\":[{\"type\":\"heatmap\",\"colorbar\":{\"outlinewidth\":0,\"ticks\":\"\"},\"colorscale\":[[0.0,\"#0d0887\"],[0.1111111111111111,\"#46039f\"],[0.2222222222222222,\"#7201a8\"],[0.3333333333333333,\"#9c179e\"],[0.4444444444444444,\"#bd3786\"],[0.5555555555555556,\"#d8576b\"],[0.6666666666666666,\"#ed7953\"],[0.7777777777777778,\"#fb9f3a\"],[0.8888888888888888,\"#fdca26\"],[1.0,\"#f0f921\"]]}],\"heatmapgl\":[{\"type\":\"heatmapgl\",\"colorbar\":{\"outlinewidth\":0,\"ticks\":\"\"},\"colorscale\":[[0.0,\"#0d0887\"],[0.1111111111111111,\"#46039f\"],[0.2222222222222222,\"#7201a8\"],[0.3333333333333333,\"#9c179e\"],[0.4444444444444444,\"#bd3786\"],[0.5555555555555556,\"#d8576b\"],[0.6666666666666666,\"#ed7953\"],[0.7777777777777778,\"#fb9f3a\"],[0.8888888888888888,\"#fdca26\"],[1.0,\"#f0f921\"]]}],\"contourcarpet\":[{\"type\":\"contourcarpet\",\"colorbar\":{\"outlinewidth\":0,\"ticks\":\"\"}}],\"contour\":[{\"type\":\"contour\",\"colorbar\":{\"outlinewidth\":0,\"ticks\":\"\"},\"colorscale\":[[0.0,\"#0d0887\"],[0.1111111111111111,\"#46039f\"],[0.2222222222222222,\"#7201a8\"],[0.3333333333333333,\"#9c179e\"],[0.4444444444444444,\"#bd3786\"],[0.5555555555555556,\"#d8576b\"],[0.6666666666666666,\"#ed7953\"],[0.7777777777777778,\"#fb9f3a\"],[0.8888888888888888,\"#fdca26\"],[1.0,\"#f0f921\"]]}],\"surface\":[{\"type\":\"surface\",\"colorbar\":{\"outlinewidth\":0,\"ticks\":\"\"},\"colorscale\":[[0.0,\"#0d0887\"],[0.1111111111111111,\"#46039f\"],[0.2222222222222222,\"#7201a8\"],[0.3333333333333333,\"#9c179e\"],[0.4444444444444444,\"#bd3786\"],[0.5555555555555556,\"#d8576b\"],[0.6666666666666666,\"#ed7953\"],[0.7777777777777778,\"#fb9f3a\"],[0.8888888888888888,\"#fdca26\"],[1.0,\"#f0f921\"]]}],\"mesh3d\":[{\"type\":\"mesh3d\",\"colorbar\":{\"outlinewidth\":0,\"ticks\":\"\"}}],\"scatter\":[{\"fillpattern\":{\"fillmode\":\"overlay\",\"size\":10,\"solidity\":0.2},\"type\":\"scatter\"}],\"parcoords\":[{\"type\":\"parcoords\",\"line\":{\"colorbar\":{\"outlinewidth\":0,\"ticks\":\"\"}}}],\"scatterpolargl\":[{\"type\":\"scatterpolargl\",\"marker\":{\"colorbar\":{\"outlinewidth\":0,\"ticks\":\"\"}}}],\"bar\":[{\"error_x\":{\"color\":\"#2a3f5f\"},\"error_y\":{\"color\":\"#2a3f5f\"},\"marker\":{\"line\":{\"color\":\"#E5ECF6\",\"width\":0.5},\"pattern\":{\"fillmode\":\"overlay\",\"size\":10,\"solidity\":0.2}},\"type\":\"bar\"}],\"scattergeo\":[{\"type\":\"scattergeo\",\"marker\":{\"colorbar\":{\"outlinewidth\":0,\"ticks\":\"\"}}}],\"scatterpolar\":[{\"type\":\"scatterpolar\",\"marker\":{\"colorbar\":{\"outlinewidth\":0,\"ticks\":\"\"}}}],\"histogram\":[{\"marker\":{\"pattern\":{\"fillmode\":\"overlay\",\"size\":10,\"solidity\":0.2}},\"type\":\"histogram\"}],\"scattergl\":[{\"type\":\"scattergl\",\"marker\":{\"colorbar\":{\"outlinewidth\":0,\"ticks\":\"\"}}}],\"scatter3d\":[{\"type\":\"scatter3d\",\"line\":{\"colorbar\":{\"outlinewidth\":0,\"ticks\":\"\"}},\"marker\":{\"colorbar\":{\"outlinewidth\":0,\"ticks\":\"\"}}}],\"scattermapbox\":[{\"type\":\"scattermapbox\",\"marker\":{\"colorbar\":{\"outlinewidth\":0,\"ticks\":\"\"}}}],\"scatterternary\":[{\"type\":\"scatterternary\",\"marker\":{\"colorbar\":{\"outlinewidth\":0,\"ticks\":\"\"}}}],\"scattercarpet\":[{\"type\":\"scattercarpet\",\"marker\":{\"colorbar\":{\"outlinewidth\":0,\"ticks\":\"\"}}}],\"carpet\":[{\"aaxis\":{\"endlinecolor\":\"#2a3f5f\",\"gridcolor\":\"white\",\"linecolor\":\"white\",\"minorgridcolor\":\"white\",\"startlinecolor\":\"#2a3f5f\"},\"baxis\":{\"endlinecolor\":\"#2a3f5f\",\"gridcolor\":\"white\",\"linecolor\":\"white\",\"minorgridcolor\":\"white\",\"startlinecolor\":\"#2a3f5f\"},\"type\":\"carpet\"}],\"table\":[{\"cells\":{\"fill\":{\"color\":\"#EBF0F8\"},\"line\":{\"color\":\"white\"}},\"header\":{\"fill\":{\"color\":\"#C8D4E3\"},\"line\":{\"color\":\"white\"}},\"type\":\"table\"}],\"barpolar\":[{\"marker\":{\"line\":{\"color\":\"#E5ECF6\",\"width\":0.5},\"pattern\":{\"fillmode\":\"overlay\",\"size\":10,\"solidity\":0.2}},\"type\":\"barpolar\"}],\"pie\":[{\"automargin\":true,\"type\":\"pie\"}]},\"layout\":{\"autotypenumbers\":\"strict\",\"colorway\":[\"#636efa\",\"#EF553B\",\"#00cc96\",\"#ab63fa\",\"#FFA15A\",\"#19d3f3\",\"#FF6692\",\"#B6E880\",\"#FF97FF\",\"#FECB52\"],\"font\":{\"color\":\"#2a3f5f\"},\"hovermode\":\"closest\",\"hoverlabel\":{\"align\":\"left\"},\"paper_bgcolor\":\"white\",\"plot_bgcolor\":\"#E5ECF6\",\"polar\":{\"bgcolor\":\"#E5ECF6\",\"angularaxis\":{\"gridcolor\":\"white\",\"linecolor\":\"white\",\"ticks\":\"\"},\"radialaxis\":{\"gridcolor\":\"white\",\"linecolor\":\"white\",\"ticks\":\"\"}},\"ternary\":{\"bgcolor\":\"#E5ECF6\",\"aaxis\":{\"gridcolor\":\"white\",\"linecolor\":\"white\",\"ticks\":\"\"},\"baxis\":{\"gridcolor\":\"white\",\"linecolor\":\"white\",\"ticks\":\"\"},\"caxis\":{\"gridcolor\":\"white\",\"linecolor\":\"white\",\"ticks\":\"\"}},\"coloraxis\":{\"colorbar\":{\"outlinewidth\":0,\"ticks\":\"\"}},\"colorscale\":{\"sequential\":[[0.0,\"#0d0887\"],[0.1111111111111111,\"#46039f\"],[0.2222222222222222,\"#7201a8\"],[0.3333333333333333,\"#9c179e\"],[0.4444444444444444,\"#bd3786\"],[0.5555555555555556,\"#d8576b\"],[0.6666666666666666,\"#ed7953\"],[0.7777777777777778,\"#fb9f3a\"],[0.8888888888888888,\"#fdca26\"],[1.0,\"#f0f921\"]],\"sequentialminus\":[[0.0,\"#0d0887\"],[0.1111111111111111,\"#46039f\"],[0.2222222222222222,\"#7201a8\"],[0.3333333333333333,\"#9c179e\"],[0.4444444444444444,\"#bd3786\"],[0.5555555555555556,\"#d8576b\"],[0.6666666666666666,\"#ed7953\"],[0.7777777777777778,\"#fb9f3a\"],[0.8888888888888888,\"#fdca26\"],[1.0,\"#f0f921\"]],\"diverging\":[[0,\"#8e0152\"],[0.1,\"#c51b7d\"],[0.2,\"#de77ae\"],[0.3,\"#f1b6da\"],[0.4,\"#fde0ef\"],[0.5,\"#f7f7f7\"],[0.6,\"#e6f5d0\"],[0.7,\"#b8e186\"],[0.8,\"#7fbc41\"],[0.9,\"#4d9221\"],[1,\"#276419\"]]},\"xaxis\":{\"gridcolor\":\"white\",\"linecolor\":\"white\",\"ticks\":\"\",\"title\":{\"standoff\":15},\"zerolinecolor\":\"white\",\"automargin\":true,\"zerolinewidth\":2},\"yaxis\":{\"gridcolor\":\"white\",\"linecolor\":\"white\",\"ticks\":\"\",\"title\":{\"standoff\":15},\"zerolinecolor\":\"white\",\"automargin\":true,\"zerolinewidth\":2},\"scene\":{\"xaxis\":{\"backgroundcolor\":\"#E5ECF6\",\"gridcolor\":\"white\",\"linecolor\":\"white\",\"showbackground\":true,\"ticks\":\"\",\"zerolinecolor\":\"white\",\"gridwidth\":2},\"yaxis\":{\"backgroundcolor\":\"#E5ECF6\",\"gridcolor\":\"white\",\"linecolor\":\"white\",\"showbackground\":true,\"ticks\":\"\",\"zerolinecolor\":\"white\",\"gridwidth\":2},\"zaxis\":{\"backgroundcolor\":\"#E5ECF6\",\"gridcolor\":\"white\",\"linecolor\":\"white\",\"showbackground\":true,\"ticks\":\"\",\"zerolinecolor\":\"white\",\"gridwidth\":2}},\"shapedefaults\":{\"line\":{\"color\":\"#2a3f5f\"}},\"annotationdefaults\":{\"arrowcolor\":\"#2a3f5f\",\"arrowhead\":0,\"arrowwidth\":1},\"geo\":{\"bgcolor\":\"white\",\"landcolor\":\"#E5ECF6\",\"subunitcolor\":\"white\",\"showland\":true,\"showlakes\":true,\"lakecolor\":\"white\"},\"title\":{\"x\":0.05},\"mapbox\":{\"style\":\"light\"}}},\"xaxis\":{\"anchor\":\"y\",\"domain\":[0.0,1.0],\"title\":{\"text\":\"sugars\"}},\"yaxis\":{\"anchor\":\"x\",\"domain\":[0.0,1.0],\"title\":{\"text\":\"rating\"}},\"legend\":{\"tracegroupgap\":0},\"title\":{\"text\":\"Cereal_ratingsvs.sugars\"}},                        {\"responsive\": true}                    ).then(function(){\n",
              "                            \n",
              "var gd = document.getElementById('4d6a0a9f-e55e-4849-836b-3ecaf6821efd');\n",
              "var x = new MutationObserver(function (mutations, observer) {{\n",
              "        var display = window.getComputedStyle(gd).display;\n",
              "        if (!display || display === 'none') {{\n",
              "            console.log([gd, 'removed!']);\n",
              "            Plotly.purge(gd);\n",
              "            observer.disconnect();\n",
              "        }}\n",
              "}});\n",
              "\n",
              "// Listen for the removal of the full notebook cells\n",
              "var notebookContainer = gd.closest('#notebook-container');\n",
              "if (notebookContainer) {{\n",
              "    x.observe(notebookContainer, {childList: true});\n",
              "}}\n",
              "\n",
              "// Listen for the clearing of the current output cell\n",
              "var outputEl = gd.closest('.output');\n",
              "if (outputEl) {{\n",
              "    x.observe(outputEl, {childList: true});\n",
              "}}\n",
              "\n",
              "                        })                };                            </script>        </div>\n",
              "</body>\n",
              "</html>"
            ]
          },
          "metadata": {}
        }
      ]
    },
    {
      "cell_type": "markdown",
      "source": [
        "select box เอาไว้ซูมกราฟได้ ![image.png](data:image/png;base64,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)"
      ],
      "metadata": {
        "id": "RxKPerqux-nC"
      }
    },
    {
      "cell_type": "code",
      "source": [
        "fig = px.box(df,\n",
        "                x='sugars',\n",
        "                y='rating',\n",
        "                hover_name='name',\n",
        "                title='Cereal ratings vs. sugars')\n",
        "fig.show()"
      ],
      "metadata": {
        "id": "ki_FBJWLrMCx",
        "colab": {
          "base_uri": "https://localhost:8080/",
          "height": 542
        },
        "outputId": "a47ed586-a0b3-455e-ae50-04e6617a9bca"
      },
      "execution_count": 6,
      "outputs": [
        {
          "output_type": "display_data",
          "data": {
            "text/html": [
              "<html>\n",
              "<head><meta charset=\"utf-8\" /></head>\n",
              "<body>\n",
              "    <div>            <script src=\"https://cdnjs.cloudflare.com/ajax/libs/mathjax/2.7.5/MathJax.js?config=TeX-AMS-MML_SVG\"></script><script type=\"text/javascript\">if (window.MathJax && window.MathJax.Hub && window.MathJax.Hub.Config) {window.MathJax.Hub.Config({SVG: {font: \"STIX-Web\"}});}</script>                <script type=\"text/javascript\">window.PlotlyConfig = {MathJaxConfig: 'local'};</script>\n",
              "        <script charset=\"utf-8\" src=\"https://cdn.plot.ly/plotly-2.24.1.min.js\"></script>                <div id=\"2b07b7c4-7889-4554-8ca5-8e056d26d5f0\" class=\"plotly-graph-div\" style=\"height:525px; width:100%;\"></div>            <script type=\"text/javascript\">                                    window.PLOTLYENV=window.PLOTLYENV || {};                                    if (document.getElementById(\"2b07b7c4-7889-4554-8ca5-8e056d26d5f0\")) {                    Plotly.newPlot(                        \"2b07b7c4-7889-4554-8ca5-8e056d26d5f0\",                        [{\"alignmentgroup\":\"True\",\"hovertemplate\":\"\\u003cb\\u003e%{hovertext}\\u003c\\u002fb\\u003e\\u003cbr\\u003e\\u003cbr\\u003esugars=%{x}\\u003cbr\\u003erating=%{y}\\u003cextra\\u003e\\u003c\\u002fextra\\u003e\",\"hovertext\":[\"100% Bran\",\"100% Natural Bran\",\"All-Bran\",\"All-Bran with Extra Fiber\",\"Almond Delight\",\"Apple Cinnamon Cheerios\",\"Apple Jacks\",\"Basic 4\",\"Bran Chex\",\"Bran Flakes\",\"Cap'n'Crunch\",\"Cheerios\",\"Cinnamon Toast Crunch\",\"Clusters\",\"Cocoa Puffs\",\"Corn Chex\",\"Corn Flakes\",\"Corn Pops\",\"Count Chocula\",\"Cracklin' Oat Bran\",\"Cream of Wheat (Quick)\",\"Crispix\",\"Crispy Wheat & Raisins\",\"Double Chex\",\"Froot Loops\",\"Frosted Flakes\",\"Frosted Mini-Wheats\",\"Fruit & Fibre Dates, Walnuts, and Oats\",\"Fruitful Bran\",\"Fruity Pebbles\",\"Golden Crisp\",\"Golden Grahams\",\"Grape Nuts Flakes\",\"Grape-Nuts\",\"Great Grains Pecan\",\"Honey Graham Ohs\",\"Honey Nut Cheerios\",\"Honey-comb\",\"Just Right Crunchy  Nuggets\",\"Just Right Fruit & Nut\",\"Kix\",\"Life\",\"Lucky Charms\",\"Maypo\",\"Muesli Raisins, Dates, & Almonds\",\"Muesli Raisins, Peaches, & Pecans\",\"Mueslix Crispy Blend\",\"Multi-Grain Cheerios\",\"Nut&Honey Crunch\",\"Nutri-Grain Almond-Raisin\",\"Nutri-grain Wheat\",\"Oatmeal Raisin Crisp\",\"Post Nat. Raisin Bran\",\"Product 19\",\"Puffed Rice\",\"Puffed Wheat\",\"Quaker Oat Squares\",\"Quaker Oatmeal\",\"Raisin Bran\",\"Raisin Nut Bran\",\"Raisin Squares\",\"Rice Chex\",\"Rice Krispies\",\"Shredded Wheat\",\"Shredded Wheat 'n'Bran\",\"Shredded Wheat spoon size\",\"Smacks\",\"Special K\",\"Strawberry Fruit Wheats\",\"Total Corn Flakes\",\"Total Raisin Bran\",\"Total Whole Grain\",\"Triples\",\"Trix\",\"Wheat Chex\",\"Wheaties\",\"Wheaties Honey Gold\"],\"legendgroup\":\"\",\"marker\":{\"color\":\"#636efa\"},\"name\":\"\",\"notched\":false,\"offsetgroup\":\"\",\"orientation\":\"v\",\"showlegend\":false,\"x\":[6,8,5,0,8,10,14,8,6,5,12,1,9,7,13,3,2,12,13,7,0,3,10,5,13,11,7,10,12,12,15,9,5,3,4,11,10,11,6,9,3,6,12,3,11,11,13,6,9,7,2,10,14,3,0,0,6,-1,12,8,6,2,3,0,0,0,15,3,5,3,14,3,3,12,3,3,8],\"x0\":\" \",\"xaxis\":\"x\",\"y\":[68.4,33.98,59.43,93.7,34.38,29.51,33.17,37.04,49.12,53.31,18.04,50.76,19.82,40.4,22.74,41.45,45.86,35.78,22.4,40.45,64.53,46.9,36.18,44.33,32.21,31.44,58.35,40.92,41.02,28.03,35.25,23.8,52.08,53.37,45.81,21.87,31.07,28.74,36.52,36.47,39.24,45.33,26.73,54.85,37.14,34.14,30.31,40.11,29.92,40.69,59.64,30.45,37.84,41.5,60.76,63.01,49.51,50.83,39.26,39.7,55.33,42.0,40.56,68.24,74.47,72.8,31.23,53.13,59.36,38.84,28.59,46.66,39.11,27.75,49.79,51.59,36.19],\"y0\":\" \",\"yaxis\":\"y\",\"type\":\"box\"}],                        {\"template\":{\"data\":{\"histogram2dcontour\":[{\"type\":\"histogram2dcontour\",\"colorbar\":{\"outlinewidth\":0,\"ticks\":\"\"},\"colorscale\":[[0.0,\"#0d0887\"],[0.1111111111111111,\"#46039f\"],[0.2222222222222222,\"#7201a8\"],[0.3333333333333333,\"#9c179e\"],[0.4444444444444444,\"#bd3786\"],[0.5555555555555556,\"#d8576b\"],[0.6666666666666666,\"#ed7953\"],[0.7777777777777778,\"#fb9f3a\"],[0.8888888888888888,\"#fdca26\"],[1.0,\"#f0f921\"]]}],\"choropleth\":[{\"type\":\"choropleth\",\"colorbar\":{\"outlinewidth\":0,\"ticks\":\"\"}}],\"histogram2d\":[{\"type\":\"histogram2d\",\"colorbar\":{\"outlinewidth\":0,\"ticks\":\"\"},\"colorscale\":[[0.0,\"#0d0887\"],[0.1111111111111111,\"#46039f\"],[0.2222222222222222,\"#7201a8\"],[0.3333333333333333,\"#9c179e\"],[0.4444444444444444,\"#bd3786\"],[0.5555555555555556,\"#d8576b\"],[0.6666666666666666,\"#ed7953\"],[0.7777777777777778,\"#fb9f3a\"],[0.8888888888888888,\"#fdca26\"],[1.0,\"#f0f921\"]]}],\"heatmap\":[{\"type\":\"heatmap\",\"colorbar\":{\"outlinewidth\":0,\"ticks\":\"\"},\"colorscale\":[[0.0,\"#0d0887\"],[0.1111111111111111,\"#46039f\"],[0.2222222222222222,\"#7201a8\"],[0.3333333333333333,\"#9c179e\"],[0.4444444444444444,\"#bd3786\"],[0.5555555555555556,\"#d8576b\"],[0.6666666666666666,\"#ed7953\"],[0.7777777777777778,\"#fb9f3a\"],[0.8888888888888888,\"#fdca26\"],[1.0,\"#f0f921\"]]}],\"heatmapgl\":[{\"type\":\"heatmapgl\",\"colorbar\":{\"outlinewidth\":0,\"ticks\":\"\"},\"colorscale\":[[0.0,\"#0d0887\"],[0.1111111111111111,\"#46039f\"],[0.2222222222222222,\"#7201a8\"],[0.3333333333333333,\"#9c179e\"],[0.4444444444444444,\"#bd3786\"],[0.5555555555555556,\"#d8576b\"],[0.6666666666666666,\"#ed7953\"],[0.7777777777777778,\"#fb9f3a\"],[0.8888888888888888,\"#fdca26\"],[1.0,\"#f0f921\"]]}],\"contourcarpet\":[{\"type\":\"contourcarpet\",\"colorbar\":{\"outlinewidth\":0,\"ticks\":\"\"}}],\"contour\":[{\"type\":\"contour\",\"colorbar\":{\"outlinewidth\":0,\"ticks\":\"\"},\"colorscale\":[[0.0,\"#0d0887\"],[0.1111111111111111,\"#46039f\"],[0.2222222222222222,\"#7201a8\"],[0.3333333333333333,\"#9c179e\"],[0.4444444444444444,\"#bd3786\"],[0.5555555555555556,\"#d8576b\"],[0.6666666666666666,\"#ed7953\"],[0.7777777777777778,\"#fb9f3a\"],[0.8888888888888888,\"#fdca26\"],[1.0,\"#f0f921\"]]}],\"surface\":[{\"type\":\"surface\",\"colorbar\":{\"outlinewidth\":0,\"ticks\":\"\"},\"colorscale\":[[0.0,\"#0d0887\"],[0.1111111111111111,\"#46039f\"],[0.2222222222222222,\"#7201a8\"],[0.3333333333333333,\"#9c179e\"],[0.4444444444444444,\"#bd3786\"],[0.5555555555555556,\"#d8576b\"],[0.6666666666666666,\"#ed7953\"],[0.7777777777777778,\"#fb9f3a\"],[0.8888888888888888,\"#fdca26\"],[1.0,\"#f0f921\"]]}],\"mesh3d\":[{\"type\":\"mesh3d\",\"colorbar\":{\"outlinewidth\":0,\"ticks\":\"\"}}],\"scatter\":[{\"fillpattern\":{\"fillmode\":\"overlay\",\"size\":10,\"solidity\":0.2},\"type\":\"scatter\"}],\"parcoords\":[{\"type\":\"parcoords\",\"line\":{\"colorbar\":{\"outlinewidth\":0,\"ticks\":\"\"}}}],\"scatterpolargl\":[{\"type\":\"scatterpolargl\",\"marker\":{\"colorbar\":{\"outlinewidth\":0,\"ticks\":\"\"}}}],\"bar\":[{\"error_x\":{\"color\":\"#2a3f5f\"},\"error_y\":{\"color\":\"#2a3f5f\"},\"marker\":{\"line\":{\"color\":\"#E5ECF6\",\"width\":0.5},\"pattern\":{\"fillmode\":\"overlay\",\"size\":10,\"solidity\":0.2}},\"type\":\"bar\"}],\"scattergeo\":[{\"type\":\"scattergeo\",\"marker\":{\"colorbar\":{\"outlinewidth\":0,\"ticks\":\"\"}}}],\"scatterpolar\":[{\"type\":\"scatterpolar\",\"marker\":{\"colorbar\":{\"outlinewidth\":0,\"ticks\":\"\"}}}],\"histogram\":[{\"marker\":{\"pattern\":{\"fillmode\":\"overlay\",\"size\":10,\"solidity\":0.2}},\"type\":\"histogram\"}],\"scattergl\":[{\"type\":\"scattergl\",\"marker\":{\"colorbar\":{\"outlinewidth\":0,\"ticks\":\"\"}}}],\"scatter3d\":[{\"type\":\"scatter3d\",\"line\":{\"colorbar\":{\"outlinewidth\":0,\"ticks\":\"\"}},\"marker\":{\"colorbar\":{\"outlinewidth\":0,\"ticks\":\"\"}}}],\"scattermapbox\":[{\"type\":\"scattermapbox\",\"marker\":{\"colorbar\":{\"outlinewidth\":0,\"ticks\":\"\"}}}],\"scatterternary\":[{\"type\":\"scatterternary\",\"marker\":{\"colorbar\":{\"outlinewidth\":0,\"ticks\":\"\"}}}],\"scattercarpet\":[{\"type\":\"scattercarpet\",\"marker\":{\"colorbar\":{\"outlinewidth\":0,\"ticks\":\"\"}}}],\"carpet\":[{\"aaxis\":{\"endlinecolor\":\"#2a3f5f\",\"gridcolor\":\"white\",\"linecolor\":\"white\",\"minorgridcolor\":\"white\",\"startlinecolor\":\"#2a3f5f\"},\"baxis\":{\"endlinecolor\":\"#2a3f5f\",\"gridcolor\":\"white\",\"linecolor\":\"white\",\"minorgridcolor\":\"white\",\"startlinecolor\":\"#2a3f5f\"},\"type\":\"carpet\"}],\"table\":[{\"cells\":{\"fill\":{\"color\":\"#EBF0F8\"},\"line\":{\"color\":\"white\"}},\"header\":{\"fill\":{\"color\":\"#C8D4E3\"},\"line\":{\"color\":\"white\"}},\"type\":\"table\"}],\"barpolar\":[{\"marker\":{\"line\":{\"color\":\"#E5ECF6\",\"width\":0.5},\"pattern\":{\"fillmode\":\"overlay\",\"size\":10,\"solidity\":0.2}},\"type\":\"barpolar\"}],\"pie\":[{\"automargin\":true,\"type\":\"pie\"}]},\"layout\":{\"autotypenumbers\":\"strict\",\"colorway\":[\"#636efa\",\"#EF553B\",\"#00cc96\",\"#ab63fa\",\"#FFA15A\",\"#19d3f3\",\"#FF6692\",\"#B6E880\",\"#FF97FF\",\"#FECB52\"],\"font\":{\"color\":\"#2a3f5f\"},\"hovermode\":\"closest\",\"hoverlabel\":{\"align\":\"left\"},\"paper_bgcolor\":\"white\",\"plot_bgcolor\":\"#E5ECF6\",\"polar\":{\"bgcolor\":\"#E5ECF6\",\"angularaxis\":{\"gridcolor\":\"white\",\"linecolor\":\"white\",\"ticks\":\"\"},\"radialaxis\":{\"gridcolor\":\"white\",\"linecolor\":\"white\",\"ticks\":\"\"}},\"ternary\":{\"bgcolor\":\"#E5ECF6\",\"aaxis\":{\"gridcolor\":\"white\",\"linecolor\":\"white\",\"ticks\":\"\"},\"baxis\":{\"gridcolor\":\"white\",\"linecolor\":\"white\",\"ticks\":\"\"},\"caxis\":{\"gridcolor\":\"white\",\"linecolor\":\"white\",\"ticks\":\"\"}},\"coloraxis\":{\"colorbar\":{\"outlinewidth\":0,\"ticks\":\"\"}},\"colorscale\":{\"sequential\":[[0.0,\"#0d0887\"],[0.1111111111111111,\"#46039f\"],[0.2222222222222222,\"#7201a8\"],[0.3333333333333333,\"#9c179e\"],[0.4444444444444444,\"#bd3786\"],[0.5555555555555556,\"#d8576b\"],[0.6666666666666666,\"#ed7953\"],[0.7777777777777778,\"#fb9f3a\"],[0.8888888888888888,\"#fdca26\"],[1.0,\"#f0f921\"]],\"sequentialminus\":[[0.0,\"#0d0887\"],[0.1111111111111111,\"#46039f\"],[0.2222222222222222,\"#7201a8\"],[0.3333333333333333,\"#9c179e\"],[0.4444444444444444,\"#bd3786\"],[0.5555555555555556,\"#d8576b\"],[0.6666666666666666,\"#ed7953\"],[0.7777777777777778,\"#fb9f3a\"],[0.8888888888888888,\"#fdca26\"],[1.0,\"#f0f921\"]],\"diverging\":[[0,\"#8e0152\"],[0.1,\"#c51b7d\"],[0.2,\"#de77ae\"],[0.3,\"#f1b6da\"],[0.4,\"#fde0ef\"],[0.5,\"#f7f7f7\"],[0.6,\"#e6f5d0\"],[0.7,\"#b8e186\"],[0.8,\"#7fbc41\"],[0.9,\"#4d9221\"],[1,\"#276419\"]]},\"xaxis\":{\"gridcolor\":\"white\",\"linecolor\":\"white\",\"ticks\":\"\",\"title\":{\"standoff\":15},\"zerolinecolor\":\"white\",\"automargin\":true,\"zerolinewidth\":2},\"yaxis\":{\"gridcolor\":\"white\",\"linecolor\":\"white\",\"ticks\":\"\",\"title\":{\"standoff\":15},\"zerolinecolor\":\"white\",\"automargin\":true,\"zerolinewidth\":2},\"scene\":{\"xaxis\":{\"backgroundcolor\":\"#E5ECF6\",\"gridcolor\":\"white\",\"linecolor\":\"white\",\"showbackground\":true,\"ticks\":\"\",\"zerolinecolor\":\"white\",\"gridwidth\":2},\"yaxis\":{\"backgroundcolor\":\"#E5ECF6\",\"gridcolor\":\"white\",\"linecolor\":\"white\",\"showbackground\":true,\"ticks\":\"\",\"zerolinecolor\":\"white\",\"gridwidth\":2},\"zaxis\":{\"backgroundcolor\":\"#E5ECF6\",\"gridcolor\":\"white\",\"linecolor\":\"white\",\"showbackground\":true,\"ticks\":\"\",\"zerolinecolor\":\"white\",\"gridwidth\":2}},\"shapedefaults\":{\"line\":{\"color\":\"#2a3f5f\"}},\"annotationdefaults\":{\"arrowcolor\":\"#2a3f5f\",\"arrowhead\":0,\"arrowwidth\":1},\"geo\":{\"bgcolor\":\"white\",\"landcolor\":\"#E5ECF6\",\"subunitcolor\":\"white\",\"showland\":true,\"showlakes\":true,\"lakecolor\":\"white\"},\"title\":{\"x\":0.05},\"mapbox\":{\"style\":\"light\"}}},\"xaxis\":{\"anchor\":\"y\",\"domain\":[0.0,1.0],\"title\":{\"text\":\"sugars\"}},\"yaxis\":{\"anchor\":\"x\",\"domain\":[0.0,1.0],\"title\":{\"text\":\"rating\"}},\"legend\":{\"tracegroupgap\":0},\"title\":{\"text\":\"Cereal ratings vs. sugars\"},\"boxmode\":\"group\"},                        {\"responsive\": true}                    ).then(function(){\n",
              "                            \n",
              "var gd = document.getElementById('2b07b7c4-7889-4554-8ca5-8e056d26d5f0');\n",
              "var x = new MutationObserver(function (mutations, observer) {{\n",
              "        var display = window.getComputedStyle(gd).display;\n",
              "        if (!display || display === 'none') {{\n",
              "            console.log([gd, 'removed!']);\n",
              "            Plotly.purge(gd);\n",
              "            observer.disconnect();\n",
              "        }}\n",
              "}});\n",
              "\n",
              "// Listen for the removal of the full notebook cells\n",
              "var notebookContainer = gd.closest('#notebook-container');\n",
              "if (notebookContainer) {{\n",
              "    x.observe(notebookContainer, {childList: true});\n",
              "}}\n",
              "\n",
              "// Listen for the clearing of the current output cell\n",
              "var outputEl = gd.closest('.output');\n",
              "if (outputEl) {{\n",
              "    x.observe(outputEl, {childList: true});\n",
              "}}\n",
              "\n",
              "                        })                };                            </script>        </div>\n",
              "</body>\n",
              "</html>"
            ]
          },
          "metadata": {}
        }
      ]
    },
    {
      "cell_type": "code",
      "source": [
        "fig = px.histogram(df, x='rating', title='Rating distribution')#,nbins=7)\n",
        "fig.show()"
      ],
      "metadata": {
        "id": "R6xpYtyZguC2",
        "colab": {
          "base_uri": "https://localhost:8080/",
          "height": 542
        },
        "outputId": "8e11f020-1814-4696-b9b5-8d2910171f46"
      },
      "execution_count": 15,
      "outputs": [
        {
          "output_type": "display_data",
          "data": {
            "text/html": [
              "<html>\n",
              "<head><meta charset=\"utf-8\" /></head>\n",
              "<body>\n",
              "    <div>            <script src=\"https://cdnjs.cloudflare.com/ajax/libs/mathjax/2.7.5/MathJax.js?config=TeX-AMS-MML_SVG\"></script><script type=\"text/javascript\">if (window.MathJax && window.MathJax.Hub && window.MathJax.Hub.Config) {window.MathJax.Hub.Config({SVG: {font: \"STIX-Web\"}});}</script>                <script type=\"text/javascript\">window.PlotlyConfig = {MathJaxConfig: 'local'};</script>\n",
              "        <script charset=\"utf-8\" src=\"https://cdn.plot.ly/plotly-2.24.1.min.js\"></script>                <div id=\"11dbc842-c3b8-4266-b579-5f18276a0745\" class=\"plotly-graph-div\" style=\"height:525px; width:100%;\"></div>            <script type=\"text/javascript\">                                    window.PLOTLYENV=window.PLOTLYENV || {};                                    if (document.getElementById(\"11dbc842-c3b8-4266-b579-5f18276a0745\")) {                    Plotly.newPlot(                        \"11dbc842-c3b8-4266-b579-5f18276a0745\",                        [{\"alignmentgroup\":\"True\",\"bingroup\":\"x\",\"hovertemplate\":\"rating=%{x}\\u003cbr\\u003ecount=%{y}\\u003cextra\\u003e\\u003c\\u002fextra\\u003e\",\"legendgroup\":\"\",\"marker\":{\"color\":\"#636efa\",\"pattern\":{\"shape\":\"\"}},\"name\":\"\",\"offsetgroup\":\"\",\"orientation\":\"v\",\"showlegend\":false,\"x\":[68.4,33.98,59.43,93.7,34.38,29.51,33.17,37.04,49.12,53.31,18.04,50.76,19.82,40.4,22.74,41.45,45.86,35.78,22.4,40.45,64.53,46.9,36.18,44.33,32.21,31.44,58.35,40.92,41.02,28.03,35.25,23.8,52.08,53.37,45.81,21.87,31.07,28.74,36.52,36.47,39.24,45.33,26.73,54.85,37.14,34.14,30.31,40.11,29.92,40.69,59.64,30.45,37.84,41.5,60.76,63.01,49.51,50.83,39.26,39.7,55.33,42.0,40.56,68.24,74.47,72.8,31.23,53.13,59.36,38.84,28.59,46.66,39.11,27.75,49.79,51.59,36.19],\"xaxis\":\"x\",\"yaxis\":\"y\",\"type\":\"histogram\"}],                        {\"template\":{\"data\":{\"histogram2dcontour\":[{\"type\":\"histogram2dcontour\",\"colorbar\":{\"outlinewidth\":0,\"ticks\":\"\"},\"colorscale\":[[0.0,\"#0d0887\"],[0.1111111111111111,\"#46039f\"],[0.2222222222222222,\"#7201a8\"],[0.3333333333333333,\"#9c179e\"],[0.4444444444444444,\"#bd3786\"],[0.5555555555555556,\"#d8576b\"],[0.6666666666666666,\"#ed7953\"],[0.7777777777777778,\"#fb9f3a\"],[0.8888888888888888,\"#fdca26\"],[1.0,\"#f0f921\"]]}],\"choropleth\":[{\"type\":\"choropleth\",\"colorbar\":{\"outlinewidth\":0,\"ticks\":\"\"}}],\"histogram2d\":[{\"type\":\"histogram2d\",\"colorbar\":{\"outlinewidth\":0,\"ticks\":\"\"},\"colorscale\":[[0.0,\"#0d0887\"],[0.1111111111111111,\"#46039f\"],[0.2222222222222222,\"#7201a8\"],[0.3333333333333333,\"#9c179e\"],[0.4444444444444444,\"#bd3786\"],[0.5555555555555556,\"#d8576b\"],[0.6666666666666666,\"#ed7953\"],[0.7777777777777778,\"#fb9f3a\"],[0.8888888888888888,\"#fdca26\"],[1.0,\"#f0f921\"]]}],\"heatmap\":[{\"type\":\"heatmap\",\"colorbar\":{\"outlinewidth\":0,\"ticks\":\"\"},\"colorscale\":[[0.0,\"#0d0887\"],[0.1111111111111111,\"#46039f\"],[0.2222222222222222,\"#7201a8\"],[0.3333333333333333,\"#9c179e\"],[0.4444444444444444,\"#bd3786\"],[0.5555555555555556,\"#d8576b\"],[0.6666666666666666,\"#ed7953\"],[0.7777777777777778,\"#fb9f3a\"],[0.8888888888888888,\"#fdca26\"],[1.0,\"#f0f921\"]]}],\"heatmapgl\":[{\"type\":\"heatmapgl\",\"colorbar\":{\"outlinewidth\":0,\"ticks\":\"\"},\"colorscale\":[[0.0,\"#0d0887\"],[0.1111111111111111,\"#46039f\"],[0.2222222222222222,\"#7201a8\"],[0.3333333333333333,\"#9c179e\"],[0.4444444444444444,\"#bd3786\"],[0.5555555555555556,\"#d8576b\"],[0.6666666666666666,\"#ed7953\"],[0.7777777777777778,\"#fb9f3a\"],[0.8888888888888888,\"#fdca26\"],[1.0,\"#f0f921\"]]}],\"contourcarpet\":[{\"type\":\"contourcarpet\",\"colorbar\":{\"outlinewidth\":0,\"ticks\":\"\"}}],\"contour\":[{\"type\":\"contour\",\"colorbar\":{\"outlinewidth\":0,\"ticks\":\"\"},\"colorscale\":[[0.0,\"#0d0887\"],[0.1111111111111111,\"#46039f\"],[0.2222222222222222,\"#7201a8\"],[0.3333333333333333,\"#9c179e\"],[0.4444444444444444,\"#bd3786\"],[0.5555555555555556,\"#d8576b\"],[0.6666666666666666,\"#ed7953\"],[0.7777777777777778,\"#fb9f3a\"],[0.8888888888888888,\"#fdca26\"],[1.0,\"#f0f921\"]]}],\"surface\":[{\"type\":\"surface\",\"colorbar\":{\"outlinewidth\":0,\"ticks\":\"\"},\"colorscale\":[[0.0,\"#0d0887\"],[0.1111111111111111,\"#46039f\"],[0.2222222222222222,\"#7201a8\"],[0.3333333333333333,\"#9c179e\"],[0.4444444444444444,\"#bd3786\"],[0.5555555555555556,\"#d8576b\"],[0.6666666666666666,\"#ed7953\"],[0.7777777777777778,\"#fb9f3a\"],[0.8888888888888888,\"#fdca26\"],[1.0,\"#f0f921\"]]}],\"mesh3d\":[{\"type\":\"mesh3d\",\"colorbar\":{\"outlinewidth\":0,\"ticks\":\"\"}}],\"scatter\":[{\"fillpattern\":{\"fillmode\":\"overlay\",\"size\":10,\"solidity\":0.2},\"type\":\"scatter\"}],\"parcoords\":[{\"type\":\"parcoords\",\"line\":{\"colorbar\":{\"outlinewidth\":0,\"ticks\":\"\"}}}],\"scatterpolargl\":[{\"type\":\"scatterpolargl\",\"marker\":{\"colorbar\":{\"outlinewidth\":0,\"ticks\":\"\"}}}],\"bar\":[{\"error_x\":{\"color\":\"#2a3f5f\"},\"error_y\":{\"color\":\"#2a3f5f\"},\"marker\":{\"line\":{\"color\":\"#E5ECF6\",\"width\":0.5},\"pattern\":{\"fillmode\":\"overlay\",\"size\":10,\"solidity\":0.2}},\"type\":\"bar\"}],\"scattergeo\":[{\"type\":\"scattergeo\",\"marker\":{\"colorbar\":{\"outlinewidth\":0,\"ticks\":\"\"}}}],\"scatterpolar\":[{\"type\":\"scatterpolar\",\"marker\":{\"colorbar\":{\"outlinewidth\":0,\"ticks\":\"\"}}}],\"histogram\":[{\"marker\":{\"pattern\":{\"fillmode\":\"overlay\",\"size\":10,\"solidity\":0.2}},\"type\":\"histogram\"}],\"scattergl\":[{\"type\":\"scattergl\",\"marker\":{\"colorbar\":{\"outlinewidth\":0,\"ticks\":\"\"}}}],\"scatter3d\":[{\"type\":\"scatter3d\",\"line\":{\"colorbar\":{\"outlinewidth\":0,\"ticks\":\"\"}},\"marker\":{\"colorbar\":{\"outlinewidth\":0,\"ticks\":\"\"}}}],\"scattermapbox\":[{\"type\":\"scattermapbox\",\"marker\":{\"colorbar\":{\"outlinewidth\":0,\"ticks\":\"\"}}}],\"scatterternary\":[{\"type\":\"scatterternary\",\"marker\":{\"colorbar\":{\"outlinewidth\":0,\"ticks\":\"\"}}}],\"scattercarpet\":[{\"type\":\"scattercarpet\",\"marker\":{\"colorbar\":{\"outlinewidth\":0,\"ticks\":\"\"}}}],\"carpet\":[{\"aaxis\":{\"endlinecolor\":\"#2a3f5f\",\"gridcolor\":\"white\",\"linecolor\":\"white\",\"minorgridcolor\":\"white\",\"startlinecolor\":\"#2a3f5f\"},\"baxis\":{\"endlinecolor\":\"#2a3f5f\",\"gridcolor\":\"white\",\"linecolor\":\"white\",\"minorgridcolor\":\"white\",\"startlinecolor\":\"#2a3f5f\"},\"type\":\"carpet\"}],\"table\":[{\"cells\":{\"fill\":{\"color\":\"#EBF0F8\"},\"line\":{\"color\":\"white\"}},\"header\":{\"fill\":{\"color\":\"#C8D4E3\"},\"line\":{\"color\":\"white\"}},\"type\":\"table\"}],\"barpolar\":[{\"marker\":{\"line\":{\"color\":\"#E5ECF6\",\"width\":0.5},\"pattern\":{\"fillmode\":\"overlay\",\"size\":10,\"solidity\":0.2}},\"type\":\"barpolar\"}],\"pie\":[{\"automargin\":true,\"type\":\"pie\"}]},\"layout\":{\"autotypenumbers\":\"strict\",\"colorway\":[\"#636efa\",\"#EF553B\",\"#00cc96\",\"#ab63fa\",\"#FFA15A\",\"#19d3f3\",\"#FF6692\",\"#B6E880\",\"#FF97FF\",\"#FECB52\"],\"font\":{\"color\":\"#2a3f5f\"},\"hovermode\":\"closest\",\"hoverlabel\":{\"align\":\"left\"},\"paper_bgcolor\":\"white\",\"plot_bgcolor\":\"#E5ECF6\",\"polar\":{\"bgcolor\":\"#E5ECF6\",\"angularaxis\":{\"gridcolor\":\"white\",\"linecolor\":\"white\",\"ticks\":\"\"},\"radialaxis\":{\"gridcolor\":\"white\",\"linecolor\":\"white\",\"ticks\":\"\"}},\"ternary\":{\"bgcolor\":\"#E5ECF6\",\"aaxis\":{\"gridcolor\":\"white\",\"linecolor\":\"white\",\"ticks\":\"\"},\"baxis\":{\"gridcolor\":\"white\",\"linecolor\":\"white\",\"ticks\":\"\"},\"caxis\":{\"gridcolor\":\"white\",\"linecolor\":\"white\",\"ticks\":\"\"}},\"coloraxis\":{\"colorbar\":{\"outlinewidth\":0,\"ticks\":\"\"}},\"colorscale\":{\"sequential\":[[0.0,\"#0d0887\"],[0.1111111111111111,\"#46039f\"],[0.2222222222222222,\"#7201a8\"],[0.3333333333333333,\"#9c179e\"],[0.4444444444444444,\"#bd3786\"],[0.5555555555555556,\"#d8576b\"],[0.6666666666666666,\"#ed7953\"],[0.7777777777777778,\"#fb9f3a\"],[0.8888888888888888,\"#fdca26\"],[1.0,\"#f0f921\"]],\"sequentialminus\":[[0.0,\"#0d0887\"],[0.1111111111111111,\"#46039f\"],[0.2222222222222222,\"#7201a8\"],[0.3333333333333333,\"#9c179e\"],[0.4444444444444444,\"#bd3786\"],[0.5555555555555556,\"#d8576b\"],[0.6666666666666666,\"#ed7953\"],[0.7777777777777778,\"#fb9f3a\"],[0.8888888888888888,\"#fdca26\"],[1.0,\"#f0f921\"]],\"diverging\":[[0,\"#8e0152\"],[0.1,\"#c51b7d\"],[0.2,\"#de77ae\"],[0.3,\"#f1b6da\"],[0.4,\"#fde0ef\"],[0.5,\"#f7f7f7\"],[0.6,\"#e6f5d0\"],[0.7,\"#b8e186\"],[0.8,\"#7fbc41\"],[0.9,\"#4d9221\"],[1,\"#276419\"]]},\"xaxis\":{\"gridcolor\":\"white\",\"linecolor\":\"white\",\"ticks\":\"\",\"title\":{\"standoff\":15},\"zerolinecolor\":\"white\",\"automargin\":true,\"zerolinewidth\":2},\"yaxis\":{\"gridcolor\":\"white\",\"linecolor\":\"white\",\"ticks\":\"\",\"title\":{\"standoff\":15},\"zerolinecolor\":\"white\",\"automargin\":true,\"zerolinewidth\":2},\"scene\":{\"xaxis\":{\"backgroundcolor\":\"#E5ECF6\",\"gridcolor\":\"white\",\"linecolor\":\"white\",\"showbackground\":true,\"ticks\":\"\",\"zerolinecolor\":\"white\",\"gridwidth\":2},\"yaxis\":{\"backgroundcolor\":\"#E5ECF6\",\"gridcolor\":\"white\",\"linecolor\":\"white\",\"showbackground\":true,\"ticks\":\"\",\"zerolinecolor\":\"white\",\"gridwidth\":2},\"zaxis\":{\"backgroundcolor\":\"#E5ECF6\",\"gridcolor\":\"white\",\"linecolor\":\"white\",\"showbackground\":true,\"ticks\":\"\",\"zerolinecolor\":\"white\",\"gridwidth\":2}},\"shapedefaults\":{\"line\":{\"color\":\"#2a3f5f\"}},\"annotationdefaults\":{\"arrowcolor\":\"#2a3f5f\",\"arrowhead\":0,\"arrowwidth\":1},\"geo\":{\"bgcolor\":\"white\",\"landcolor\":\"#E5ECF6\",\"subunitcolor\":\"white\",\"showland\":true,\"showlakes\":true,\"lakecolor\":\"white\"},\"title\":{\"x\":0.05},\"mapbox\":{\"style\":\"light\"}}},\"xaxis\":{\"anchor\":\"y\",\"domain\":[0.0,1.0],\"title\":{\"text\":\"rating\"}},\"yaxis\":{\"anchor\":\"x\",\"domain\":[0.0,1.0],\"title\":{\"text\":\"count\"}},\"legend\":{\"tracegroupgap\":0},\"title\":{\"text\":\"Rating distribution\"},\"barmode\":\"relative\"},                        {\"responsive\": true}                    ).then(function(){\n",
              "                            \n",
              "var gd = document.getElementById('11dbc842-c3b8-4266-b579-5f18276a0745');\n",
              "var x = new MutationObserver(function (mutations, observer) {{\n",
              "        var display = window.getComputedStyle(gd).display;\n",
              "        if (!display || display === 'none') {{\n",
              "            console.log([gd, 'removed!']);\n",
              "            Plotly.purge(gd);\n",
              "            observer.disconnect();\n",
              "        }}\n",
              "}});\n",
              "\n",
              "// Listen for the removal of the full notebook cells\n",
              "var notebookContainer = gd.closest('#notebook-container');\n",
              "if (notebookContainer) {{\n",
              "    x.observe(notebookContainer, {childList: true});\n",
              "}}\n",
              "\n",
              "// Listen for the clearing of the current output cell\n",
              "var outputEl = gd.closest('.output');\n",
              "if (outputEl) {{\n",
              "    x.observe(outputEl, {childList: true});\n",
              "}}\n",
              "\n",
              "                        })                };                            </script>        </div>\n",
              "</body>\n",
              "</html>"
            ]
          },
          "metadata": {}
        }
      ]
    },
    {
      "cell_type": "code",
      "source": [
        "fig = px.histogram(df, x='sugars', title='Rating distribution',nbins=30, color = 'mfr') #สีแบ่งตามชื่อแบรน อันนี้มันบังคับว่าสีต้องเป็นชื่อคอลัมเท่านั้น\n",
        "fig.show()"
      ],
      "metadata": {
        "id": "SDDb6FIczIyp",
        "outputId": "71a5413d-c68e-4cef-9a5a-04c17c6e0600",
        "colab": {
          "base_uri": "https://localhost:8080/",
          "height": 542
        }
      },
      "execution_count": 27,
      "outputs": [
        {
          "output_type": "display_data",
          "data": {
            "text/html": [
              "<html>\n",
              "<head><meta charset=\"utf-8\" /></head>\n",
              "<body>\n",
              "    <div>            <script src=\"https://cdnjs.cloudflare.com/ajax/libs/mathjax/2.7.5/MathJax.js?config=TeX-AMS-MML_SVG\"></script><script type=\"text/javascript\">if (window.MathJax && window.MathJax.Hub && window.MathJax.Hub.Config) {window.MathJax.Hub.Config({SVG: {font: \"STIX-Web\"}});}</script>                <script type=\"text/javascript\">window.PlotlyConfig = {MathJaxConfig: 'local'};</script>\n",
              "        <script charset=\"utf-8\" src=\"https://cdn.plot.ly/plotly-2.24.1.min.js\"></script>                <div id=\"ffaff94f-a882-434d-8b9a-80c0a20fddef\" class=\"plotly-graph-div\" style=\"height:525px; width:100%;\"></div>            <script type=\"text/javascript\">                                    window.PLOTLYENV=window.PLOTLYENV || {};                                    if (document.getElementById(\"ffaff94f-a882-434d-8b9a-80c0a20fddef\")) {                    Plotly.newPlot(                        \"ffaff94f-a882-434d-8b9a-80c0a20fddef\",                        [{\"alignmentgroup\":\"True\",\"bingroup\":\"x\",\"hovertemplate\":\"mfr=Nabisco\\u003cbr\\u003esugars=%{x}\\u003cbr\\u003ecount=%{y}\\u003cextra\\u003e\\u003c\\u002fextra\\u003e\",\"legendgroup\":\"Nabisco\",\"marker\":{\"color\":\"#636efa\",\"pattern\":{\"shape\":\"\"}},\"name\":\"Nabisco\",\"nbinsx\":30,\"offsetgroup\":\"Nabisco\",\"orientation\":\"v\",\"showlegend\":true,\"x\":[6,0,0,0,0,5],\"xaxis\":\"x\",\"yaxis\":\"y\",\"type\":\"histogram\"},{\"alignmentgroup\":\"True\",\"bingroup\":\"x\",\"hovertemplate\":\"mfr=Quaker Oats\\u003cbr\\u003esugars=%{x}\\u003cbr\\u003ecount=%{y}\\u003cextra\\u003e\\u003c\\u002fextra\\u003e\",\"legendgroup\":\"Quaker Oats\",\"marker\":{\"color\":\"#EF553B\",\"pattern\":{\"shape\":\"\"}},\"name\":\"Quaker Oats\",\"nbinsx\":30,\"offsetgroup\":\"Quaker Oats\",\"orientation\":\"v\",\"showlegend\":true,\"x\":[8,12,11,6,0,0,6,-1],\"xaxis\":\"x\",\"yaxis\":\"y\",\"type\":\"histogram\"},{\"alignmentgroup\":\"True\",\"bingroup\":\"x\",\"hovertemplate\":\"mfr=Kellogs\\u003cbr\\u003esugars=%{x}\\u003cbr\\u003ecount=%{y}\\u003cextra\\u003e\\u003c\\u002fextra\\u003e\",\"legendgroup\":\"Kellogs\",\"marker\":{\"color\":\"#00cc96\",\"pattern\":{\"shape\":\"\"}},\"name\":\"Kellogs\",\"nbinsx\":30,\"offsetgroup\":\"Kellogs\",\"orientation\":\"v\",\"showlegend\":true,\"x\":[5,0,14,2,12,7,3,13,11,7,12,6,9,13,9,7,2,3,12,6,3,15,3],\"xaxis\":\"x\",\"yaxis\":\"y\",\"type\":\"histogram\"},{\"alignmentgroup\":\"True\",\"bingroup\":\"x\",\"hovertemplate\":\"mfr=Ralston Purina\\u003cbr\\u003esugars=%{x}\\u003cbr\\u003ecount=%{y}\\u003cextra\\u003e\\u003c\\u002fextra\\u003e\",\"legendgroup\":\"Ralston Purina\",\"marker\":{\"color\":\"#ab63fa\",\"pattern\":{\"shape\":\"\"}},\"name\":\"Ralston Purina\",\"nbinsx\":30,\"offsetgroup\":\"Ralston Purina\",\"orientation\":\"v\",\"showlegend\":true,\"x\":[8,6,3,5,11,11,2,3],\"xaxis\":\"x\",\"yaxis\":\"y\",\"type\":\"histogram\"},{\"alignmentgroup\":\"True\",\"bingroup\":\"x\",\"hovertemplate\":\"mfr=General Mills\\u003cbr\\u003esugars=%{x}\\u003cbr\\u003ecount=%{y}\\u003cextra\\u003e\\u003c\\u002fextra\\u003e\",\"legendgroup\":\"General Mills\",\"marker\":{\"color\":\"#FFA15A\",\"pattern\":{\"shape\":\"\"}},\"name\":\"General Mills\",\"nbinsx\":30,\"offsetgroup\":\"General Mills\",\"orientation\":\"v\",\"showlegend\":true,\"x\":[10,8,1,9,7,13,13,10,9,10,3,12,6,10,8,3,14,3,3,12,3,8],\"xaxis\":\"x\",\"yaxis\":\"y\",\"type\":\"histogram\"},{\"alignmentgroup\":\"True\",\"bingroup\":\"x\",\"hovertemplate\":\"mfr=Post\\u003cbr\\u003esugars=%{x}\\u003cbr\\u003ecount=%{y}\\u003cextra\\u003e\\u003c\\u002fextra\\u003e\",\"legendgroup\":\"Post\",\"marker\":{\"color\":\"#19d3f3\",\"pattern\":{\"shape\":\"\"}},\"name\":\"Post\",\"nbinsx\":30,\"offsetgroup\":\"Post\",\"orientation\":\"v\",\"showlegend\":true,\"x\":[5,10,12,15,5,3,4,11,14],\"xaxis\":\"x\",\"yaxis\":\"y\",\"type\":\"histogram\"},{\"alignmentgroup\":\"True\",\"bingroup\":\"x\",\"hovertemplate\":\"mfr=AM Home Food\\u003cbr\\u003esugars=%{x}\\u003cbr\\u003ecount=%{y}\\u003cextra\\u003e\\u003c\\u002fextra\\u003e\",\"legendgroup\":\"AM Home Food\",\"marker\":{\"color\":\"#FF6692\",\"pattern\":{\"shape\":\"\"}},\"name\":\"AM Home Food\",\"nbinsx\":30,\"offsetgroup\":\"AM Home Food\",\"orientation\":\"v\",\"showlegend\":true,\"x\":[3],\"xaxis\":\"x\",\"yaxis\":\"y\",\"type\":\"histogram\"}],                        {\"template\":{\"data\":{\"histogram2dcontour\":[{\"type\":\"histogram2dcontour\",\"colorbar\":{\"outlinewidth\":0,\"ticks\":\"\"},\"colorscale\":[[0.0,\"#0d0887\"],[0.1111111111111111,\"#46039f\"],[0.2222222222222222,\"#7201a8\"],[0.3333333333333333,\"#9c179e\"],[0.4444444444444444,\"#bd3786\"],[0.5555555555555556,\"#d8576b\"],[0.6666666666666666,\"#ed7953\"],[0.7777777777777778,\"#fb9f3a\"],[0.8888888888888888,\"#fdca26\"],[1.0,\"#f0f921\"]]}],\"choropleth\":[{\"type\":\"choropleth\",\"colorbar\":{\"outlinewidth\":0,\"ticks\":\"\"}}],\"histogram2d\":[{\"type\":\"histogram2d\",\"colorbar\":{\"outlinewidth\":0,\"ticks\":\"\"},\"colorscale\":[[0.0,\"#0d0887\"],[0.1111111111111111,\"#46039f\"],[0.2222222222222222,\"#7201a8\"],[0.3333333333333333,\"#9c179e\"],[0.4444444444444444,\"#bd3786\"],[0.5555555555555556,\"#d8576b\"],[0.6666666666666666,\"#ed7953\"],[0.7777777777777778,\"#fb9f3a\"],[0.8888888888888888,\"#fdca26\"],[1.0,\"#f0f921\"]]}],\"heatmap\":[{\"type\":\"heatmap\",\"colorbar\":{\"outlinewidth\":0,\"ticks\":\"\"},\"colorscale\":[[0.0,\"#0d0887\"],[0.1111111111111111,\"#46039f\"],[0.2222222222222222,\"#7201a8\"],[0.3333333333333333,\"#9c179e\"],[0.4444444444444444,\"#bd3786\"],[0.5555555555555556,\"#d8576b\"],[0.6666666666666666,\"#ed7953\"],[0.7777777777777778,\"#fb9f3a\"],[0.8888888888888888,\"#fdca26\"],[1.0,\"#f0f921\"]]}],\"heatmapgl\":[{\"type\":\"heatmapgl\",\"colorbar\":{\"outlinewidth\":0,\"ticks\":\"\"},\"colorscale\":[[0.0,\"#0d0887\"],[0.1111111111111111,\"#46039f\"],[0.2222222222222222,\"#7201a8\"],[0.3333333333333333,\"#9c179e\"],[0.4444444444444444,\"#bd3786\"],[0.5555555555555556,\"#d8576b\"],[0.6666666666666666,\"#ed7953\"],[0.7777777777777778,\"#fb9f3a\"],[0.8888888888888888,\"#fdca26\"],[1.0,\"#f0f921\"]]}],\"contourcarpet\":[{\"type\":\"contourcarpet\",\"colorbar\":{\"outlinewidth\":0,\"ticks\":\"\"}}],\"contour\":[{\"type\":\"contour\",\"colorbar\":{\"outlinewidth\":0,\"ticks\":\"\"},\"colorscale\":[[0.0,\"#0d0887\"],[0.1111111111111111,\"#46039f\"],[0.2222222222222222,\"#7201a8\"],[0.3333333333333333,\"#9c179e\"],[0.4444444444444444,\"#bd3786\"],[0.5555555555555556,\"#d8576b\"],[0.6666666666666666,\"#ed7953\"],[0.7777777777777778,\"#fb9f3a\"],[0.8888888888888888,\"#fdca26\"],[1.0,\"#f0f921\"]]}],\"surface\":[{\"type\":\"surface\",\"colorbar\":{\"outlinewidth\":0,\"ticks\":\"\"},\"colorscale\":[[0.0,\"#0d0887\"],[0.1111111111111111,\"#46039f\"],[0.2222222222222222,\"#7201a8\"],[0.3333333333333333,\"#9c179e\"],[0.4444444444444444,\"#bd3786\"],[0.5555555555555556,\"#d8576b\"],[0.6666666666666666,\"#ed7953\"],[0.7777777777777778,\"#fb9f3a\"],[0.8888888888888888,\"#fdca26\"],[1.0,\"#f0f921\"]]}],\"mesh3d\":[{\"type\":\"mesh3d\",\"colorbar\":{\"outlinewidth\":0,\"ticks\":\"\"}}],\"scatter\":[{\"fillpattern\":{\"fillmode\":\"overlay\",\"size\":10,\"solidity\":0.2},\"type\":\"scatter\"}],\"parcoords\":[{\"type\":\"parcoords\",\"line\":{\"colorbar\":{\"outlinewidth\":0,\"ticks\":\"\"}}}],\"scatterpolargl\":[{\"type\":\"scatterpolargl\",\"marker\":{\"colorbar\":{\"outlinewidth\":0,\"ticks\":\"\"}}}],\"bar\":[{\"error_x\":{\"color\":\"#2a3f5f\"},\"error_y\":{\"color\":\"#2a3f5f\"},\"marker\":{\"line\":{\"color\":\"#E5ECF6\",\"width\":0.5},\"pattern\":{\"fillmode\":\"overlay\",\"size\":10,\"solidity\":0.2}},\"type\":\"bar\"}],\"scattergeo\":[{\"type\":\"scattergeo\",\"marker\":{\"colorbar\":{\"outlinewidth\":0,\"ticks\":\"\"}}}],\"scatterpolar\":[{\"type\":\"scatterpolar\",\"marker\":{\"colorbar\":{\"outlinewidth\":0,\"ticks\":\"\"}}}],\"histogram\":[{\"marker\":{\"pattern\":{\"fillmode\":\"overlay\",\"size\":10,\"solidity\":0.2}},\"type\":\"histogram\"}],\"scattergl\":[{\"type\":\"scattergl\",\"marker\":{\"colorbar\":{\"outlinewidth\":0,\"ticks\":\"\"}}}],\"scatter3d\":[{\"type\":\"scatter3d\",\"line\":{\"colorbar\":{\"outlinewidth\":0,\"ticks\":\"\"}},\"marker\":{\"colorbar\":{\"outlinewidth\":0,\"ticks\":\"\"}}}],\"scattermapbox\":[{\"type\":\"scattermapbox\",\"marker\":{\"colorbar\":{\"outlinewidth\":0,\"ticks\":\"\"}}}],\"scatterternary\":[{\"type\":\"scatterternary\",\"marker\":{\"colorbar\":{\"outlinewidth\":0,\"ticks\":\"\"}}}],\"scattercarpet\":[{\"type\":\"scattercarpet\",\"marker\":{\"colorbar\":{\"outlinewidth\":0,\"ticks\":\"\"}}}],\"carpet\":[{\"aaxis\":{\"endlinecolor\":\"#2a3f5f\",\"gridcolor\":\"white\",\"linecolor\":\"white\",\"minorgridcolor\":\"white\",\"startlinecolor\":\"#2a3f5f\"},\"baxis\":{\"endlinecolor\":\"#2a3f5f\",\"gridcolor\":\"white\",\"linecolor\":\"white\",\"minorgridcolor\":\"white\",\"startlinecolor\":\"#2a3f5f\"},\"type\":\"carpet\"}],\"table\":[{\"cells\":{\"fill\":{\"color\":\"#EBF0F8\"},\"line\":{\"color\":\"white\"}},\"header\":{\"fill\":{\"color\":\"#C8D4E3\"},\"line\":{\"color\":\"white\"}},\"type\":\"table\"}],\"barpolar\":[{\"marker\":{\"line\":{\"color\":\"#E5ECF6\",\"width\":0.5},\"pattern\":{\"fillmode\":\"overlay\",\"size\":10,\"solidity\":0.2}},\"type\":\"barpolar\"}],\"pie\":[{\"automargin\":true,\"type\":\"pie\"}]},\"layout\":{\"autotypenumbers\":\"strict\",\"colorway\":[\"#636efa\",\"#EF553B\",\"#00cc96\",\"#ab63fa\",\"#FFA15A\",\"#19d3f3\",\"#FF6692\",\"#B6E880\",\"#FF97FF\",\"#FECB52\"],\"font\":{\"color\":\"#2a3f5f\"},\"hovermode\":\"closest\",\"hoverlabel\":{\"align\":\"left\"},\"paper_bgcolor\":\"white\",\"plot_bgcolor\":\"#E5ECF6\",\"polar\":{\"bgcolor\":\"#E5ECF6\",\"angularaxis\":{\"gridcolor\":\"white\",\"linecolor\":\"white\",\"ticks\":\"\"},\"radialaxis\":{\"gridcolor\":\"white\",\"linecolor\":\"white\",\"ticks\":\"\"}},\"ternary\":{\"bgcolor\":\"#E5ECF6\",\"aaxis\":{\"gridcolor\":\"white\",\"linecolor\":\"white\",\"ticks\":\"\"},\"baxis\":{\"gridcolor\":\"white\",\"linecolor\":\"white\",\"ticks\":\"\"},\"caxis\":{\"gridcolor\":\"white\",\"linecolor\":\"white\",\"ticks\":\"\"}},\"coloraxis\":{\"colorbar\":{\"outlinewidth\":0,\"ticks\":\"\"}},\"colorscale\":{\"sequential\":[[0.0,\"#0d0887\"],[0.1111111111111111,\"#46039f\"],[0.2222222222222222,\"#7201a8\"],[0.3333333333333333,\"#9c179e\"],[0.4444444444444444,\"#bd3786\"],[0.5555555555555556,\"#d8576b\"],[0.6666666666666666,\"#ed7953\"],[0.7777777777777778,\"#fb9f3a\"],[0.8888888888888888,\"#fdca26\"],[1.0,\"#f0f921\"]],\"sequentialminus\":[[0.0,\"#0d0887\"],[0.1111111111111111,\"#46039f\"],[0.2222222222222222,\"#7201a8\"],[0.3333333333333333,\"#9c179e\"],[0.4444444444444444,\"#bd3786\"],[0.5555555555555556,\"#d8576b\"],[0.6666666666666666,\"#ed7953\"],[0.7777777777777778,\"#fb9f3a\"],[0.8888888888888888,\"#fdca26\"],[1.0,\"#f0f921\"]],\"diverging\":[[0,\"#8e0152\"],[0.1,\"#c51b7d\"],[0.2,\"#de77ae\"],[0.3,\"#f1b6da\"],[0.4,\"#fde0ef\"],[0.5,\"#f7f7f7\"],[0.6,\"#e6f5d0\"],[0.7,\"#b8e186\"],[0.8,\"#7fbc41\"],[0.9,\"#4d9221\"],[1,\"#276419\"]]},\"xaxis\":{\"gridcolor\":\"white\",\"linecolor\":\"white\",\"ticks\":\"\",\"title\":{\"standoff\":15},\"zerolinecolor\":\"white\",\"automargin\":true,\"zerolinewidth\":2},\"yaxis\":{\"gridcolor\":\"white\",\"linecolor\":\"white\",\"ticks\":\"\",\"title\":{\"standoff\":15},\"zerolinecolor\":\"white\",\"automargin\":true,\"zerolinewidth\":2},\"scene\":{\"xaxis\":{\"backgroundcolor\":\"#E5ECF6\",\"gridcolor\":\"white\",\"linecolor\":\"white\",\"showbackground\":true,\"ticks\":\"\",\"zerolinecolor\":\"white\",\"gridwidth\":2},\"yaxis\":{\"backgroundcolor\":\"#E5ECF6\",\"gridcolor\":\"white\",\"linecolor\":\"white\",\"showbackground\":true,\"ticks\":\"\",\"zerolinecolor\":\"white\",\"gridwidth\":2},\"zaxis\":{\"backgroundcolor\":\"#E5ECF6\",\"gridcolor\":\"white\",\"linecolor\":\"white\",\"showbackground\":true,\"ticks\":\"\",\"zerolinecolor\":\"white\",\"gridwidth\":2}},\"shapedefaults\":{\"line\":{\"color\":\"#2a3f5f\"}},\"annotationdefaults\":{\"arrowcolor\":\"#2a3f5f\",\"arrowhead\":0,\"arrowwidth\":1},\"geo\":{\"bgcolor\":\"white\",\"landcolor\":\"#E5ECF6\",\"subunitcolor\":\"white\",\"showland\":true,\"showlakes\":true,\"lakecolor\":\"white\"},\"title\":{\"x\":0.05},\"mapbox\":{\"style\":\"light\"}}},\"xaxis\":{\"anchor\":\"y\",\"domain\":[0.0,1.0],\"title\":{\"text\":\"sugars\"}},\"yaxis\":{\"anchor\":\"x\",\"domain\":[0.0,1.0],\"title\":{\"text\":\"count\"}},\"legend\":{\"title\":{\"text\":\"mfr\"},\"tracegroupgap\":0},\"title\":{\"text\":\"Rating distribution\"},\"barmode\":\"relative\"},                        {\"responsive\": true}                    ).then(function(){\n",
              "                            \n",
              "var gd = document.getElementById('ffaff94f-a882-434d-8b9a-80c0a20fddef');\n",
              "var x = new MutationObserver(function (mutations, observer) {{\n",
              "        var display = window.getComputedStyle(gd).display;\n",
              "        if (!display || display === 'none') {{\n",
              "            console.log([gd, 'removed!']);\n",
              "            Plotly.purge(gd);\n",
              "            observer.disconnect();\n",
              "        }}\n",
              "}});\n",
              "\n",
              "// Listen for the removal of the full notebook cells\n",
              "var notebookContainer = gd.closest('#notebook-container');\n",
              "if (notebookContainer) {{\n",
              "    x.observe(notebookContainer, {childList: true});\n",
              "}}\n",
              "\n",
              "// Listen for the clearing of the current output cell\n",
              "var outputEl = gd.closest('.output');\n",
              "if (outputEl) {{\n",
              "    x.observe(outputEl, {childList: true});\n",
              "}}\n",
              "\n",
              "                        })                };                            </script>        </div>\n",
              "</body>\n",
              "</html>"
            ]
          },
          "metadata": {}
        }
      ]
    },
    {
      "cell_type": "markdown",
      "source": [
        "bin คือ จน กล่องที่เราต้องการ show"
      ],
      "metadata": {
        "id": "J4lQ6nVRyz48"
      }
    },
    {
      "cell_type": "code",
      "source": [
        "fig = px.scatter(df,\n",
        "                x='sugars',\n",
        "                y='rating',\n",
        "                color='mfr',\n",
        "                size='calories',\n",
        "                facet_row='shelf',\n",
        "                facet_col='type',\n",
        "                hover_name='name',\n",
        "                category_orders={'shelf': ['Top', 'Middle', 'Bottom']})\n",
        "fig.show()\n",
        "print(df.head())"
      ],
      "metadata": {
        "id": "Y4G2ASAtgySR",
        "colab": {
          "base_uri": "https://localhost:8080/",
          "height": 899
        },
        "outputId": "8cc68cac-5070-441e-ffd3-ce8f04fb5fef"
      },
      "execution_count": 8,
      "outputs": [
        {
          "output_type": "display_data",
          "data": {
            "text/html": [
              "<html>\n",
              "<head><meta charset=\"utf-8\" /></head>\n",
              "<body>\n",
              "    <div>            <script src=\"https://cdnjs.cloudflare.com/ajax/libs/mathjax/2.7.5/MathJax.js?config=TeX-AMS-MML_SVG\"></script><script type=\"text/javascript\">if (window.MathJax && window.MathJax.Hub && window.MathJax.Hub.Config) {window.MathJax.Hub.Config({SVG: {font: \"STIX-Web\"}});}</script>                <script type=\"text/javascript\">window.PlotlyConfig = {MathJaxConfig: 'local'};</script>\n",
              "        <script charset=\"utf-8\" src=\"https://cdn.plot.ly/plotly-2.24.1.min.js\"></script>                <div id=\"59a3a1e2-f047-49d3-b09f-913ecd6080d7\" class=\"plotly-graph-div\" style=\"height:525px; width:100%;\"></div>            <script type=\"text/javascript\">                                    window.PLOTLYENV=window.PLOTLYENV || {};                                    if (document.getElementById(\"59a3a1e2-f047-49d3-b09f-913ecd6080d7\")) {                    Plotly.newPlot(                        \"59a3a1e2-f047-49d3-b09f-913ecd6080d7\",                        [{\"hovertemplate\":\"\\u003cb\\u003e%{hovertext}\\u003c\\u002fb\\u003e\\u003cbr\\u003e\\u003cbr\\u003emfr=Nabisco\\u003cbr\\u003eshelf=Top\\u003cbr\\u003etype=Cold\\u003cbr\\u003esugars=%{x}\\u003cbr\\u003erating=%{y}\\u003cbr\\u003ecalories=%{marker.size}\\u003cextra\\u003e\\u003c\\u002fextra\\u003e\",\"hovertext\":[\"100% Bran\"],\"legendgroup\":\"Nabisco\",\"marker\":{\"color\":\"#636efa\",\"size\":[70],\"sizemode\":\"area\",\"sizeref\":0.4,\"symbol\":\"circle\"},\"mode\":\"markers\",\"name\":\"Nabisco\",\"orientation\":\"v\",\"showlegend\":true,\"x\":[6],\"xaxis\":\"x5\",\"y\":[68.4],\"yaxis\":\"y5\",\"type\":\"scatter\"},{\"hovertemplate\":\"\\u003cb\\u003e%{hovertext}\\u003c\\u002fb\\u003e\\u003cbr\\u003e\\u003cbr\\u003emfr=Nabisco\\u003cbr\\u003eshelf=Middle\\u003cbr\\u003etype=Cold\\u003cbr\\u003esugars=%{x}\\u003cbr\\u003erating=%{y}\\u003cbr\\u003ecalories=%{marker.size}\\u003cextra\\u003e\\u003c\\u002fextra\\u003e\",\"hovertext\":[\"Strawberry Fruit Wheats\"],\"legendgroup\":\"Nabisco\",\"marker\":{\"color\":\"#636efa\",\"size\":[90],\"sizemode\":\"area\",\"sizeref\":0.4,\"symbol\":\"circle\"},\"mode\":\"markers\",\"name\":\"Nabisco\",\"orientation\":\"v\",\"showlegend\":false,\"x\":[5],\"xaxis\":\"x3\",\"y\":[59.36],\"yaxis\":\"y3\",\"type\":\"scatter\"},{\"hovertemplate\":\"\\u003cb\\u003e%{hovertext}\\u003c\\u002fb\\u003e\\u003cbr\\u003e\\u003cbr\\u003emfr=Nabisco\\u003cbr\\u003eshelf=Middle\\u003cbr\\u003etype=Hot\\u003cbr\\u003esugars=%{x}\\u003cbr\\u003erating=%{y}\\u003cbr\\u003ecalories=%{marker.size}\\u003cextra\\u003e\\u003c\\u002fextra\\u003e\",\"hovertext\":[\"Cream of Wheat (Quick)\"],\"legendgroup\":\"Nabisco\",\"marker\":{\"color\":\"#636efa\",\"size\":[100],\"sizemode\":\"area\",\"sizeref\":0.4,\"symbol\":\"circle\"},\"mode\":\"markers\",\"name\":\"Nabisco\",\"orientation\":\"v\",\"showlegend\":false,\"x\":[0],\"xaxis\":\"x4\",\"y\":[64.53],\"yaxis\":\"y4\",\"type\":\"scatter\"},{\"hovertemplate\":\"\\u003cb\\u003e%{hovertext}\\u003c\\u002fb\\u003e\\u003cbr\\u003e\\u003cbr\\u003emfr=Nabisco\\u003cbr\\u003eshelf=Bottom\\u003cbr\\u003etype=Cold\\u003cbr\\u003esugars=%{x}\\u003cbr\\u003erating=%{y}\\u003cbr\\u003ecalories=%{marker.size}\\u003cextra\\u003e\\u003c\\u002fextra\\u003e\",\"hovertext\":[\"Shredded Wheat\",\"Shredded Wheat 'n'Bran\",\"Shredded Wheat spoon size\"],\"legendgroup\":\"Nabisco\",\"marker\":{\"color\":\"#636efa\",\"size\":[80,90,90],\"sizemode\":\"area\",\"sizeref\":0.4,\"symbol\":\"circle\"},\"mode\":\"markers\",\"name\":\"Nabisco\",\"orientation\":\"v\",\"showlegend\":false,\"x\":[0,0,0],\"xaxis\":\"x\",\"y\":[68.24,74.47,72.8],\"yaxis\":\"y\",\"type\":\"scatter\"},{\"hovertemplate\":\"\\u003cb\\u003e%{hovertext}\\u003c\\u002fb\\u003e\\u003cbr\\u003e\\u003cbr\\u003emfr=Quaker Oats\\u003cbr\\u003eshelf=Top\\u003cbr\\u003etype=Cold\\u003cbr\\u003esugars=%{x}\\u003cbr\\u003erating=%{y}\\u003cbr\\u003ecalories=%{marker.size}\\u003cextra\\u003e\\u003c\\u002fextra\\u003e\",\"hovertext\":[\"100% Natural Bran\",\"Puffed Rice\",\"Puffed Wheat\",\"Quaker Oat Squares\"],\"legendgroup\":\"Quaker Oats\",\"marker\":{\"color\":\"#EF553B\",\"size\":[120,50,50,100],\"sizemode\":\"area\",\"sizeref\":0.4,\"symbol\":\"circle\"},\"mode\":\"markers\",\"name\":\"Quaker Oats\",\"orientation\":\"v\",\"showlegend\":true,\"x\":[8,0,0,6],\"xaxis\":\"x5\",\"y\":[33.98,60.76,63.01,49.51],\"yaxis\":\"y5\",\"type\":\"scatter\"},{\"hovertemplate\":\"\\u003cb\\u003e%{hovertext}\\u003c\\u002fb\\u003e\\u003cbr\\u003e\\u003cbr\\u003emfr=Quaker Oats\\u003cbr\\u003eshelf=Middle\\u003cbr\\u003etype=Cold\\u003cbr\\u003esugars=%{x}\\u003cbr\\u003erating=%{y}\\u003cbr\\u003ecalories=%{marker.size}\\u003cextra\\u003e\\u003c\\u002fextra\\u003e\",\"hovertext\":[\"Cap'n'Crunch\",\"Honey Graham Ohs\",\"Life\"],\"legendgroup\":\"Quaker Oats\",\"marker\":{\"color\":\"#EF553B\",\"size\":[120,120,100],\"sizemode\":\"area\",\"sizeref\":0.4,\"symbol\":\"circle\"},\"mode\":\"markers\",\"name\":\"Quaker Oats\",\"orientation\":\"v\",\"showlegend\":false,\"x\":[12,11,6],\"xaxis\":\"x3\",\"y\":[18.04,21.87,45.33],\"yaxis\":\"y3\",\"type\":\"scatter\"},{\"hovertemplate\":\"\\u003cb\\u003e%{hovertext}\\u003c\\u002fb\\u003e\\u003cbr\\u003e\\u003cbr\\u003emfr=Quaker Oats\\u003cbr\\u003eshelf=Bottom\\u003cbr\\u003etype=Hot\\u003cbr\\u003esugars=%{x}\\u003cbr\\u003erating=%{y}\\u003cbr\\u003ecalories=%{marker.size}\\u003cextra\\u003e\\u003c\\u002fextra\\u003e\",\"hovertext\":[\"Quaker Oatmeal\"],\"legendgroup\":\"Quaker Oats\",\"marker\":{\"color\":\"#EF553B\",\"size\":[100],\"sizemode\":\"area\",\"sizeref\":0.4,\"symbol\":\"circle\"},\"mode\":\"markers\",\"name\":\"Quaker Oats\",\"orientation\":\"v\",\"showlegend\":false,\"x\":[-1],\"xaxis\":\"x2\",\"y\":[50.83],\"yaxis\":\"y2\",\"type\":\"scatter\"},{\"hovertemplate\":\"\\u003cb\\u003e%{hovertext}\\u003c\\u002fb\\u003e\\u003cbr\\u003e\\u003cbr\\u003emfr=Kellogs\\u003cbr\\u003eshelf=Top\\u003cbr\\u003etype=Cold\\u003cbr\\u003esugars=%{x}\\u003cbr\\u003erating=%{y}\\u003cbr\\u003ecalories=%{marker.size}\\u003cextra\\u003e\\u003c\\u002fextra\\u003e\",\"hovertext\":[\"All-Bran\",\"All-Bran with Extra Fiber\",\"Cracklin' Oat Bran\",\"Crispix\",\"Fruitful Bran\",\"Just Right Crunchy  Nuggets\",\"Just Right Fruit & Nut\",\"Mueslix Crispy Blend\",\"Nutri-Grain Almond-Raisin\",\"Nutri-grain Wheat\",\"Product 19\",\"Raisin Squares\"],\"legendgroup\":\"Kellogs\",\"marker\":{\"color\":\"#00cc96\",\"size\":[70,50,110,110,120,110,140,160,140,90,100,90],\"sizemode\":\"area\",\"sizeref\":0.4,\"symbol\":\"circle\"},\"mode\":\"markers\",\"name\":\"Kellogs\",\"orientation\":\"v\",\"showlegend\":true,\"x\":[5,0,7,3,12,6,9,13,7,2,3,6],\"xaxis\":\"x5\",\"y\":[59.43,93.7,40.45,46.9,41.02,36.52,36.47,30.31,40.69,59.64,41.5,55.33],\"yaxis\":\"y5\",\"type\":\"scatter\"},{\"hovertemplate\":\"\\u003cb\\u003e%{hovertext}\\u003c\\u002fb\\u003e\\u003cbr\\u003e\\u003cbr\\u003emfr=Kellogs\\u003cbr\\u003eshelf=Middle\\u003cbr\\u003etype=Cold\\u003cbr\\u003esugars=%{x}\\u003cbr\\u003erating=%{y}\\u003cbr\\u003ecalories=%{marker.size}\\u003cextra\\u003e\\u003c\\u002fextra\\u003e\",\"hovertext\":[\"Apple Jacks\",\"Corn Pops\",\"Froot Loops\",\"Frosted Mini-Wheats\",\"Nut&Honey Crunch\",\"Raisin Bran\",\"Smacks\"],\"legendgroup\":\"Kellogs\",\"marker\":{\"color\":\"#00cc96\",\"size\":[110,110,110,100,120,120,110],\"sizemode\":\"area\",\"sizeref\":0.4,\"symbol\":\"circle\"},\"mode\":\"markers\",\"name\":\"Kellogs\",\"orientation\":\"v\",\"showlegend\":false,\"x\":[14,12,13,7,9,12,15],\"xaxis\":\"x3\",\"y\":[33.17,35.78,32.21,58.35,29.92,39.26,31.23],\"yaxis\":\"y3\",\"type\":\"scatter\"},{\"hovertemplate\":\"\\u003cb\\u003e%{hovertext}\\u003c\\u002fb\\u003e\\u003cbr\\u003e\\u003cbr\\u003emfr=Kellogs\\u003cbr\\u003eshelf=Bottom\\u003cbr\\u003etype=Cold\\u003cbr\\u003esugars=%{x}\\u003cbr\\u003erating=%{y}\\u003cbr\\u003ecalories=%{marker.size}\\u003cextra\\u003e\\u003c\\u002fextra\\u003e\",\"hovertext\":[\"Corn Flakes\",\"Frosted Flakes\",\"Rice Krispies\",\"Special K\"],\"legendgroup\":\"Kellogs\",\"marker\":{\"color\":\"#00cc96\",\"size\":[100,110,110,110],\"sizemode\":\"area\",\"sizeref\":0.4,\"symbol\":\"circle\"},\"mode\":\"markers\",\"name\":\"Kellogs\",\"orientation\":\"v\",\"showlegend\":false,\"x\":[2,11,3,3],\"xaxis\":\"x\",\"y\":[45.86,31.44,40.56,53.13],\"yaxis\":\"y\",\"type\":\"scatter\"},{\"hovertemplate\":\"\\u003cb\\u003e%{hovertext}\\u003c\\u002fb\\u003e\\u003cbr\\u003e\\u003cbr\\u003emfr=Ralston Purina\\u003cbr\\u003eshelf=Top\\u003cbr\\u003etype=Cold\\u003cbr\\u003esugars=%{x}\\u003cbr\\u003erating=%{y}\\u003cbr\\u003ecalories=%{marker.size}\\u003cextra\\u003e\\u003c\\u002fextra\\u003e\",\"hovertext\":[\"Almond Delight\",\"Double Chex\",\"Muesli Raisins, Dates, & Almonds\",\"Muesli Raisins, Peaches, & Pecans\"],\"legendgroup\":\"Ralston Purina\",\"marker\":{\"color\":\"#ab63fa\",\"size\":[110,100,150,150],\"sizemode\":\"area\",\"sizeref\":0.4,\"symbol\":\"circle\"},\"mode\":\"markers\",\"name\":\"Ralston Purina\",\"orientation\":\"v\",\"showlegend\":true,\"x\":[8,5,11,11],\"xaxis\":\"x5\",\"y\":[34.38,44.33,37.14,34.14],\"yaxis\":\"y5\",\"type\":\"scatter\"},{\"hovertemplate\":\"\\u003cb\\u003e%{hovertext}\\u003c\\u002fb\\u003e\\u003cbr\\u003e\\u003cbr\\u003emfr=Ralston Purina\\u003cbr\\u003eshelf=Bottom\\u003cbr\\u003etype=Cold\\u003cbr\\u003esugars=%{x}\\u003cbr\\u003erating=%{y}\\u003cbr\\u003ecalories=%{marker.size}\\u003cextra\\u003e\\u003c\\u002fextra\\u003e\",\"hovertext\":[\"Bran Chex\",\"Corn Chex\",\"Rice Chex\",\"Wheat Chex\"],\"legendgroup\":\"Ralston Purina\",\"marker\":{\"color\":\"#ab63fa\",\"size\":[90,110,110,100],\"sizemode\":\"area\",\"sizeref\":0.4,\"symbol\":\"circle\"},\"mode\":\"markers\",\"name\":\"Ralston Purina\",\"orientation\":\"v\",\"showlegend\":false,\"x\":[6,3,2,3],\"xaxis\":\"x\",\"y\":[49.12,41.45,42.0,49.79],\"yaxis\":\"y\",\"type\":\"scatter\"},{\"hovertemplate\":\"\\u003cb\\u003e%{hovertext}\\u003c\\u002fb\\u003e\\u003cbr\\u003e\\u003cbr\\u003emfr=General Mills\\u003cbr\\u003eshelf=Top\\u003cbr\\u003etype=Cold\\u003cbr\\u003esugars=%{x}\\u003cbr\\u003erating=%{y}\\u003cbr\\u003ecalories=%{marker.size}\\u003cextra\\u003e\\u003c\\u002fextra\\u003e\",\"hovertext\":[\"Basic 4\",\"Clusters\",\"Crispy Wheat & Raisins\",\"Oatmeal Raisin Crisp\",\"Raisin Nut Bran\",\"Total Corn Flakes\",\"Total Raisin Bran\",\"Total Whole Grain\",\"Triples\"],\"legendgroup\":\"General Mills\",\"marker\":{\"color\":\"#FFA15A\",\"size\":[130,110,100,130,100,110,140,100,110],\"sizemode\":\"area\",\"sizeref\":0.4,\"symbol\":\"circle\"},\"mode\":\"markers\",\"name\":\"General Mills\",\"orientation\":\"v\",\"showlegend\":true,\"x\":[8,7,10,10,8,3,14,3,3],\"xaxis\":\"x5\",\"y\":[37.04,40.4,36.18,30.45,39.7,38.84,28.59,46.66,39.11],\"yaxis\":\"y5\",\"type\":\"scatter\"},{\"hovertemplate\":\"\\u003cb\\u003e%{hovertext}\\u003c\\u002fb\\u003e\\u003cbr\\u003e\\u003cbr\\u003emfr=General Mills\\u003cbr\\u003eshelf=Middle\\u003cbr\\u003etype=Cold\\u003cbr\\u003esugars=%{x}\\u003cbr\\u003erating=%{y}\\u003cbr\\u003ecalories=%{marker.size}\\u003cextra\\u003e\\u003c\\u002fextra\\u003e\",\"hovertext\":[\"Cinnamon Toast Crunch\",\"Cocoa Puffs\",\"Count Chocula\",\"Golden Grahams\",\"Kix\",\"Lucky Charms\",\"Trix\"],\"legendgroup\":\"General Mills\",\"marker\":{\"color\":\"#FFA15A\",\"size\":[120,110,110,110,110,110,110],\"sizemode\":\"area\",\"sizeref\":0.4,\"symbol\":\"circle\"},\"mode\":\"markers\",\"name\":\"General Mills\",\"orientation\":\"v\",\"showlegend\":false,\"x\":[9,13,13,9,3,12,12],\"xaxis\":\"x3\",\"y\":[19.82,22.74,22.4,23.8,39.24,26.73,27.75],\"yaxis\":\"y3\",\"type\":\"scatter\"},{\"hovertemplate\":\"\\u003cb\\u003e%{hovertext}\\u003c\\u002fb\\u003e\\u003cbr\\u003e\\u003cbr\\u003emfr=General Mills\\u003cbr\\u003eshelf=Bottom\\u003cbr\\u003etype=Cold\\u003cbr\\u003esugars=%{x}\\u003cbr\\u003erating=%{y}\\u003cbr\\u003ecalories=%{marker.size}\\u003cextra\\u003e\\u003c\\u002fextra\\u003e\",\"hovertext\":[\"Apple Cinnamon Cheerios\",\"Cheerios\",\"Honey Nut Cheerios\",\"Multi-Grain Cheerios\",\"Wheaties\",\"Wheaties Honey Gold\"],\"legendgroup\":\"General Mills\",\"marker\":{\"color\":\"#FFA15A\",\"size\":[110,110,110,100,100,110],\"sizemode\":\"area\",\"sizeref\":0.4,\"symbol\":\"circle\"},\"mode\":\"markers\",\"name\":\"General Mills\",\"orientation\":\"v\",\"showlegend\":false,\"x\":[10,1,10,6,3,8],\"xaxis\":\"x\",\"y\":[29.51,50.76,31.07,40.11,51.59,36.19],\"yaxis\":\"y\",\"type\":\"scatter\"},{\"hovertemplate\":\"\\u003cb\\u003e%{hovertext}\\u003c\\u002fb\\u003e\\u003cbr\\u003e\\u003cbr\\u003emfr=Post\\u003cbr\\u003eshelf=Top\\u003cbr\\u003etype=Cold\\u003cbr\\u003esugars=%{x}\\u003cbr\\u003erating=%{y}\\u003cbr\\u003ecalories=%{marker.size}\\u003cextra\\u003e\\u003c\\u002fextra\\u003e\",\"hovertext\":[\"Bran Flakes\",\"Fruit & Fibre Dates, Walnuts, and Oats\",\"Grape Nuts Flakes\",\"Grape-Nuts\",\"Great Grains Pecan\",\"Post Nat. Raisin Bran\"],\"legendgroup\":\"Post\",\"marker\":{\"color\":\"#19d3f3\",\"size\":[90,120,100,110,120,120],\"sizemode\":\"area\",\"sizeref\":0.4,\"symbol\":\"circle\"},\"mode\":\"markers\",\"name\":\"Post\",\"orientation\":\"v\",\"showlegend\":true,\"x\":[5,10,5,3,4,14],\"xaxis\":\"x5\",\"y\":[53.31,40.92,52.08,53.37,45.81,37.84],\"yaxis\":\"y5\",\"type\":\"scatter\"},{\"hovertemplate\":\"\\u003cb\\u003e%{hovertext}\\u003c\\u002fb\\u003e\\u003cbr\\u003e\\u003cbr\\u003emfr=Post\\u003cbr\\u003eshelf=Middle\\u003cbr\\u003etype=Cold\\u003cbr\\u003esugars=%{x}\\u003cbr\\u003erating=%{y}\\u003cbr\\u003ecalories=%{marker.size}\\u003cextra\\u003e\\u003c\\u002fextra\\u003e\",\"hovertext\":[\"Fruity Pebbles\"],\"legendgroup\":\"Post\",\"marker\":{\"color\":\"#19d3f3\",\"size\":[110],\"sizemode\":\"area\",\"sizeref\":0.4,\"symbol\":\"circle\"},\"mode\":\"markers\",\"name\":\"Post\",\"orientation\":\"v\",\"showlegend\":false,\"x\":[12],\"xaxis\":\"x3\",\"y\":[28.03],\"yaxis\":\"y3\",\"type\":\"scatter\"},{\"hovertemplate\":\"\\u003cb\\u003e%{hovertext}\\u003c\\u002fb\\u003e\\u003cbr\\u003e\\u003cbr\\u003emfr=Post\\u003cbr\\u003eshelf=Bottom\\u003cbr\\u003etype=Cold\\u003cbr\\u003esugars=%{x}\\u003cbr\\u003erating=%{y}\\u003cbr\\u003ecalories=%{marker.size}\\u003cextra\\u003e\\u003c\\u002fextra\\u003e\",\"hovertext\":[\"Golden Crisp\",\"Honey-comb\"],\"legendgroup\":\"Post\",\"marker\":{\"color\":\"#19d3f3\",\"size\":[100,110],\"sizemode\":\"area\",\"sizeref\":0.4,\"symbol\":\"circle\"},\"mode\":\"markers\",\"name\":\"Post\",\"orientation\":\"v\",\"showlegend\":false,\"x\":[15,11],\"xaxis\":\"x\",\"y\":[35.25,28.74],\"yaxis\":\"y\",\"type\":\"scatter\"},{\"hovertemplate\":\"\\u003cb\\u003e%{hovertext}\\u003c\\u002fb\\u003e\\u003cbr\\u003e\\u003cbr\\u003emfr=AM Home Food\\u003cbr\\u003eshelf=Middle\\u003cbr\\u003etype=Hot\\u003cbr\\u003esugars=%{x}\\u003cbr\\u003erating=%{y}\\u003cbr\\u003ecalories=%{marker.size}\\u003cextra\\u003e\\u003c\\u002fextra\\u003e\",\"hovertext\":[\"Maypo\"],\"legendgroup\":\"AM Home Food\",\"marker\":{\"color\":\"#FF6692\",\"size\":[100],\"sizemode\":\"area\",\"sizeref\":0.4,\"symbol\":\"circle\"},\"mode\":\"markers\",\"name\":\"AM Home Food\",\"orientation\":\"v\",\"showlegend\":true,\"x\":[3],\"xaxis\":\"x4\",\"y\":[54.85],\"yaxis\":\"y4\",\"type\":\"scatter\"}],                        {\"template\":{\"data\":{\"histogram2dcontour\":[{\"type\":\"histogram2dcontour\",\"colorbar\":{\"outlinewidth\":0,\"ticks\":\"\"},\"colorscale\":[[0.0,\"#0d0887\"],[0.1111111111111111,\"#46039f\"],[0.2222222222222222,\"#7201a8\"],[0.3333333333333333,\"#9c179e\"],[0.4444444444444444,\"#bd3786\"],[0.5555555555555556,\"#d8576b\"],[0.6666666666666666,\"#ed7953\"],[0.7777777777777778,\"#fb9f3a\"],[0.8888888888888888,\"#fdca26\"],[1.0,\"#f0f921\"]]}],\"choropleth\":[{\"type\":\"choropleth\",\"colorbar\":{\"outlinewidth\":0,\"ticks\":\"\"}}],\"histogram2d\":[{\"type\":\"histogram2d\",\"colorbar\":{\"outlinewidth\":0,\"ticks\":\"\"},\"colorscale\":[[0.0,\"#0d0887\"],[0.1111111111111111,\"#46039f\"],[0.2222222222222222,\"#7201a8\"],[0.3333333333333333,\"#9c179e\"],[0.4444444444444444,\"#bd3786\"],[0.5555555555555556,\"#d8576b\"],[0.6666666666666666,\"#ed7953\"],[0.7777777777777778,\"#fb9f3a\"],[0.8888888888888888,\"#fdca26\"],[1.0,\"#f0f921\"]]}],\"heatmap\":[{\"type\":\"heatmap\",\"colorbar\":{\"outlinewidth\":0,\"ticks\":\"\"},\"colorscale\":[[0.0,\"#0d0887\"],[0.1111111111111111,\"#46039f\"],[0.2222222222222222,\"#7201a8\"],[0.3333333333333333,\"#9c179e\"],[0.4444444444444444,\"#bd3786\"],[0.5555555555555556,\"#d8576b\"],[0.6666666666666666,\"#ed7953\"],[0.7777777777777778,\"#fb9f3a\"],[0.8888888888888888,\"#fdca26\"],[1.0,\"#f0f921\"]]}],\"heatmapgl\":[{\"type\":\"heatmapgl\",\"colorbar\":{\"outlinewidth\":0,\"ticks\":\"\"},\"colorscale\":[[0.0,\"#0d0887\"],[0.1111111111111111,\"#46039f\"],[0.2222222222222222,\"#7201a8\"],[0.3333333333333333,\"#9c179e\"],[0.4444444444444444,\"#bd3786\"],[0.5555555555555556,\"#d8576b\"],[0.6666666666666666,\"#ed7953\"],[0.7777777777777778,\"#fb9f3a\"],[0.8888888888888888,\"#fdca26\"],[1.0,\"#f0f921\"]]}],\"contourcarpet\":[{\"type\":\"contourcarpet\",\"colorbar\":{\"outlinewidth\":0,\"ticks\":\"\"}}],\"contour\":[{\"type\":\"contour\",\"colorbar\":{\"outlinewidth\":0,\"ticks\":\"\"},\"colorscale\":[[0.0,\"#0d0887\"],[0.1111111111111111,\"#46039f\"],[0.2222222222222222,\"#7201a8\"],[0.3333333333333333,\"#9c179e\"],[0.4444444444444444,\"#bd3786\"],[0.5555555555555556,\"#d8576b\"],[0.6666666666666666,\"#ed7953\"],[0.7777777777777778,\"#fb9f3a\"],[0.8888888888888888,\"#fdca26\"],[1.0,\"#f0f921\"]]}],\"surface\":[{\"type\":\"surface\",\"colorbar\":{\"outlinewidth\":0,\"ticks\":\"\"},\"colorscale\":[[0.0,\"#0d0887\"],[0.1111111111111111,\"#46039f\"],[0.2222222222222222,\"#7201a8\"],[0.3333333333333333,\"#9c179e\"],[0.4444444444444444,\"#bd3786\"],[0.5555555555555556,\"#d8576b\"],[0.6666666666666666,\"#ed7953\"],[0.7777777777777778,\"#fb9f3a\"],[0.8888888888888888,\"#fdca26\"],[1.0,\"#f0f921\"]]}],\"mesh3d\":[{\"type\":\"mesh3d\",\"colorbar\":{\"outlinewidth\":0,\"ticks\":\"\"}}],\"scatter\":[{\"fillpattern\":{\"fillmode\":\"overlay\",\"size\":10,\"solidity\":0.2},\"type\":\"scatter\"}],\"parcoords\":[{\"type\":\"parcoords\",\"line\":{\"colorbar\":{\"outlinewidth\":0,\"ticks\":\"\"}}}],\"scatterpolargl\":[{\"type\":\"scatterpolargl\",\"marker\":{\"colorbar\":{\"outlinewidth\":0,\"ticks\":\"\"}}}],\"bar\":[{\"error_x\":{\"color\":\"#2a3f5f\"},\"error_y\":{\"color\":\"#2a3f5f\"},\"marker\":{\"line\":{\"color\":\"#E5ECF6\",\"width\":0.5},\"pattern\":{\"fillmode\":\"overlay\",\"size\":10,\"solidity\":0.2}},\"type\":\"bar\"}],\"scattergeo\":[{\"type\":\"scattergeo\",\"marker\":{\"colorbar\":{\"outlinewidth\":0,\"ticks\":\"\"}}}],\"scatterpolar\":[{\"type\":\"scatterpolar\",\"marker\":{\"colorbar\":{\"outlinewidth\":0,\"ticks\":\"\"}}}],\"histogram\":[{\"marker\":{\"pattern\":{\"fillmode\":\"overlay\",\"size\":10,\"solidity\":0.2}},\"type\":\"histogram\"}],\"scattergl\":[{\"type\":\"scattergl\",\"marker\":{\"colorbar\":{\"outlinewidth\":0,\"ticks\":\"\"}}}],\"scatter3d\":[{\"type\":\"scatter3d\",\"line\":{\"colorbar\":{\"outlinewidth\":0,\"ticks\":\"\"}},\"marker\":{\"colorbar\":{\"outlinewidth\":0,\"ticks\":\"\"}}}],\"scattermapbox\":[{\"type\":\"scattermapbox\",\"marker\":{\"colorbar\":{\"outlinewidth\":0,\"ticks\":\"\"}}}],\"scatterternary\":[{\"type\":\"scatterternary\",\"marker\":{\"colorbar\":{\"outlinewidth\":0,\"ticks\":\"\"}}}],\"scattercarpet\":[{\"type\":\"scattercarpet\",\"marker\":{\"colorbar\":{\"outlinewidth\":0,\"ticks\":\"\"}}}],\"carpet\":[{\"aaxis\":{\"endlinecolor\":\"#2a3f5f\",\"gridcolor\":\"white\",\"linecolor\":\"white\",\"minorgridcolor\":\"white\",\"startlinecolor\":\"#2a3f5f\"},\"baxis\":{\"endlinecolor\":\"#2a3f5f\",\"gridcolor\":\"white\",\"linecolor\":\"white\",\"minorgridcolor\":\"white\",\"startlinecolor\":\"#2a3f5f\"},\"type\":\"carpet\"}],\"table\":[{\"cells\":{\"fill\":{\"color\":\"#EBF0F8\"},\"line\":{\"color\":\"white\"}},\"header\":{\"fill\":{\"color\":\"#C8D4E3\"},\"line\":{\"color\":\"white\"}},\"type\":\"table\"}],\"barpolar\":[{\"marker\":{\"line\":{\"color\":\"#E5ECF6\",\"width\":0.5},\"pattern\":{\"fillmode\":\"overlay\",\"size\":10,\"solidity\":0.2}},\"type\":\"barpolar\"}],\"pie\":[{\"automargin\":true,\"type\":\"pie\"}]},\"layout\":{\"autotypenumbers\":\"strict\",\"colorway\":[\"#636efa\",\"#EF553B\",\"#00cc96\",\"#ab63fa\",\"#FFA15A\",\"#19d3f3\",\"#FF6692\",\"#B6E880\",\"#FF97FF\",\"#FECB52\"],\"font\":{\"color\":\"#2a3f5f\"},\"hovermode\":\"closest\",\"hoverlabel\":{\"align\":\"left\"},\"paper_bgcolor\":\"white\",\"plot_bgcolor\":\"#E5ECF6\",\"polar\":{\"bgcolor\":\"#E5ECF6\",\"angularaxis\":{\"gridcolor\":\"white\",\"linecolor\":\"white\",\"ticks\":\"\"},\"radialaxis\":{\"gridcolor\":\"white\",\"linecolor\":\"white\",\"ticks\":\"\"}},\"ternary\":{\"bgcolor\":\"#E5ECF6\",\"aaxis\":{\"gridcolor\":\"white\",\"linecolor\":\"white\",\"ticks\":\"\"},\"baxis\":{\"gridcolor\":\"white\",\"linecolor\":\"white\",\"ticks\":\"\"},\"caxis\":{\"gridcolor\":\"white\",\"linecolor\":\"white\",\"ticks\":\"\"}},\"coloraxis\":{\"colorbar\":{\"outlinewidth\":0,\"ticks\":\"\"}},\"colorscale\":{\"sequential\":[[0.0,\"#0d0887\"],[0.1111111111111111,\"#46039f\"],[0.2222222222222222,\"#7201a8\"],[0.3333333333333333,\"#9c179e\"],[0.4444444444444444,\"#bd3786\"],[0.5555555555555556,\"#d8576b\"],[0.6666666666666666,\"#ed7953\"],[0.7777777777777778,\"#fb9f3a\"],[0.8888888888888888,\"#fdca26\"],[1.0,\"#f0f921\"]],\"sequentialminus\":[[0.0,\"#0d0887\"],[0.1111111111111111,\"#46039f\"],[0.2222222222222222,\"#7201a8\"],[0.3333333333333333,\"#9c179e\"],[0.4444444444444444,\"#bd3786\"],[0.5555555555555556,\"#d8576b\"],[0.6666666666666666,\"#ed7953\"],[0.7777777777777778,\"#fb9f3a\"],[0.8888888888888888,\"#fdca26\"],[1.0,\"#f0f921\"]],\"diverging\":[[0,\"#8e0152\"],[0.1,\"#c51b7d\"],[0.2,\"#de77ae\"],[0.3,\"#f1b6da\"],[0.4,\"#fde0ef\"],[0.5,\"#f7f7f7\"],[0.6,\"#e6f5d0\"],[0.7,\"#b8e186\"],[0.8,\"#7fbc41\"],[0.9,\"#4d9221\"],[1,\"#276419\"]]},\"xaxis\":{\"gridcolor\":\"white\",\"linecolor\":\"white\",\"ticks\":\"\",\"title\":{\"standoff\":15},\"zerolinecolor\":\"white\",\"automargin\":true,\"zerolinewidth\":2},\"yaxis\":{\"gridcolor\":\"white\",\"linecolor\":\"white\",\"ticks\":\"\",\"title\":{\"standoff\":15},\"zerolinecolor\":\"white\",\"automargin\":true,\"zerolinewidth\":2},\"scene\":{\"xaxis\":{\"backgroundcolor\":\"#E5ECF6\",\"gridcolor\":\"white\",\"linecolor\":\"white\",\"showbackground\":true,\"ticks\":\"\",\"zerolinecolor\":\"white\",\"gridwidth\":2},\"yaxis\":{\"backgroundcolor\":\"#E5ECF6\",\"gridcolor\":\"white\",\"linecolor\":\"white\",\"showbackground\":true,\"ticks\":\"\",\"zerolinecolor\":\"white\",\"gridwidth\":2},\"zaxis\":{\"backgroundcolor\":\"#E5ECF6\",\"gridcolor\":\"white\",\"linecolor\":\"white\",\"showbackground\":true,\"ticks\":\"\",\"zerolinecolor\":\"white\",\"gridwidth\":2}},\"shapedefaults\":{\"line\":{\"color\":\"#2a3f5f\"}},\"annotationdefaults\":{\"arrowcolor\":\"#2a3f5f\",\"arrowhead\":0,\"arrowwidth\":1},\"geo\":{\"bgcolor\":\"white\",\"landcolor\":\"#E5ECF6\",\"subunitcolor\":\"white\",\"showland\":true,\"showlakes\":true,\"lakecolor\":\"white\"},\"title\":{\"x\":0.05},\"mapbox\":{\"style\":\"light\"}}},\"xaxis\":{\"anchor\":\"y\",\"domain\":[0.0,0.48],\"title\":{\"text\":\"sugars\"}},\"yaxis\":{\"anchor\":\"x\",\"domain\":[0.0,0.3133333333333333],\"title\":{\"text\":\"rating\"}},\"xaxis2\":{\"anchor\":\"y2\",\"domain\":[0.5,0.98],\"matches\":\"x\",\"title\":{\"text\":\"sugars\"}},\"yaxis2\":{\"anchor\":\"x2\",\"domain\":[0.0,0.3133333333333333],\"matches\":\"y\",\"showticklabels\":false},\"xaxis3\":{\"anchor\":\"y3\",\"domain\":[0.0,0.48],\"matches\":\"x\",\"showticklabels\":false},\"yaxis3\":{\"anchor\":\"x3\",\"domain\":[0.34333333333333327,0.6566666666666665],\"matches\":\"y\",\"title\":{\"text\":\"rating\"}},\"xaxis4\":{\"anchor\":\"y4\",\"domain\":[0.5,0.98],\"matches\":\"x\",\"showticklabels\":false},\"yaxis4\":{\"anchor\":\"x4\",\"domain\":[0.34333333333333327,0.6566666666666665],\"matches\":\"y\",\"showticklabels\":false},\"xaxis5\":{\"anchor\":\"y5\",\"domain\":[0.0,0.48],\"matches\":\"x\",\"showticklabels\":false},\"yaxis5\":{\"anchor\":\"x5\",\"domain\":[0.6866666666666665,0.9999999999999998],\"matches\":\"y\",\"title\":{\"text\":\"rating\"}},\"xaxis6\":{\"anchor\":\"y6\",\"domain\":[0.5,0.98],\"matches\":\"x\",\"showticklabels\":false},\"yaxis6\":{\"anchor\":\"x6\",\"domain\":[0.6866666666666665,0.9999999999999998],\"matches\":\"y\",\"showticklabels\":false},\"annotations\":[{\"font\":{},\"showarrow\":false,\"text\":\"type=Cold\",\"x\":0.24,\"xanchor\":\"center\",\"xref\":\"paper\",\"y\":0.9999999999999998,\"yanchor\":\"bottom\",\"yref\":\"paper\"},{\"font\":{},\"showarrow\":false,\"text\":\"type=Hot\",\"x\":0.74,\"xanchor\":\"center\",\"xref\":\"paper\",\"y\":0.9999999999999998,\"yanchor\":\"bottom\",\"yref\":\"paper\"},{\"font\":{},\"showarrow\":false,\"text\":\"shelf=Bottom\",\"textangle\":90,\"x\":0.98,\"xanchor\":\"left\",\"xref\":\"paper\",\"y\":0.15666666666666665,\"yanchor\":\"middle\",\"yref\":\"paper\"},{\"font\":{},\"showarrow\":false,\"text\":\"shelf=Middle\",\"textangle\":90,\"x\":0.98,\"xanchor\":\"left\",\"xref\":\"paper\",\"y\":0.4999999999999999,\"yanchor\":\"middle\",\"yref\":\"paper\"},{\"font\":{},\"showarrow\":false,\"text\":\"shelf=Top\",\"textangle\":90,\"x\":0.98,\"xanchor\":\"left\",\"xref\":\"paper\",\"y\":0.8433333333333332,\"yanchor\":\"middle\",\"yref\":\"paper\"}],\"legend\":{\"title\":{\"text\":\"mfr\"},\"tracegroupgap\":0,\"itemsizing\":\"constant\"},\"margin\":{\"t\":60}},                        {\"responsive\": true}                    ).then(function(){\n",
              "                            \n",
              "var gd = document.getElementById('59a3a1e2-f047-49d3-b09f-913ecd6080d7');\n",
              "var x = new MutationObserver(function (mutations, observer) {{\n",
              "        var display = window.getComputedStyle(gd).display;\n",
              "        if (!display || display === 'none') {{\n",
              "            console.log([gd, 'removed!']);\n",
              "            Plotly.purge(gd);\n",
              "            observer.disconnect();\n",
              "        }}\n",
              "}});\n",
              "\n",
              "// Listen for the removal of the full notebook cells\n",
              "var notebookContainer = gd.closest('#notebook-container');\n",
              "if (notebookContainer) {{\n",
              "    x.observe(notebookContainer, {childList: true});\n",
              "}}\n",
              "\n",
              "// Listen for the clearing of the current output cell\n",
              "var outputEl = gd.closest('.output');\n",
              "if (outputEl) {{\n",
              "    x.observe(outputEl, {childList: true});\n",
              "}}\n",
              "\n",
              "                        })                };                            </script>        </div>\n",
              "</body>\n",
              "</html>"
            ]
          },
          "metadata": {}
        },
        {
          "output_type": "stream",
          "name": "stdout",
          "text": [
            "                        name             mfr  type  calories  protein  fat  \\\n",
            "0                  100% Bran         Nabisco  Cold        70        4    1   \n",
            "1          100% Natural Bran     Quaker Oats  Cold       120        3    5   \n",
            "2                   All-Bran         Kellogs  Cold        70        4    1   \n",
            "3  All-Bran with Extra Fiber         Kellogs  Cold        50        4    0   \n",
            "4             Almond Delight  Ralston Purina  Cold       110        2    2   \n",
            "\n",
            "   sodium  fiber  carbo  sugars  potass  vitamins shelf  weight  cups  rating  \\\n",
            "0     130   10.0    5.0       6     280        25   Top     1.0  0.33   68.40   \n",
            "1      15    2.0    8.0       8     135         0   Top     1.0  1.00   33.98   \n",
            "2     260    9.0    7.0       5     320        25   Top     1.0  0.33   59.43   \n",
            "3     140   14.0    8.0       0     330        25   Top     1.0  0.50   93.70   \n",
            "4     200    1.0   14.0       8      -1        25   Top     1.0  0.75   34.38   \n",
            "\n",
            "   cereal  \n",
            "0       1  \n",
            "1       1  \n",
            "2       1  \n",
            "3       1  \n",
            "4       1  \n"
          ]
        }
      ]
    },
    {
      "cell_type": "code",
      "source": [
        "fig = px.treemap(df, path=['mfr', 'shelf','calories'], values='cereal', title='Cereals by shelf location')   #title is information\n",
        "fig.show()"
      ],
      "metadata": {
        "id": "Bs4Wvsgdg7TD",
        "colab": {
          "base_uri": "https://localhost:8080/",
          "height": 542
        },
        "outputId": "7e5b6255-7dae-4ee1-bf28-eab5314193d0"
      },
      "execution_count": 9,
      "outputs": [
        {
          "output_type": "display_data",
          "data": {
            "text/html": [
              "<html>\n",
              "<head><meta charset=\"utf-8\" /></head>\n",
              "<body>\n",
              "    <div>            <script src=\"https://cdnjs.cloudflare.com/ajax/libs/mathjax/2.7.5/MathJax.js?config=TeX-AMS-MML_SVG\"></script><script type=\"text/javascript\">if (window.MathJax && window.MathJax.Hub && window.MathJax.Hub.Config) {window.MathJax.Hub.Config({SVG: {font: \"STIX-Web\"}});}</script>                <script type=\"text/javascript\">window.PlotlyConfig = {MathJaxConfig: 'local'};</script>\n",
              "        <script charset=\"utf-8\" src=\"https://cdn.plot.ly/plotly-2.24.1.min.js\"></script>                <div id=\"25843b52-e420-4726-b90e-219d0ac3535c\" class=\"plotly-graph-div\" style=\"height:525px; width:100%;\"></div>            <script type=\"text/javascript\">                                    window.PLOTLYENV=window.PLOTLYENV || {};                                    if (document.getElementById(\"25843b52-e420-4726-b90e-219d0ac3535c\")) {                    Plotly.newPlot(                        \"25843b52-e420-4726-b90e-219d0ac3535c\",                        [{\"branchvalues\":\"total\",\"domain\":{\"x\":[0.0,1.0],\"y\":[0.0,1.0]},\"hovertemplate\":\"labels=%{label}\\u003cbr\\u003ecereal=%{value}\\u003cbr\\u003eparent=%{parent}\\u003cbr\\u003eid=%{id}\\u003cextra\\u003e\\u003c\\u002fextra\\u003e\",\"ids\":[\"Kellogs\\u002fTop\\u002f50\",\"Quaker Oats\\u002fTop\\u002f50\",\"Kellogs\\u002fTop\\u002f70\",\"Nabisco\\u002fTop\\u002f70\",\"Nabisco\\u002fBottom\\u002f80\",\"Nabisco\\u002fBottom\\u002f90\",\"Ralston Purina\\u002fBottom\\u002f90\",\"Nabisco\\u002fMiddle\\u002f90\",\"Kellogs\\u002fTop\\u002f90\",\"Post\\u002fTop\\u002f90\",\"General Mills\\u002fBottom\\u002f100\",\"Kellogs\\u002fBottom\\u002f100\",\"Post\\u002fBottom\\u002f100\",\"Quaker Oats\\u002fBottom\\u002f100\",\"Ralston Purina\\u002fBottom\\u002f100\",\"AM Home Food\\u002fMiddle\\u002f100\",\"Kellogs\\u002fMiddle\\u002f100\",\"Nabisco\\u002fMiddle\\u002f100\",\"Quaker Oats\\u002fMiddle\\u002f100\",\"General Mills\\u002fTop\\u002f100\",\"Kellogs\\u002fTop\\u002f100\",\"Post\\u002fTop\\u002f100\",\"Quaker Oats\\u002fTop\\u002f100\",\"Ralston Purina\\u002fTop\\u002f100\",\"General Mills\\u002fBottom\\u002f110\",\"Kellogs\\u002fBottom\\u002f110\",\"Post\\u002fBottom\\u002f110\",\"Ralston Purina\\u002fBottom\\u002f110\",\"General Mills\\u002fMiddle\\u002f110\",\"Kellogs\\u002fMiddle\\u002f110\",\"Post\\u002fMiddle\\u002f110\",\"General Mills\\u002fTop\\u002f110\",\"Kellogs\\u002fTop\\u002f110\",\"Post\\u002fTop\\u002f110\",\"Ralston Purina\\u002fTop\\u002f110\",\"General Mills\\u002fMiddle\\u002f120\",\"Kellogs\\u002fMiddle\\u002f120\",\"Quaker Oats\\u002fMiddle\\u002f120\",\"Kellogs\\u002fTop\\u002f120\",\"Post\\u002fTop\\u002f120\",\"Quaker Oats\\u002fTop\\u002f120\",\"General Mills\\u002fTop\\u002f130\",\"General Mills\\u002fTop\\u002f140\",\"Kellogs\\u002fTop\\u002f140\",\"Ralston Purina\\u002fTop\\u002f150\",\"Kellogs\\u002fTop\\u002f160\",\"General Mills\\u002fBottom\",\"Kellogs\\u002fBottom\",\"Nabisco\\u002fBottom\",\"Post\\u002fBottom\",\"Quaker Oats\\u002fBottom\",\"Ralston Purina\\u002fBottom\",\"AM Home Food\\u002fMiddle\",\"General Mills\\u002fMiddle\",\"Kellogs\\u002fMiddle\",\"Nabisco\\u002fMiddle\",\"Post\\u002fMiddle\",\"Quaker Oats\\u002fMiddle\",\"General Mills\\u002fTop\",\"Kellogs\\u002fTop\",\"Nabisco\\u002fTop\",\"Post\\u002fTop\",\"Quaker Oats\\u002fTop\",\"Ralston Purina\\u002fTop\",\"AM Home Food\",\"General Mills\",\"Kellogs\",\"Nabisco\",\"Post\",\"Quaker Oats\",\"Ralston Purina\"],\"labels\":[\"50\",\"50\",\"70\",\"70\",\"80\",\"90\",\"90\",\"90\",\"90\",\"90\",\"100\",\"100\",\"100\",\"100\",\"100\",\"100\",\"100\",\"100\",\"100\",\"100\",\"100\",\"100\",\"100\",\"100\",\"110\",\"110\",\"110\",\"110\",\"110\",\"110\",\"110\",\"110\",\"110\",\"110\",\"110\",\"120\",\"120\",\"120\",\"120\",\"120\",\"120\",\"130\",\"140\",\"140\",\"150\",\"160\",\"Bottom\",\"Bottom\",\"Bottom\",\"Bottom\",\"Bottom\",\"Bottom\",\"Middle\",\"Middle\",\"Middle\",\"Middle\",\"Middle\",\"Middle\",\"Top\",\"Top\",\"Top\",\"Top\",\"Top\",\"Top\",\"AM Home Food\",\"General Mills\",\"Kellogs\",\"Nabisco\",\"Post\",\"Quaker Oats\",\"Ralston Purina\"],\"name\":\"\",\"parents\":[\"Kellogs\\u002fTop\",\"Quaker Oats\\u002fTop\",\"Kellogs\\u002fTop\",\"Nabisco\\u002fTop\",\"Nabisco\\u002fBottom\",\"Nabisco\\u002fBottom\",\"Ralston Purina\\u002fBottom\",\"Nabisco\\u002fMiddle\",\"Kellogs\\u002fTop\",\"Post\\u002fTop\",\"General Mills\\u002fBottom\",\"Kellogs\\u002fBottom\",\"Post\\u002fBottom\",\"Quaker Oats\\u002fBottom\",\"Ralston Purina\\u002fBottom\",\"AM Home Food\\u002fMiddle\",\"Kellogs\\u002fMiddle\",\"Nabisco\\u002fMiddle\",\"Quaker Oats\\u002fMiddle\",\"General Mills\\u002fTop\",\"Kellogs\\u002fTop\",\"Post\\u002fTop\",\"Quaker Oats\\u002fTop\",\"Ralston Purina\\u002fTop\",\"General Mills\\u002fBottom\",\"Kellogs\\u002fBottom\",\"Post\\u002fBottom\",\"Ralston Purina\\u002fBottom\",\"General Mills\\u002fMiddle\",\"Kellogs\\u002fMiddle\",\"Post\\u002fMiddle\",\"General Mills\\u002fTop\",\"Kellogs\\u002fTop\",\"Post\\u002fTop\",\"Ralston Purina\\u002fTop\",\"General Mills\\u002fMiddle\",\"Kellogs\\u002fMiddle\",\"Quaker Oats\\u002fMiddle\",\"Kellogs\\u002fTop\",\"Post\\u002fTop\",\"Quaker Oats\\u002fTop\",\"General Mills\\u002fTop\",\"General Mills\\u002fTop\",\"Kellogs\\u002fTop\",\"Ralston Purina\\u002fTop\",\"Kellogs\\u002fTop\",\"General Mills\",\"Kellogs\",\"Nabisco\",\"Post\",\"Quaker Oats\",\"Ralston Purina\",\"AM Home Food\",\"General Mills\",\"Kellogs\",\"Nabisco\",\"Post\",\"Quaker Oats\",\"General Mills\",\"Kellogs\",\"Nabisco\",\"Post\",\"Quaker Oats\",\"Ralston Purina\",\"\",\"\",\"\",\"\",\"\",\"\",\"\"],\"values\":[1,2,1,1,1,2,1,1,2,1,2,1,1,1,1,1,1,1,1,3,1,1,1,1,4,3,1,2,6,4,1,3,3,1,1,1,2,2,1,3,1,2,1,2,2,1,6,4,3,2,1,4,1,7,7,2,1,3,9,12,1,6,4,4,1,22,23,6,9,8,8],\"type\":\"treemap\"}],                        {\"template\":{\"data\":{\"histogram2dcontour\":[{\"type\":\"histogram2dcontour\",\"colorbar\":{\"outlinewidth\":0,\"ticks\":\"\"},\"colorscale\":[[0.0,\"#0d0887\"],[0.1111111111111111,\"#46039f\"],[0.2222222222222222,\"#7201a8\"],[0.3333333333333333,\"#9c179e\"],[0.4444444444444444,\"#bd3786\"],[0.5555555555555556,\"#d8576b\"],[0.6666666666666666,\"#ed7953\"],[0.7777777777777778,\"#fb9f3a\"],[0.8888888888888888,\"#fdca26\"],[1.0,\"#f0f921\"]]}],\"choropleth\":[{\"type\":\"choropleth\",\"colorbar\":{\"outlinewidth\":0,\"ticks\":\"\"}}],\"histogram2d\":[{\"type\":\"histogram2d\",\"colorbar\":{\"outlinewidth\":0,\"ticks\":\"\"},\"colorscale\":[[0.0,\"#0d0887\"],[0.1111111111111111,\"#46039f\"],[0.2222222222222222,\"#7201a8\"],[0.3333333333333333,\"#9c179e\"],[0.4444444444444444,\"#bd3786\"],[0.5555555555555556,\"#d8576b\"],[0.6666666666666666,\"#ed7953\"],[0.7777777777777778,\"#fb9f3a\"],[0.8888888888888888,\"#fdca26\"],[1.0,\"#f0f921\"]]}],\"heatmap\":[{\"type\":\"heatmap\",\"colorbar\":{\"outlinewidth\":0,\"ticks\":\"\"},\"colorscale\":[[0.0,\"#0d0887\"],[0.1111111111111111,\"#46039f\"],[0.2222222222222222,\"#7201a8\"],[0.3333333333333333,\"#9c179e\"],[0.4444444444444444,\"#bd3786\"],[0.5555555555555556,\"#d8576b\"],[0.6666666666666666,\"#ed7953\"],[0.7777777777777778,\"#fb9f3a\"],[0.8888888888888888,\"#fdca26\"],[1.0,\"#f0f921\"]]}],\"heatmapgl\":[{\"type\":\"heatmapgl\",\"colorbar\":{\"outlinewidth\":0,\"ticks\":\"\"},\"colorscale\":[[0.0,\"#0d0887\"],[0.1111111111111111,\"#46039f\"],[0.2222222222222222,\"#7201a8\"],[0.3333333333333333,\"#9c179e\"],[0.4444444444444444,\"#bd3786\"],[0.5555555555555556,\"#d8576b\"],[0.6666666666666666,\"#ed7953\"],[0.7777777777777778,\"#fb9f3a\"],[0.8888888888888888,\"#fdca26\"],[1.0,\"#f0f921\"]]}],\"contourcarpet\":[{\"type\":\"contourcarpet\",\"colorbar\":{\"outlinewidth\":0,\"ticks\":\"\"}}],\"contour\":[{\"type\":\"contour\",\"colorbar\":{\"outlinewidth\":0,\"ticks\":\"\"},\"colorscale\":[[0.0,\"#0d0887\"],[0.1111111111111111,\"#46039f\"],[0.2222222222222222,\"#7201a8\"],[0.3333333333333333,\"#9c179e\"],[0.4444444444444444,\"#bd3786\"],[0.5555555555555556,\"#d8576b\"],[0.6666666666666666,\"#ed7953\"],[0.7777777777777778,\"#fb9f3a\"],[0.8888888888888888,\"#fdca26\"],[1.0,\"#f0f921\"]]}],\"surface\":[{\"type\":\"surface\",\"colorbar\":{\"outlinewidth\":0,\"ticks\":\"\"},\"colorscale\":[[0.0,\"#0d0887\"],[0.1111111111111111,\"#46039f\"],[0.2222222222222222,\"#7201a8\"],[0.3333333333333333,\"#9c179e\"],[0.4444444444444444,\"#bd3786\"],[0.5555555555555556,\"#d8576b\"],[0.6666666666666666,\"#ed7953\"],[0.7777777777777778,\"#fb9f3a\"],[0.8888888888888888,\"#fdca26\"],[1.0,\"#f0f921\"]]}],\"mesh3d\":[{\"type\":\"mesh3d\",\"colorbar\":{\"outlinewidth\":0,\"ticks\":\"\"}}],\"scatter\":[{\"fillpattern\":{\"fillmode\":\"overlay\",\"size\":10,\"solidity\":0.2},\"type\":\"scatter\"}],\"parcoords\":[{\"type\":\"parcoords\",\"line\":{\"colorbar\":{\"outlinewidth\":0,\"ticks\":\"\"}}}],\"scatterpolargl\":[{\"type\":\"scatterpolargl\",\"marker\":{\"colorbar\":{\"outlinewidth\":0,\"ticks\":\"\"}}}],\"bar\":[{\"error_x\":{\"color\":\"#2a3f5f\"},\"error_y\":{\"color\":\"#2a3f5f\"},\"marker\":{\"line\":{\"color\":\"#E5ECF6\",\"width\":0.5},\"pattern\":{\"fillmode\":\"overlay\",\"size\":10,\"solidity\":0.2}},\"type\":\"bar\"}],\"scattergeo\":[{\"type\":\"scattergeo\",\"marker\":{\"colorbar\":{\"outlinewidth\":0,\"ticks\":\"\"}}}],\"scatterpolar\":[{\"type\":\"scatterpolar\",\"marker\":{\"colorbar\":{\"outlinewidth\":0,\"ticks\":\"\"}}}],\"histogram\":[{\"marker\":{\"pattern\":{\"fillmode\":\"overlay\",\"size\":10,\"solidity\":0.2}},\"type\":\"histogram\"}],\"scattergl\":[{\"type\":\"scattergl\",\"marker\":{\"colorbar\":{\"outlinewidth\":0,\"ticks\":\"\"}}}],\"scatter3d\":[{\"type\":\"scatter3d\",\"line\":{\"colorbar\":{\"outlinewidth\":0,\"ticks\":\"\"}},\"marker\":{\"colorbar\":{\"outlinewidth\":0,\"ticks\":\"\"}}}],\"scattermapbox\":[{\"type\":\"scattermapbox\",\"marker\":{\"colorbar\":{\"outlinewidth\":0,\"ticks\":\"\"}}}],\"scatterternary\":[{\"type\":\"scatterternary\",\"marker\":{\"colorbar\":{\"outlinewidth\":0,\"ticks\":\"\"}}}],\"scattercarpet\":[{\"type\":\"scattercarpet\",\"marker\":{\"colorbar\":{\"outlinewidth\":0,\"ticks\":\"\"}}}],\"carpet\":[{\"aaxis\":{\"endlinecolor\":\"#2a3f5f\",\"gridcolor\":\"white\",\"linecolor\":\"white\",\"minorgridcolor\":\"white\",\"startlinecolor\":\"#2a3f5f\"},\"baxis\":{\"endlinecolor\":\"#2a3f5f\",\"gridcolor\":\"white\",\"linecolor\":\"white\",\"minorgridcolor\":\"white\",\"startlinecolor\":\"#2a3f5f\"},\"type\":\"carpet\"}],\"table\":[{\"cells\":{\"fill\":{\"color\":\"#EBF0F8\"},\"line\":{\"color\":\"white\"}},\"header\":{\"fill\":{\"color\":\"#C8D4E3\"},\"line\":{\"color\":\"white\"}},\"type\":\"table\"}],\"barpolar\":[{\"marker\":{\"line\":{\"color\":\"#E5ECF6\",\"width\":0.5},\"pattern\":{\"fillmode\":\"overlay\",\"size\":10,\"solidity\":0.2}},\"type\":\"barpolar\"}],\"pie\":[{\"automargin\":true,\"type\":\"pie\"}]},\"layout\":{\"autotypenumbers\":\"strict\",\"colorway\":[\"#636efa\",\"#EF553B\",\"#00cc96\",\"#ab63fa\",\"#FFA15A\",\"#19d3f3\",\"#FF6692\",\"#B6E880\",\"#FF97FF\",\"#FECB52\"],\"font\":{\"color\":\"#2a3f5f\"},\"hovermode\":\"closest\",\"hoverlabel\":{\"align\":\"left\"},\"paper_bgcolor\":\"white\",\"plot_bgcolor\":\"#E5ECF6\",\"polar\":{\"bgcolor\":\"#E5ECF6\",\"angularaxis\":{\"gridcolor\":\"white\",\"linecolor\":\"white\",\"ticks\":\"\"},\"radialaxis\":{\"gridcolor\":\"white\",\"linecolor\":\"white\",\"ticks\":\"\"}},\"ternary\":{\"bgcolor\":\"#E5ECF6\",\"aaxis\":{\"gridcolor\":\"white\",\"linecolor\":\"white\",\"ticks\":\"\"},\"baxis\":{\"gridcolor\":\"white\",\"linecolor\":\"white\",\"ticks\":\"\"},\"caxis\":{\"gridcolor\":\"white\",\"linecolor\":\"white\",\"ticks\":\"\"}},\"coloraxis\":{\"colorbar\":{\"outlinewidth\":0,\"ticks\":\"\"}},\"colorscale\":{\"sequential\":[[0.0,\"#0d0887\"],[0.1111111111111111,\"#46039f\"],[0.2222222222222222,\"#7201a8\"],[0.3333333333333333,\"#9c179e\"],[0.4444444444444444,\"#bd3786\"],[0.5555555555555556,\"#d8576b\"],[0.6666666666666666,\"#ed7953\"],[0.7777777777777778,\"#fb9f3a\"],[0.8888888888888888,\"#fdca26\"],[1.0,\"#f0f921\"]],\"sequentialminus\":[[0.0,\"#0d0887\"],[0.1111111111111111,\"#46039f\"],[0.2222222222222222,\"#7201a8\"],[0.3333333333333333,\"#9c179e\"],[0.4444444444444444,\"#bd3786\"],[0.5555555555555556,\"#d8576b\"],[0.6666666666666666,\"#ed7953\"],[0.7777777777777778,\"#fb9f3a\"],[0.8888888888888888,\"#fdca26\"],[1.0,\"#f0f921\"]],\"diverging\":[[0,\"#8e0152\"],[0.1,\"#c51b7d\"],[0.2,\"#de77ae\"],[0.3,\"#f1b6da\"],[0.4,\"#fde0ef\"],[0.5,\"#f7f7f7\"],[0.6,\"#e6f5d0\"],[0.7,\"#b8e186\"],[0.8,\"#7fbc41\"],[0.9,\"#4d9221\"],[1,\"#276419\"]]},\"xaxis\":{\"gridcolor\":\"white\",\"linecolor\":\"white\",\"ticks\":\"\",\"title\":{\"standoff\":15},\"zerolinecolor\":\"white\",\"automargin\":true,\"zerolinewidth\":2},\"yaxis\":{\"gridcolor\":\"white\",\"linecolor\":\"white\",\"ticks\":\"\",\"title\":{\"standoff\":15},\"zerolinecolor\":\"white\",\"automargin\":true,\"zerolinewidth\":2},\"scene\":{\"xaxis\":{\"backgroundcolor\":\"#E5ECF6\",\"gridcolor\":\"white\",\"linecolor\":\"white\",\"showbackground\":true,\"ticks\":\"\",\"zerolinecolor\":\"white\",\"gridwidth\":2},\"yaxis\":{\"backgroundcolor\":\"#E5ECF6\",\"gridcolor\":\"white\",\"linecolor\":\"white\",\"showbackground\":true,\"ticks\":\"\",\"zerolinecolor\":\"white\",\"gridwidth\":2},\"zaxis\":{\"backgroundcolor\":\"#E5ECF6\",\"gridcolor\":\"white\",\"linecolor\":\"white\",\"showbackground\":true,\"ticks\":\"\",\"zerolinecolor\":\"white\",\"gridwidth\":2}},\"shapedefaults\":{\"line\":{\"color\":\"#2a3f5f\"}},\"annotationdefaults\":{\"arrowcolor\":\"#2a3f5f\",\"arrowhead\":0,\"arrowwidth\":1},\"geo\":{\"bgcolor\":\"white\",\"landcolor\":\"#E5ECF6\",\"subunitcolor\":\"white\",\"showland\":true,\"showlakes\":true,\"lakecolor\":\"white\"},\"title\":{\"x\":0.05},\"mapbox\":{\"style\":\"light\"}}},\"legend\":{\"tracegroupgap\":0},\"title\":{\"text\":\"Cereals by shelf location\"}},                        {\"responsive\": true}                    ).then(function(){\n",
              "                            \n",
              "var gd = document.getElementById('25843b52-e420-4726-b90e-219d0ac3535c');\n",
              "var x = new MutationObserver(function (mutations, observer) {{\n",
              "        var display = window.getComputedStyle(gd).display;\n",
              "        if (!display || display === 'none') {{\n",
              "            console.log([gd, 'removed!']);\n",
              "            Plotly.purge(gd);\n",
              "            observer.disconnect();\n",
              "        }}\n",
              "}});\n",
              "\n",
              "// Listen for the removal of the full notebook cells\n",
              "var notebookContainer = gd.closest('#notebook-container');\n",
              "if (notebookContainer) {{\n",
              "    x.observe(notebookContainer, {childList: true});\n",
              "}}\n",
              "\n",
              "// Listen for the clearing of the current output cell\n",
              "var outputEl = gd.closest('.output');\n",
              "if (outputEl) {{\n",
              "    x.observe(outputEl, {childList: true});\n",
              "}}\n",
              "\n",
              "                        })                };                            </script>        </div>\n",
              "</body>\n",
              "</html>"
            ]
          },
          "metadata": {}
        }
      ]
    },
    {
      "cell_type": "code",
      "source": [
        "fig = px.treemap(df, path=['mfr', 'shelf','calories','sugars'], values='cereal', title='Cereals by shelf location', hover_name='name')   #title is information\n",
        "fig.show()"
      ],
      "metadata": {
        "id": "jKqPm8Qd4TGd",
        "outputId": "8b3cfd99-746d-4faa-afc6-38bb097e3cbf",
        "colab": {
          "base_uri": "https://localhost:8080/",
          "height": 542
        }
      },
      "execution_count": 33,
      "outputs": [
        {
          "output_type": "display_data",
          "data": {
            "text/html": [
              "<html>\n",
              "<head><meta charset=\"utf-8\" /></head>\n",
              "<body>\n",
              "    <div>            <script src=\"https://cdnjs.cloudflare.com/ajax/libs/mathjax/2.7.5/MathJax.js?config=TeX-AMS-MML_SVG\"></script><script type=\"text/javascript\">if (window.MathJax && window.MathJax.Hub && window.MathJax.Hub.Config) {window.MathJax.Hub.Config({SVG: {font: \"STIX-Web\"}});}</script>                <script type=\"text/javascript\">window.PlotlyConfig = {MathJaxConfig: 'local'};</script>\n",
              "        <script charset=\"utf-8\" src=\"https://cdn.plot.ly/plotly-2.24.1.min.js\"></script>                <div id=\"3b89da97-3ddf-4cdb-9ed1-d5d1307c5efe\" class=\"plotly-graph-div\" style=\"height:525px; width:100%;\"></div>            <script type=\"text/javascript\">                                    window.PLOTLYENV=window.PLOTLYENV || {};                                    if (document.getElementById(\"3b89da97-3ddf-4cdb-9ed1-d5d1307c5efe\")) {                    Plotly.newPlot(                        \"3b89da97-3ddf-4cdb-9ed1-d5d1307c5efe\",                        [{\"branchvalues\":\"total\",\"domain\":{\"x\":[0.0,1.0],\"y\":[0.0,1.0]},\"hovertemplate\":\"\\u003cb\\u003e%{hovertext}\\u003c\\u002fb\\u003e\\u003cbr\\u003e\\u003cbr\\u003elabels=%{label}\\u003cbr\\u003ecereal=%{value}\\u003cbr\\u003eparent=%{parent}\\u003cbr\\u003eid=%{id}\\u003cextra\\u003e\\u003c\\u002fextra\\u003e\",\"hovertext\":[\"Quaker Oatmeal\",\"All-Bran with Extra Fiber\",\"(?)\",\"Shredded Wheat\",\"(?)\",\"Cream of Wheat (Quick)\",\"Cheerios\",\"Nutri-grain Wheat\",\"Corn Flakes\",\"Rice Chex\",\"Wheaties\",\"Wheat Chex\",\"Maypo\",\"Total Whole Grain\",\"Product 19\",\"(?)\",\"Corn Chex\",\"Kix\",\"(?)\",\"Crispix\",\"Grape-Nuts\",\"Great Grains Pecan\",\"All-Bran\",\"Strawberry Fruit Wheats\",\"Bran Flakes\",\"Grape Nuts Flakes\",\"Double Chex\",\"100% Bran\",\"Bran Chex\",\"Raisin Squares\",\"Multi-Grain Cheerios\",\"Life\",\"Quaker Oat Squares\",\"Just Right Crunchy  Nuggets\",\"Frosted Mini-Wheats\",\"Clusters\",\"Cracklin' Oat Bran\",\"Nutri-Grain Almond-Raisin\",\"Raisin Nut Bran\",\"Wheaties Honey Gold\",\"Almond Delight\",\"100% Natural Bran\",\"Basic 4\",\"Golden Grahams\",\"Cinnamon Toast Crunch\",\"Nut&Honey Crunch\",\"Just Right Fruit & Nut\",\"Crispy Wheat & Raisins\",\"(?)\",\"Fruit & Fibre Dates, Walnuts, and Oats\",\"Oatmeal Raisin Crisp\",\"Frosted Flakes\",\"Honey-comb\",\"Honey Graham Ohs\",\"(?)\",\"(?)\",\"Corn Pops\",\"Fruity Pebbles\",\"Raisin Bran\",\"Cap'n'Crunch\",\"Fruitful Bran\",\"(?)\",\"Froot Loops\",\"Mueslix Crispy Blend\",\"Apple Jacks\",\"Post Nat. Raisin Bran\",\"Total Raisin Bran\",\"Golden Crisp\",\"Smacks\",\"All-Bran with Extra Fiber\",\"(?)\",\"All-Bran\",\"100% Bran\",\"Shredded Wheat\",\"(?)\",\"Bran Chex\",\"Strawberry Fruit Wheats\",\"(?)\",\"Bran Flakes\",\"(?)\",\"Corn Flakes\",\"Golden Crisp\",\"Quaker Oatmeal\",\"Wheat Chex\",\"Maypo\",\"Frosted Mini-Wheats\",\"Cream of Wheat (Quick)\",\"Life\",\"(?)\",\"Product 19\",\"Grape Nuts Flakes\",\"Quaker Oat Squares\",\"Double Chex\",\"(?)\",\"(?)\",\"Honey-comb\",\"(?)\",\"(?)\",\"(?)\",\"Fruity Pebbles\",\"(?)\",\"(?)\",\"Grape-Nuts\",\"Almond Delight\",\"Cinnamon Toast Crunch\",\"(?)\",\"(?)\",\"Fruitful Bran\",\"(?)\",\"100% Natural Bran\",\"(?)\",\"Total Raisin Bran\",\"(?)\",\"(?)\",\"Mueslix Crispy Blend\",\"(?)\",\"(?)\",\"(?)\",\"(?)\",\"Quaker Oatmeal\",\"(?)\",\"Maypo\",\"(?)\",\"(?)\",\"(?)\",\"Fruity Pebbles\",\"(?)\",\"(?)\",\"(?)\",\"100% Bran\",\"(?)\",\"(?)\",\"(?)\",\"Maypo\",\"(?)\",\"(?)\",\"(?)\",\"(?)\",\"(?)\",\"(?)\"],\"ids\":[\"Quaker Oats\\u002fBottom\\u002f100\\u002f-1\",\"Kellogs\\u002fTop\\u002f50\\u002f0\",\"Quaker Oats\\u002fTop\\u002f50\\u002f0\",\"Nabisco\\u002fBottom\\u002f80\\u002f0\",\"Nabisco\\u002fBottom\\u002f90\\u002f0\",\"Nabisco\\u002fMiddle\\u002f100\\u002f0\",\"General Mills\\u002fBottom\\u002f110\\u002f1\",\"Kellogs\\u002fTop\\u002f90\\u002f2\",\"Kellogs\\u002fBottom\\u002f100\\u002f2\",\"Ralston Purina\\u002fBottom\\u002f110\\u002f2\",\"General Mills\\u002fBottom\\u002f100\\u002f3\",\"Ralston Purina\\u002fBottom\\u002f100\\u002f3\",\"AM Home Food\\u002fMiddle\\u002f100\\u002f3\",\"General Mills\\u002fTop\\u002f100\\u002f3\",\"Kellogs\\u002fTop\\u002f100\\u002f3\",\"Kellogs\\u002fBottom\\u002f110\\u002f3\",\"Ralston Purina\\u002fBottom\\u002f110\\u002f3\",\"General Mills\\u002fMiddle\\u002f110\\u002f3\",\"General Mills\\u002fTop\\u002f110\\u002f3\",\"Kellogs\\u002fTop\\u002f110\\u002f3\",\"Post\\u002fTop\\u002f110\\u002f3\",\"Post\\u002fTop\\u002f120\\u002f4\",\"Kellogs\\u002fTop\\u002f70\\u002f5\",\"Nabisco\\u002fMiddle\\u002f90\\u002f5\",\"Post\\u002fTop\\u002f90\\u002f5\",\"Post\\u002fTop\\u002f100\\u002f5\",\"Ralston Purina\\u002fTop\\u002f100\\u002f5\",\"Nabisco\\u002fTop\\u002f70\\u002f6\",\"Ralston Purina\\u002fBottom\\u002f90\\u002f6\",\"Kellogs\\u002fTop\\u002f90\\u002f6\",\"General Mills\\u002fBottom\\u002f100\\u002f6\",\"Quaker Oats\\u002fMiddle\\u002f100\\u002f6\",\"Quaker Oats\\u002fTop\\u002f100\\u002f6\",\"Kellogs\\u002fTop\\u002f110\\u002f6\",\"Kellogs\\u002fMiddle\\u002f100\\u002f7\",\"General Mills\\u002fTop\\u002f110\\u002f7\",\"Kellogs\\u002fTop\\u002f110\\u002f7\",\"Kellogs\\u002fTop\\u002f140\\u002f7\",\"General Mills\\u002fTop\\u002f100\\u002f8\",\"General Mills\\u002fBottom\\u002f110\\u002f8\",\"Ralston Purina\\u002fTop\\u002f110\\u002f8\",\"Quaker Oats\\u002fTop\\u002f120\\u002f8\",\"General Mills\\u002fTop\\u002f130\\u002f8\",\"General Mills\\u002fMiddle\\u002f110\\u002f9\",\"General Mills\\u002fMiddle\\u002f120\\u002f9\",\"Kellogs\\u002fMiddle\\u002f120\\u002f9\",\"Kellogs\\u002fTop\\u002f140\\u002f9\",\"General Mills\\u002fTop\\u002f100\\u002f10\",\"General Mills\\u002fBottom\\u002f110\\u002f10\",\"Post\\u002fTop\\u002f120\\u002f10\",\"General Mills\\u002fTop\\u002f130\\u002f10\",\"Kellogs\\u002fBottom\\u002f110\\u002f11\",\"Post\\u002fBottom\\u002f110\\u002f11\",\"Quaker Oats\\u002fMiddle\\u002f120\\u002f11\",\"Ralston Purina\\u002fTop\\u002f150\\u002f11\",\"General Mills\\u002fMiddle\\u002f110\\u002f12\",\"Kellogs\\u002fMiddle\\u002f110\\u002f12\",\"Post\\u002fMiddle\\u002f110\\u002f12\",\"Kellogs\\u002fMiddle\\u002f120\\u002f12\",\"Quaker Oats\\u002fMiddle\\u002f120\\u002f12\",\"Kellogs\\u002fTop\\u002f120\\u002f12\",\"General Mills\\u002fMiddle\\u002f110\\u002f13\",\"Kellogs\\u002fMiddle\\u002f110\\u002f13\",\"Kellogs\\u002fTop\\u002f160\\u002f13\",\"Kellogs\\u002fMiddle\\u002f110\\u002f14\",\"Post\\u002fTop\\u002f120\\u002f14\",\"General Mills\\u002fTop\\u002f140\\u002f14\",\"Post\\u002fBottom\\u002f100\\u002f15\",\"Kellogs\\u002fMiddle\\u002f110\\u002f15\",\"Kellogs\\u002fTop\\u002f50\",\"Quaker Oats\\u002fTop\\u002f50\",\"Kellogs\\u002fTop\\u002f70\",\"Nabisco\\u002fTop\\u002f70\",\"Nabisco\\u002fBottom\\u002f80\",\"Nabisco\\u002fBottom\\u002f90\",\"Ralston Purina\\u002fBottom\\u002f90\",\"Nabisco\\u002fMiddle\\u002f90\",\"Kellogs\\u002fTop\\u002f90\",\"Post\\u002fTop\\u002f90\",\"General Mills\\u002fBottom\\u002f100\",\"Kellogs\\u002fBottom\\u002f100\",\"Post\\u002fBottom\\u002f100\",\"Quaker Oats\\u002fBottom\\u002f100\",\"Ralston Purina\\u002fBottom\\u002f100\",\"AM Home Food\\u002fMiddle\\u002f100\",\"Kellogs\\u002fMiddle\\u002f100\",\"Nabisco\\u002fMiddle\\u002f100\",\"Quaker Oats\\u002fMiddle\\u002f100\",\"General Mills\\u002fTop\\u002f100\",\"Kellogs\\u002fTop\\u002f100\",\"Post\\u002fTop\\u002f100\",\"Quaker Oats\\u002fTop\\u002f100\",\"Ralston Purina\\u002fTop\\u002f100\",\"General Mills\\u002fBottom\\u002f110\",\"Kellogs\\u002fBottom\\u002f110\",\"Post\\u002fBottom\\u002f110\",\"Ralston Purina\\u002fBottom\\u002f110\",\"General Mills\\u002fMiddle\\u002f110\",\"Kellogs\\u002fMiddle\\u002f110\",\"Post\\u002fMiddle\\u002f110\",\"General Mills\\u002fTop\\u002f110\",\"Kellogs\\u002fTop\\u002f110\",\"Post\\u002fTop\\u002f110\",\"Ralston Purina\\u002fTop\\u002f110\",\"General Mills\\u002fMiddle\\u002f120\",\"Kellogs\\u002fMiddle\\u002f120\",\"Quaker Oats\\u002fMiddle\\u002f120\",\"Kellogs\\u002fTop\\u002f120\",\"Post\\u002fTop\\u002f120\",\"Quaker Oats\\u002fTop\\u002f120\",\"General Mills\\u002fTop\\u002f130\",\"General Mills\\u002fTop\\u002f140\",\"Kellogs\\u002fTop\\u002f140\",\"Ralston Purina\\u002fTop\\u002f150\",\"Kellogs\\u002fTop\\u002f160\",\"General Mills\\u002fBottom\",\"Kellogs\\u002fBottom\",\"Nabisco\\u002fBottom\",\"Post\\u002fBottom\",\"Quaker Oats\\u002fBottom\",\"Ralston Purina\\u002fBottom\",\"AM Home Food\\u002fMiddle\",\"General Mills\\u002fMiddle\",\"Kellogs\\u002fMiddle\",\"Nabisco\\u002fMiddle\",\"Post\\u002fMiddle\",\"Quaker Oats\\u002fMiddle\",\"General Mills\\u002fTop\",\"Kellogs\\u002fTop\",\"Nabisco\\u002fTop\",\"Post\\u002fTop\",\"Quaker Oats\\u002fTop\",\"Ralston Purina\\u002fTop\",\"AM Home Food\",\"General Mills\",\"Kellogs\",\"Nabisco\",\"Post\",\"Quaker Oats\",\"Ralston Purina\"],\"labels\":[\"-1\",\"0\",\"0\",\"0\",\"0\",\"0\",\"1\",\"2\",\"2\",\"2\",\"3\",\"3\",\"3\",\"3\",\"3\",\"3\",\"3\",\"3\",\"3\",\"3\",\"3\",\"4\",\"5\",\"5\",\"5\",\"5\",\"5\",\"6\",\"6\",\"6\",\"6\",\"6\",\"6\",\"6\",\"7\",\"7\",\"7\",\"7\",\"8\",\"8\",\"8\",\"8\",\"8\",\"9\",\"9\",\"9\",\"9\",\"10\",\"10\",\"10\",\"10\",\"11\",\"11\",\"11\",\"11\",\"12\",\"12\",\"12\",\"12\",\"12\",\"12\",\"13\",\"13\",\"13\",\"14\",\"14\",\"14\",\"15\",\"15\",\"50\",\"50\",\"70\",\"70\",\"80\",\"90\",\"90\",\"90\",\"90\",\"90\",\"100\",\"100\",\"100\",\"100\",\"100\",\"100\",\"100\",\"100\",\"100\",\"100\",\"100\",\"100\",\"100\",\"100\",\"110\",\"110\",\"110\",\"110\",\"110\",\"110\",\"110\",\"110\",\"110\",\"110\",\"110\",\"120\",\"120\",\"120\",\"120\",\"120\",\"120\",\"130\",\"140\",\"140\",\"150\",\"160\",\"Bottom\",\"Bottom\",\"Bottom\",\"Bottom\",\"Bottom\",\"Bottom\",\"Middle\",\"Middle\",\"Middle\",\"Middle\",\"Middle\",\"Middle\",\"Top\",\"Top\",\"Top\",\"Top\",\"Top\",\"Top\",\"AM Home Food\",\"General Mills\",\"Kellogs\",\"Nabisco\",\"Post\",\"Quaker Oats\",\"Ralston Purina\"],\"name\":\"\",\"parents\":[\"Quaker Oats\\u002fBottom\\u002f100\",\"Kellogs\\u002fTop\\u002f50\",\"Quaker Oats\\u002fTop\\u002f50\",\"Nabisco\\u002fBottom\\u002f80\",\"Nabisco\\u002fBottom\\u002f90\",\"Nabisco\\u002fMiddle\\u002f100\",\"General Mills\\u002fBottom\\u002f110\",\"Kellogs\\u002fTop\\u002f90\",\"Kellogs\\u002fBottom\\u002f100\",\"Ralston Purina\\u002fBottom\\u002f110\",\"General Mills\\u002fBottom\\u002f100\",\"Ralston Purina\\u002fBottom\\u002f100\",\"AM Home Food\\u002fMiddle\\u002f100\",\"General Mills\\u002fTop\\u002f100\",\"Kellogs\\u002fTop\\u002f100\",\"Kellogs\\u002fBottom\\u002f110\",\"Ralston Purina\\u002fBottom\\u002f110\",\"General Mills\\u002fMiddle\\u002f110\",\"General Mills\\u002fTop\\u002f110\",\"Kellogs\\u002fTop\\u002f110\",\"Post\\u002fTop\\u002f110\",\"Post\\u002fTop\\u002f120\",\"Kellogs\\u002fTop\\u002f70\",\"Nabisco\\u002fMiddle\\u002f90\",\"Post\\u002fTop\\u002f90\",\"Post\\u002fTop\\u002f100\",\"Ralston Purina\\u002fTop\\u002f100\",\"Nabisco\\u002fTop\\u002f70\",\"Ralston Purina\\u002fBottom\\u002f90\",\"Kellogs\\u002fTop\\u002f90\",\"General Mills\\u002fBottom\\u002f100\",\"Quaker Oats\\u002fMiddle\\u002f100\",\"Quaker Oats\\u002fTop\\u002f100\",\"Kellogs\\u002fTop\\u002f110\",\"Kellogs\\u002fMiddle\\u002f100\",\"General Mills\\u002fTop\\u002f110\",\"Kellogs\\u002fTop\\u002f110\",\"Kellogs\\u002fTop\\u002f140\",\"General Mills\\u002fTop\\u002f100\",\"General Mills\\u002fBottom\\u002f110\",\"Ralston Purina\\u002fTop\\u002f110\",\"Quaker Oats\\u002fTop\\u002f120\",\"General Mills\\u002fTop\\u002f130\",\"General Mills\\u002fMiddle\\u002f110\",\"General Mills\\u002fMiddle\\u002f120\",\"Kellogs\\u002fMiddle\\u002f120\",\"Kellogs\\u002fTop\\u002f140\",\"General Mills\\u002fTop\\u002f100\",\"General Mills\\u002fBottom\\u002f110\",\"Post\\u002fTop\\u002f120\",\"General Mills\\u002fTop\\u002f130\",\"Kellogs\\u002fBottom\\u002f110\",\"Post\\u002fBottom\\u002f110\",\"Quaker Oats\\u002fMiddle\\u002f120\",\"Ralston Purina\\u002fTop\\u002f150\",\"General Mills\\u002fMiddle\\u002f110\",\"Kellogs\\u002fMiddle\\u002f110\",\"Post\\u002fMiddle\\u002f110\",\"Kellogs\\u002fMiddle\\u002f120\",\"Quaker Oats\\u002fMiddle\\u002f120\",\"Kellogs\\u002fTop\\u002f120\",\"General Mills\\u002fMiddle\\u002f110\",\"Kellogs\\u002fMiddle\\u002f110\",\"Kellogs\\u002fTop\\u002f160\",\"Kellogs\\u002fMiddle\\u002f110\",\"Post\\u002fTop\\u002f120\",\"General Mills\\u002fTop\\u002f140\",\"Post\\u002fBottom\\u002f100\",\"Kellogs\\u002fMiddle\\u002f110\",\"Kellogs\\u002fTop\",\"Quaker Oats\\u002fTop\",\"Kellogs\\u002fTop\",\"Nabisco\\u002fTop\",\"Nabisco\\u002fBottom\",\"Nabisco\\u002fBottom\",\"Ralston Purina\\u002fBottom\",\"Nabisco\\u002fMiddle\",\"Kellogs\\u002fTop\",\"Post\\u002fTop\",\"General Mills\\u002fBottom\",\"Kellogs\\u002fBottom\",\"Post\\u002fBottom\",\"Quaker Oats\\u002fBottom\",\"Ralston Purina\\u002fBottom\",\"AM Home Food\\u002fMiddle\",\"Kellogs\\u002fMiddle\",\"Nabisco\\u002fMiddle\",\"Quaker Oats\\u002fMiddle\",\"General Mills\\u002fTop\",\"Kellogs\\u002fTop\",\"Post\\u002fTop\",\"Quaker Oats\\u002fTop\",\"Ralston Purina\\u002fTop\",\"General Mills\\u002fBottom\",\"Kellogs\\u002fBottom\",\"Post\\u002fBottom\",\"Ralston Purina\\u002fBottom\",\"General Mills\\u002fMiddle\",\"Kellogs\\u002fMiddle\",\"Post\\u002fMiddle\",\"General Mills\\u002fTop\",\"Kellogs\\u002fTop\",\"Post\\u002fTop\",\"Ralston Purina\\u002fTop\",\"General Mills\\u002fMiddle\",\"Kellogs\\u002fMiddle\",\"Quaker Oats\\u002fMiddle\",\"Kellogs\\u002fTop\",\"Post\\u002fTop\",\"Quaker Oats\\u002fTop\",\"General Mills\\u002fTop\",\"General Mills\\u002fTop\",\"Kellogs\\u002fTop\",\"Ralston Purina\\u002fTop\",\"Kellogs\\u002fTop\",\"General Mills\",\"Kellogs\",\"Nabisco\",\"Post\",\"Quaker Oats\",\"Ralston Purina\",\"AM Home Food\",\"General Mills\",\"Kellogs\",\"Nabisco\",\"Post\",\"Quaker Oats\",\"General Mills\",\"Kellogs\",\"Nabisco\",\"Post\",\"Quaker Oats\",\"Ralston Purina\",\"\",\"\",\"\",\"\",\"\",\"\",\"\"],\"values\":[1,1,2,1,2,1,1,1,1,1,1,1,1,1,1,2,1,1,2,1,1,1,1,1,1,1,1,1,1,1,1,1,1,1,1,1,1,1,1,1,1,1,1,1,1,1,1,1,2,1,1,1,1,1,2,2,1,1,1,1,1,2,1,1,1,1,1,1,1,1,2,1,1,1,2,1,1,2,1,2,1,1,1,1,1,1,1,1,3,1,1,1,1,4,3,1,2,6,4,1,3,3,1,1,1,2,2,1,3,1,2,1,2,2,1,6,4,3,2,1,4,1,7,7,2,1,3,9,12,1,6,4,4,1,22,23,6,9,8,8],\"type\":\"treemap\"}],                        {\"template\":{\"data\":{\"histogram2dcontour\":[{\"type\":\"histogram2dcontour\",\"colorbar\":{\"outlinewidth\":0,\"ticks\":\"\"},\"colorscale\":[[0.0,\"#0d0887\"],[0.1111111111111111,\"#46039f\"],[0.2222222222222222,\"#7201a8\"],[0.3333333333333333,\"#9c179e\"],[0.4444444444444444,\"#bd3786\"],[0.5555555555555556,\"#d8576b\"],[0.6666666666666666,\"#ed7953\"],[0.7777777777777778,\"#fb9f3a\"],[0.8888888888888888,\"#fdca26\"],[1.0,\"#f0f921\"]]}],\"choropleth\":[{\"type\":\"choropleth\",\"colorbar\":{\"outlinewidth\":0,\"ticks\":\"\"}}],\"histogram2d\":[{\"type\":\"histogram2d\",\"colorbar\":{\"outlinewidth\":0,\"ticks\":\"\"},\"colorscale\":[[0.0,\"#0d0887\"],[0.1111111111111111,\"#46039f\"],[0.2222222222222222,\"#7201a8\"],[0.3333333333333333,\"#9c179e\"],[0.4444444444444444,\"#bd3786\"],[0.5555555555555556,\"#d8576b\"],[0.6666666666666666,\"#ed7953\"],[0.7777777777777778,\"#fb9f3a\"],[0.8888888888888888,\"#fdca26\"],[1.0,\"#f0f921\"]]}],\"heatmap\":[{\"type\":\"heatmap\",\"colorbar\":{\"outlinewidth\":0,\"ticks\":\"\"},\"colorscale\":[[0.0,\"#0d0887\"],[0.1111111111111111,\"#46039f\"],[0.2222222222222222,\"#7201a8\"],[0.3333333333333333,\"#9c179e\"],[0.4444444444444444,\"#bd3786\"],[0.5555555555555556,\"#d8576b\"],[0.6666666666666666,\"#ed7953\"],[0.7777777777777778,\"#fb9f3a\"],[0.8888888888888888,\"#fdca26\"],[1.0,\"#f0f921\"]]}],\"heatmapgl\":[{\"type\":\"heatmapgl\",\"colorbar\":{\"outlinewidth\":0,\"ticks\":\"\"},\"colorscale\":[[0.0,\"#0d0887\"],[0.1111111111111111,\"#46039f\"],[0.2222222222222222,\"#7201a8\"],[0.3333333333333333,\"#9c179e\"],[0.4444444444444444,\"#bd3786\"],[0.5555555555555556,\"#d8576b\"],[0.6666666666666666,\"#ed7953\"],[0.7777777777777778,\"#fb9f3a\"],[0.8888888888888888,\"#fdca26\"],[1.0,\"#f0f921\"]]}],\"contourcarpet\":[{\"type\":\"contourcarpet\",\"colorbar\":{\"outlinewidth\":0,\"ticks\":\"\"}}],\"contour\":[{\"type\":\"contour\",\"colorbar\":{\"outlinewidth\":0,\"ticks\":\"\"},\"colorscale\":[[0.0,\"#0d0887\"],[0.1111111111111111,\"#46039f\"],[0.2222222222222222,\"#7201a8\"],[0.3333333333333333,\"#9c179e\"],[0.4444444444444444,\"#bd3786\"],[0.5555555555555556,\"#d8576b\"],[0.6666666666666666,\"#ed7953\"],[0.7777777777777778,\"#fb9f3a\"],[0.8888888888888888,\"#fdca26\"],[1.0,\"#f0f921\"]]}],\"surface\":[{\"type\":\"surface\",\"colorbar\":{\"outlinewidth\":0,\"ticks\":\"\"},\"colorscale\":[[0.0,\"#0d0887\"],[0.1111111111111111,\"#46039f\"],[0.2222222222222222,\"#7201a8\"],[0.3333333333333333,\"#9c179e\"],[0.4444444444444444,\"#bd3786\"],[0.5555555555555556,\"#d8576b\"],[0.6666666666666666,\"#ed7953\"],[0.7777777777777778,\"#fb9f3a\"],[0.8888888888888888,\"#fdca26\"],[1.0,\"#f0f921\"]]}],\"mesh3d\":[{\"type\":\"mesh3d\",\"colorbar\":{\"outlinewidth\":0,\"ticks\":\"\"}}],\"scatter\":[{\"fillpattern\":{\"fillmode\":\"overlay\",\"size\":10,\"solidity\":0.2},\"type\":\"scatter\"}],\"parcoords\":[{\"type\":\"parcoords\",\"line\":{\"colorbar\":{\"outlinewidth\":0,\"ticks\":\"\"}}}],\"scatterpolargl\":[{\"type\":\"scatterpolargl\",\"marker\":{\"colorbar\":{\"outlinewidth\":0,\"ticks\":\"\"}}}],\"bar\":[{\"error_x\":{\"color\":\"#2a3f5f\"},\"error_y\":{\"color\":\"#2a3f5f\"},\"marker\":{\"line\":{\"color\":\"#E5ECF6\",\"width\":0.5},\"pattern\":{\"fillmode\":\"overlay\",\"size\":10,\"solidity\":0.2}},\"type\":\"bar\"}],\"scattergeo\":[{\"type\":\"scattergeo\",\"marker\":{\"colorbar\":{\"outlinewidth\":0,\"ticks\":\"\"}}}],\"scatterpolar\":[{\"type\":\"scatterpolar\",\"marker\":{\"colorbar\":{\"outlinewidth\":0,\"ticks\":\"\"}}}],\"histogram\":[{\"marker\":{\"pattern\":{\"fillmode\":\"overlay\",\"size\":10,\"solidity\":0.2}},\"type\":\"histogram\"}],\"scattergl\":[{\"type\":\"scattergl\",\"marker\":{\"colorbar\":{\"outlinewidth\":0,\"ticks\":\"\"}}}],\"scatter3d\":[{\"type\":\"scatter3d\",\"line\":{\"colorbar\":{\"outlinewidth\":0,\"ticks\":\"\"}},\"marker\":{\"colorbar\":{\"outlinewidth\":0,\"ticks\":\"\"}}}],\"scattermapbox\":[{\"type\":\"scattermapbox\",\"marker\":{\"colorbar\":{\"outlinewidth\":0,\"ticks\":\"\"}}}],\"scatterternary\":[{\"type\":\"scatterternary\",\"marker\":{\"colorbar\":{\"outlinewidth\":0,\"ticks\":\"\"}}}],\"scattercarpet\":[{\"type\":\"scattercarpet\",\"marker\":{\"colorbar\":{\"outlinewidth\":0,\"ticks\":\"\"}}}],\"carpet\":[{\"aaxis\":{\"endlinecolor\":\"#2a3f5f\",\"gridcolor\":\"white\",\"linecolor\":\"white\",\"minorgridcolor\":\"white\",\"startlinecolor\":\"#2a3f5f\"},\"baxis\":{\"endlinecolor\":\"#2a3f5f\",\"gridcolor\":\"white\",\"linecolor\":\"white\",\"minorgridcolor\":\"white\",\"startlinecolor\":\"#2a3f5f\"},\"type\":\"carpet\"}],\"table\":[{\"cells\":{\"fill\":{\"color\":\"#EBF0F8\"},\"line\":{\"color\":\"white\"}},\"header\":{\"fill\":{\"color\":\"#C8D4E3\"},\"line\":{\"color\":\"white\"}},\"type\":\"table\"}],\"barpolar\":[{\"marker\":{\"line\":{\"color\":\"#E5ECF6\",\"width\":0.5},\"pattern\":{\"fillmode\":\"overlay\",\"size\":10,\"solidity\":0.2}},\"type\":\"barpolar\"}],\"pie\":[{\"automargin\":true,\"type\":\"pie\"}]},\"layout\":{\"autotypenumbers\":\"strict\",\"colorway\":[\"#636efa\",\"#EF553B\",\"#00cc96\",\"#ab63fa\",\"#FFA15A\",\"#19d3f3\",\"#FF6692\",\"#B6E880\",\"#FF97FF\",\"#FECB52\"],\"font\":{\"color\":\"#2a3f5f\"},\"hovermode\":\"closest\",\"hoverlabel\":{\"align\":\"left\"},\"paper_bgcolor\":\"white\",\"plot_bgcolor\":\"#E5ECF6\",\"polar\":{\"bgcolor\":\"#E5ECF6\",\"angularaxis\":{\"gridcolor\":\"white\",\"linecolor\":\"white\",\"ticks\":\"\"},\"radialaxis\":{\"gridcolor\":\"white\",\"linecolor\":\"white\",\"ticks\":\"\"}},\"ternary\":{\"bgcolor\":\"#E5ECF6\",\"aaxis\":{\"gridcolor\":\"white\",\"linecolor\":\"white\",\"ticks\":\"\"},\"baxis\":{\"gridcolor\":\"white\",\"linecolor\":\"white\",\"ticks\":\"\"},\"caxis\":{\"gridcolor\":\"white\",\"linecolor\":\"white\",\"ticks\":\"\"}},\"coloraxis\":{\"colorbar\":{\"outlinewidth\":0,\"ticks\":\"\"}},\"colorscale\":{\"sequential\":[[0.0,\"#0d0887\"],[0.1111111111111111,\"#46039f\"],[0.2222222222222222,\"#7201a8\"],[0.3333333333333333,\"#9c179e\"],[0.4444444444444444,\"#bd3786\"],[0.5555555555555556,\"#d8576b\"],[0.6666666666666666,\"#ed7953\"],[0.7777777777777778,\"#fb9f3a\"],[0.8888888888888888,\"#fdca26\"],[1.0,\"#f0f921\"]],\"sequentialminus\":[[0.0,\"#0d0887\"],[0.1111111111111111,\"#46039f\"],[0.2222222222222222,\"#7201a8\"],[0.3333333333333333,\"#9c179e\"],[0.4444444444444444,\"#bd3786\"],[0.5555555555555556,\"#d8576b\"],[0.6666666666666666,\"#ed7953\"],[0.7777777777777778,\"#fb9f3a\"],[0.8888888888888888,\"#fdca26\"],[1.0,\"#f0f921\"]],\"diverging\":[[0,\"#8e0152\"],[0.1,\"#c51b7d\"],[0.2,\"#de77ae\"],[0.3,\"#f1b6da\"],[0.4,\"#fde0ef\"],[0.5,\"#f7f7f7\"],[0.6,\"#e6f5d0\"],[0.7,\"#b8e186\"],[0.8,\"#7fbc41\"],[0.9,\"#4d9221\"],[1,\"#276419\"]]},\"xaxis\":{\"gridcolor\":\"white\",\"linecolor\":\"white\",\"ticks\":\"\",\"title\":{\"standoff\":15},\"zerolinecolor\":\"white\",\"automargin\":true,\"zerolinewidth\":2},\"yaxis\":{\"gridcolor\":\"white\",\"linecolor\":\"white\",\"ticks\":\"\",\"title\":{\"standoff\":15},\"zerolinecolor\":\"white\",\"automargin\":true,\"zerolinewidth\":2},\"scene\":{\"xaxis\":{\"backgroundcolor\":\"#E5ECF6\",\"gridcolor\":\"white\",\"linecolor\":\"white\",\"showbackground\":true,\"ticks\":\"\",\"zerolinecolor\":\"white\",\"gridwidth\":2},\"yaxis\":{\"backgroundcolor\":\"#E5ECF6\",\"gridcolor\":\"white\",\"linecolor\":\"white\",\"showbackground\":true,\"ticks\":\"\",\"zerolinecolor\":\"white\",\"gridwidth\":2},\"zaxis\":{\"backgroundcolor\":\"#E5ECF6\",\"gridcolor\":\"white\",\"linecolor\":\"white\",\"showbackground\":true,\"ticks\":\"\",\"zerolinecolor\":\"white\",\"gridwidth\":2}},\"shapedefaults\":{\"line\":{\"color\":\"#2a3f5f\"}},\"annotationdefaults\":{\"arrowcolor\":\"#2a3f5f\",\"arrowhead\":0,\"arrowwidth\":1},\"geo\":{\"bgcolor\":\"white\",\"landcolor\":\"#E5ECF6\",\"subunitcolor\":\"white\",\"showland\":true,\"showlakes\":true,\"lakecolor\":\"white\"},\"title\":{\"x\":0.05},\"mapbox\":{\"style\":\"light\"}}},\"legend\":{\"tracegroupgap\":0},\"title\":{\"text\":\"Cereals by shelf location\"}},                        {\"responsive\": true}                    ).then(function(){\n",
              "                            \n",
              "var gd = document.getElementById('3b89da97-3ddf-4cdb-9ed1-d5d1307c5efe');\n",
              "var x = new MutationObserver(function (mutations, observer) {{\n",
              "        var display = window.getComputedStyle(gd).display;\n",
              "        if (!display || display === 'none') {{\n",
              "            console.log([gd, 'removed!']);\n",
              "            Plotly.purge(gd);\n",
              "            observer.disconnect();\n",
              "        }}\n",
              "}});\n",
              "\n",
              "// Listen for the removal of the full notebook cells\n",
              "var notebookContainer = gd.closest('#notebook-container');\n",
              "if (notebookContainer) {{\n",
              "    x.observe(notebookContainer, {childList: true});\n",
              "}}\n",
              "\n",
              "// Listen for the clearing of the current output cell\n",
              "var outputEl = gd.closest('.output');\n",
              "if (outputEl) {{\n",
              "    x.observe(outputEl, {childList: true});\n",
              "}}\n",
              "\n",
              "                        })                };                            </script>        </div>\n",
              "</body>\n",
              "</html>"
            ]
          },
          "metadata": {}
        }
      ]
    },
    {
      "cell_type": "code",
      "source": [
        "fig = px.sunburst(df, path=['mfr','calories','sugars'], values='cereal', hover_data = 'name')\n",
        "fig.show()"
      ],
      "metadata": {
        "id": "35zNI8SRg9zf",
        "colab": {
          "base_uri": "https://localhost:8080/",
          "height": 542
        },
        "outputId": "1277682f-06f6-484e-8b2e-d550910a76d5"
      },
      "execution_count": 36,
      "outputs": [
        {
          "output_type": "display_data",
          "data": {
            "text/html": [
              "<html>\n",
              "<head><meta charset=\"utf-8\" /></head>\n",
              "<body>\n",
              "    <div>            <script src=\"https://cdnjs.cloudflare.com/ajax/libs/mathjax/2.7.5/MathJax.js?config=TeX-AMS-MML_SVG\"></script><script type=\"text/javascript\">if (window.MathJax && window.MathJax.Hub && window.MathJax.Hub.Config) {window.MathJax.Hub.Config({SVG: {font: \"STIX-Web\"}});}</script>                <script type=\"text/javascript\">window.PlotlyConfig = {MathJaxConfig: 'local'};</script>\n",
              "        <script charset=\"utf-8\" src=\"https://cdn.plot.ly/plotly-2.24.1.min.js\"></script>                <div id=\"794e99c7-3fa5-4708-b4b8-5d72cb67f6a2\" class=\"plotly-graph-div\" style=\"height:525px; width:100%;\"></div>            <script type=\"text/javascript\">                                    window.PLOTLYENV=window.PLOTLYENV || {};                                    if (document.getElementById(\"794e99c7-3fa5-4708-b4b8-5d72cb67f6a2\")) {                    Plotly.newPlot(                        \"794e99c7-3fa5-4708-b4b8-5d72cb67f6a2\",                        [{\"branchvalues\":\"total\",\"customdata\":[[\"Quaker Oatmeal\"],[\"All-Bran with Extra Fiber\"],[\"(?)\"],[\"Shredded Wheat\"],[\"(?)\"],[\"Cream of Wheat (Quick)\"],[\"Cheerios\"],[\"Nutri-grain Wheat\"],[\"Corn Flakes\"],[\"Rice Chex\"],[\"Maypo\"],[\"(?)\"],[\"Product 19\"],[\"Wheat Chex\"],[\"(?)\"],[\"(?)\"],[\"Grape-Nuts\"],[\"Corn Chex\"],[\"Great Grains Pecan\"],[\"All-Bran\"],[\"Strawberry Fruit Wheats\"],[\"Bran Flakes\"],[\"Grape Nuts Flakes\"],[\"Double Chex\"],[\"100% Bran\"],[\"Raisin Squares\"],[\"Bran Chex\"],[\"Multi-Grain Cheerios\"],[\"(?)\"],[\"Just Right Crunchy  Nuggets\"],[\"Frosted Mini-Wheats\"],[\"Clusters\"],[\"Cracklin' Oat Bran\"],[\"Nutri-Grain Almond-Raisin\"],[\"Raisin Nut Bran\"],[\"Wheaties Honey Gold\"],[\"Almond Delight\"],[\"100% Natural Bran\"],[\"Basic 4\"],[\"Golden Grahams\"],[\"Cinnamon Toast Crunch\"],[\"Nut&Honey Crunch\"],[\"Just Right Fruit & Nut\"],[\"Crispy Wheat & Raisins\"],[\"(?)\"],[\"Fruit & Fibre Dates, Walnuts, and Oats\"],[\"Oatmeal Raisin Crisp\"],[\"Frosted Flakes\"],[\"Honey-comb\"],[\"Honey Graham Ohs\"],[\"(?)\"],[\"(?)\"],[\"Corn Pops\"],[\"Fruity Pebbles\"],[\"(?)\"],[\"Cap'n'Crunch\"],[\"(?)\"],[\"Froot Loops\"],[\"Mueslix Crispy Blend\"],[\"Apple Jacks\"],[\"Post Nat. Raisin Bran\"],[\"Total Raisin Bran\"],[\"Golden Crisp\"],[\"Smacks\"],[\"All-Bran with Extra Fiber\"],[\"(?)\"],[\"All-Bran\"],[\"100% Bran\"],[\"Shredded Wheat\"],[\"(?)\"],[\"(?)\"],[\"Bran Flakes\"],[\"Bran Chex\"],[\"Maypo\"],[\"(?)\"],[\"(?)\"],[\"Cream of Wheat (Quick)\"],[\"(?)\"],[\"(?)\"],[\"(?)\"],[\"(?)\"],[\"(?)\"],[\"(?)\"],[\"(?)\"],[\"Cinnamon Toast Crunch\"],[\"(?)\"],[\"(?)\"],[\"(?)\"],[\"(?)\"],[\"Total Raisin Bran\"],[\"(?)\"],[\"(?)\"],[\"Mueslix Crispy Blend\"],[\"Maypo\"],[\"(?)\"],[\"(?)\"],[\"(?)\"],[\"(?)\"],[\"(?)\"],[\"(?)\"]],\"domain\":{\"x\":[0.0,1.0],\"y\":[0.0,1.0]},\"hovertemplate\":\"labels=%{label}\\u003cbr\\u003ecereal=%{value}\\u003cbr\\u003eparent=%{parent}\\u003cbr\\u003eid=%{id}\\u003cbr\\u003ename=%{customdata[0]}\\u003cextra\\u003e\\u003c\\u002fextra\\u003e\",\"ids\":[\"Quaker Oats\\u002f100\\u002f-1\",\"Kellogs\\u002f50\\u002f0\",\"Quaker Oats\\u002f50\\u002f0\",\"Nabisco\\u002f80\\u002f0\",\"Nabisco\\u002f90\\u002f0\",\"Nabisco\\u002f100\\u002f0\",\"General Mills\\u002f110\\u002f1\",\"Kellogs\\u002f90\\u002f2\",\"Kellogs\\u002f100\\u002f2\",\"Ralston Purina\\u002f110\\u002f2\",\"AM Home Food\\u002f100\\u002f3\",\"General Mills\\u002f100\\u002f3\",\"Kellogs\\u002f100\\u002f3\",\"Ralston Purina\\u002f100\\u002f3\",\"General Mills\\u002f110\\u002f3\",\"Kellogs\\u002f110\\u002f3\",\"Post\\u002f110\\u002f3\",\"Ralston Purina\\u002f110\\u002f3\",\"Post\\u002f120\\u002f4\",\"Kellogs\\u002f70\\u002f5\",\"Nabisco\\u002f90\\u002f5\",\"Post\\u002f90\\u002f5\",\"Post\\u002f100\\u002f5\",\"Ralston Purina\\u002f100\\u002f5\",\"Nabisco\\u002f70\\u002f6\",\"Kellogs\\u002f90\\u002f6\",\"Ralston Purina\\u002f90\\u002f6\",\"General Mills\\u002f100\\u002f6\",\"Quaker Oats\\u002f100\\u002f6\",\"Kellogs\\u002f110\\u002f6\",\"Kellogs\\u002f100\\u002f7\",\"General Mills\\u002f110\\u002f7\",\"Kellogs\\u002f110\\u002f7\",\"Kellogs\\u002f140\\u002f7\",\"General Mills\\u002f100\\u002f8\",\"General Mills\\u002f110\\u002f8\",\"Ralston Purina\\u002f110\\u002f8\",\"Quaker Oats\\u002f120\\u002f8\",\"General Mills\\u002f130\\u002f8\",\"General Mills\\u002f110\\u002f9\",\"General Mills\\u002f120\\u002f9\",\"Kellogs\\u002f120\\u002f9\",\"Kellogs\\u002f140\\u002f9\",\"General Mills\\u002f100\\u002f10\",\"General Mills\\u002f110\\u002f10\",\"Post\\u002f120\\u002f10\",\"General Mills\\u002f130\\u002f10\",\"Kellogs\\u002f110\\u002f11\",\"Post\\u002f110\\u002f11\",\"Quaker Oats\\u002f120\\u002f11\",\"Ralston Purina\\u002f150\\u002f11\",\"General Mills\\u002f110\\u002f12\",\"Kellogs\\u002f110\\u002f12\",\"Post\\u002f110\\u002f12\",\"Kellogs\\u002f120\\u002f12\",\"Quaker Oats\\u002f120\\u002f12\",\"General Mills\\u002f110\\u002f13\",\"Kellogs\\u002f110\\u002f13\",\"Kellogs\\u002f160\\u002f13\",\"Kellogs\\u002f110\\u002f14\",\"Post\\u002f120\\u002f14\",\"General Mills\\u002f140\\u002f14\",\"Post\\u002f100\\u002f15\",\"Kellogs\\u002f110\\u002f15\",\"Kellogs\\u002f50\",\"Quaker Oats\\u002f50\",\"Kellogs\\u002f70\",\"Nabisco\\u002f70\",\"Nabisco\\u002f80\",\"Kellogs\\u002f90\",\"Nabisco\\u002f90\",\"Post\\u002f90\",\"Ralston Purina\\u002f90\",\"AM Home Food\\u002f100\",\"General Mills\\u002f100\",\"Kellogs\\u002f100\",\"Nabisco\\u002f100\",\"Post\\u002f100\",\"Quaker Oats\\u002f100\",\"Ralston Purina\\u002f100\",\"General Mills\\u002f110\",\"Kellogs\\u002f110\",\"Post\\u002f110\",\"Ralston Purina\\u002f110\",\"General Mills\\u002f120\",\"Kellogs\\u002f120\",\"Post\\u002f120\",\"Quaker Oats\\u002f120\",\"General Mills\\u002f130\",\"General Mills\\u002f140\",\"Kellogs\\u002f140\",\"Ralston Purina\\u002f150\",\"Kellogs\\u002f160\",\"AM Home Food\",\"General Mills\",\"Kellogs\",\"Nabisco\",\"Post\",\"Quaker Oats\",\"Ralston Purina\"],\"labels\":[\"-1\",\"0\",\"0\",\"0\",\"0\",\"0\",\"1\",\"2\",\"2\",\"2\",\"3\",\"3\",\"3\",\"3\",\"3\",\"3\",\"3\",\"3\",\"4\",\"5\",\"5\",\"5\",\"5\",\"5\",\"6\",\"6\",\"6\",\"6\",\"6\",\"6\",\"7\",\"7\",\"7\",\"7\",\"8\",\"8\",\"8\",\"8\",\"8\",\"9\",\"9\",\"9\",\"9\",\"10\",\"10\",\"10\",\"10\",\"11\",\"11\",\"11\",\"11\",\"12\",\"12\",\"12\",\"12\",\"12\",\"13\",\"13\",\"13\",\"14\",\"14\",\"14\",\"15\",\"15\",\"50\",\"50\",\"70\",\"70\",\"80\",\"90\",\"90\",\"90\",\"90\",\"100\",\"100\",\"100\",\"100\",\"100\",\"100\",\"100\",\"110\",\"110\",\"110\",\"110\",\"120\",\"120\",\"120\",\"120\",\"130\",\"140\",\"140\",\"150\",\"160\",\"AM Home Food\",\"General Mills\",\"Kellogs\",\"Nabisco\",\"Post\",\"Quaker Oats\",\"Ralston Purina\"],\"name\":\"\",\"parents\":[\"Quaker Oats\\u002f100\",\"Kellogs\\u002f50\",\"Quaker Oats\\u002f50\",\"Nabisco\\u002f80\",\"Nabisco\\u002f90\",\"Nabisco\\u002f100\",\"General Mills\\u002f110\",\"Kellogs\\u002f90\",\"Kellogs\\u002f100\",\"Ralston Purina\\u002f110\",\"AM Home Food\\u002f100\",\"General Mills\\u002f100\",\"Kellogs\\u002f100\",\"Ralston Purina\\u002f100\",\"General Mills\\u002f110\",\"Kellogs\\u002f110\",\"Post\\u002f110\",\"Ralston Purina\\u002f110\",\"Post\\u002f120\",\"Kellogs\\u002f70\",\"Nabisco\\u002f90\",\"Post\\u002f90\",\"Post\\u002f100\",\"Ralston Purina\\u002f100\",\"Nabisco\\u002f70\",\"Kellogs\\u002f90\",\"Ralston Purina\\u002f90\",\"General Mills\\u002f100\",\"Quaker Oats\\u002f100\",\"Kellogs\\u002f110\",\"Kellogs\\u002f100\",\"General Mills\\u002f110\",\"Kellogs\\u002f110\",\"Kellogs\\u002f140\",\"General Mills\\u002f100\",\"General Mills\\u002f110\",\"Ralston Purina\\u002f110\",\"Quaker Oats\\u002f120\",\"General Mills\\u002f130\",\"General Mills\\u002f110\",\"General Mills\\u002f120\",\"Kellogs\\u002f120\",\"Kellogs\\u002f140\",\"General Mills\\u002f100\",\"General Mills\\u002f110\",\"Post\\u002f120\",\"General Mills\\u002f130\",\"Kellogs\\u002f110\",\"Post\\u002f110\",\"Quaker Oats\\u002f120\",\"Ralston Purina\\u002f150\",\"General Mills\\u002f110\",\"Kellogs\\u002f110\",\"Post\\u002f110\",\"Kellogs\\u002f120\",\"Quaker Oats\\u002f120\",\"General Mills\\u002f110\",\"Kellogs\\u002f110\",\"Kellogs\\u002f160\",\"Kellogs\\u002f110\",\"Post\\u002f120\",\"General Mills\\u002f140\",\"Post\\u002f100\",\"Kellogs\\u002f110\",\"Kellogs\",\"Quaker Oats\",\"Kellogs\",\"Nabisco\",\"Nabisco\",\"Kellogs\",\"Nabisco\",\"Post\",\"Ralston Purina\",\"AM Home Food\",\"General Mills\",\"Kellogs\",\"Nabisco\",\"Post\",\"Quaker Oats\",\"Ralston Purina\",\"General Mills\",\"Kellogs\",\"Post\",\"Ralston Purina\",\"General Mills\",\"Kellogs\",\"Post\",\"Quaker Oats\",\"General Mills\",\"General Mills\",\"Kellogs\",\"Ralston Purina\",\"Kellogs\",\"\",\"\",\"\",\"\",\"\",\"\",\"\"],\"values\":[1,1,2,1,2,1,1,1,1,1,1,2,1,1,3,3,1,1,1,1,1,1,1,1,1,1,1,1,2,1,1,1,1,1,1,1,1,1,1,1,1,1,1,1,2,1,1,1,1,1,2,2,1,1,2,1,2,1,1,1,1,1,1,1,1,2,1,1,1,2,3,1,1,1,5,3,1,2,3,2,13,10,3,3,1,3,3,3,2,1,2,2,1,1,22,23,6,9,8,8],\"type\":\"sunburst\"}],                        {\"template\":{\"data\":{\"histogram2dcontour\":[{\"type\":\"histogram2dcontour\",\"colorbar\":{\"outlinewidth\":0,\"ticks\":\"\"},\"colorscale\":[[0.0,\"#0d0887\"],[0.1111111111111111,\"#46039f\"],[0.2222222222222222,\"#7201a8\"],[0.3333333333333333,\"#9c179e\"],[0.4444444444444444,\"#bd3786\"],[0.5555555555555556,\"#d8576b\"],[0.6666666666666666,\"#ed7953\"],[0.7777777777777778,\"#fb9f3a\"],[0.8888888888888888,\"#fdca26\"],[1.0,\"#f0f921\"]]}],\"choropleth\":[{\"type\":\"choropleth\",\"colorbar\":{\"outlinewidth\":0,\"ticks\":\"\"}}],\"histogram2d\":[{\"type\":\"histogram2d\",\"colorbar\":{\"outlinewidth\":0,\"ticks\":\"\"},\"colorscale\":[[0.0,\"#0d0887\"],[0.1111111111111111,\"#46039f\"],[0.2222222222222222,\"#7201a8\"],[0.3333333333333333,\"#9c179e\"],[0.4444444444444444,\"#bd3786\"],[0.5555555555555556,\"#d8576b\"],[0.6666666666666666,\"#ed7953\"],[0.7777777777777778,\"#fb9f3a\"],[0.8888888888888888,\"#fdca26\"],[1.0,\"#f0f921\"]]}],\"heatmap\":[{\"type\":\"heatmap\",\"colorbar\":{\"outlinewidth\":0,\"ticks\":\"\"},\"colorscale\":[[0.0,\"#0d0887\"],[0.1111111111111111,\"#46039f\"],[0.2222222222222222,\"#7201a8\"],[0.3333333333333333,\"#9c179e\"],[0.4444444444444444,\"#bd3786\"],[0.5555555555555556,\"#d8576b\"],[0.6666666666666666,\"#ed7953\"],[0.7777777777777778,\"#fb9f3a\"],[0.8888888888888888,\"#fdca26\"],[1.0,\"#f0f921\"]]}],\"heatmapgl\":[{\"type\":\"heatmapgl\",\"colorbar\":{\"outlinewidth\":0,\"ticks\":\"\"},\"colorscale\":[[0.0,\"#0d0887\"],[0.1111111111111111,\"#46039f\"],[0.2222222222222222,\"#7201a8\"],[0.3333333333333333,\"#9c179e\"],[0.4444444444444444,\"#bd3786\"],[0.5555555555555556,\"#d8576b\"],[0.6666666666666666,\"#ed7953\"],[0.7777777777777778,\"#fb9f3a\"],[0.8888888888888888,\"#fdca26\"],[1.0,\"#f0f921\"]]}],\"contourcarpet\":[{\"type\":\"contourcarpet\",\"colorbar\":{\"outlinewidth\":0,\"ticks\":\"\"}}],\"contour\":[{\"type\":\"contour\",\"colorbar\":{\"outlinewidth\":0,\"ticks\":\"\"},\"colorscale\":[[0.0,\"#0d0887\"],[0.1111111111111111,\"#46039f\"],[0.2222222222222222,\"#7201a8\"],[0.3333333333333333,\"#9c179e\"],[0.4444444444444444,\"#bd3786\"],[0.5555555555555556,\"#d8576b\"],[0.6666666666666666,\"#ed7953\"],[0.7777777777777778,\"#fb9f3a\"],[0.8888888888888888,\"#fdca26\"],[1.0,\"#f0f921\"]]}],\"surface\":[{\"type\":\"surface\",\"colorbar\":{\"outlinewidth\":0,\"ticks\":\"\"},\"colorscale\":[[0.0,\"#0d0887\"],[0.1111111111111111,\"#46039f\"],[0.2222222222222222,\"#7201a8\"],[0.3333333333333333,\"#9c179e\"],[0.4444444444444444,\"#bd3786\"],[0.5555555555555556,\"#d8576b\"],[0.6666666666666666,\"#ed7953\"],[0.7777777777777778,\"#fb9f3a\"],[0.8888888888888888,\"#fdca26\"],[1.0,\"#f0f921\"]]}],\"mesh3d\":[{\"type\":\"mesh3d\",\"colorbar\":{\"outlinewidth\":0,\"ticks\":\"\"}}],\"scatter\":[{\"fillpattern\":{\"fillmode\":\"overlay\",\"size\":10,\"solidity\":0.2},\"type\":\"scatter\"}],\"parcoords\":[{\"type\":\"parcoords\",\"line\":{\"colorbar\":{\"outlinewidth\":0,\"ticks\":\"\"}}}],\"scatterpolargl\":[{\"type\":\"scatterpolargl\",\"marker\":{\"colorbar\":{\"outlinewidth\":0,\"ticks\":\"\"}}}],\"bar\":[{\"error_x\":{\"color\":\"#2a3f5f\"},\"error_y\":{\"color\":\"#2a3f5f\"},\"marker\":{\"line\":{\"color\":\"#E5ECF6\",\"width\":0.5},\"pattern\":{\"fillmode\":\"overlay\",\"size\":10,\"solidity\":0.2}},\"type\":\"bar\"}],\"scattergeo\":[{\"type\":\"scattergeo\",\"marker\":{\"colorbar\":{\"outlinewidth\":0,\"ticks\":\"\"}}}],\"scatterpolar\":[{\"type\":\"scatterpolar\",\"marker\":{\"colorbar\":{\"outlinewidth\":0,\"ticks\":\"\"}}}],\"histogram\":[{\"marker\":{\"pattern\":{\"fillmode\":\"overlay\",\"size\":10,\"solidity\":0.2}},\"type\":\"histogram\"}],\"scattergl\":[{\"type\":\"scattergl\",\"marker\":{\"colorbar\":{\"outlinewidth\":0,\"ticks\":\"\"}}}],\"scatter3d\":[{\"type\":\"scatter3d\",\"line\":{\"colorbar\":{\"outlinewidth\":0,\"ticks\":\"\"}},\"marker\":{\"colorbar\":{\"outlinewidth\":0,\"ticks\":\"\"}}}],\"scattermapbox\":[{\"type\":\"scattermapbox\",\"marker\":{\"colorbar\":{\"outlinewidth\":0,\"ticks\":\"\"}}}],\"scatterternary\":[{\"type\":\"scatterternary\",\"marker\":{\"colorbar\":{\"outlinewidth\":0,\"ticks\":\"\"}}}],\"scattercarpet\":[{\"type\":\"scattercarpet\",\"marker\":{\"colorbar\":{\"outlinewidth\":0,\"ticks\":\"\"}}}],\"carpet\":[{\"aaxis\":{\"endlinecolor\":\"#2a3f5f\",\"gridcolor\":\"white\",\"linecolor\":\"white\",\"minorgridcolor\":\"white\",\"startlinecolor\":\"#2a3f5f\"},\"baxis\":{\"endlinecolor\":\"#2a3f5f\",\"gridcolor\":\"white\",\"linecolor\":\"white\",\"minorgridcolor\":\"white\",\"startlinecolor\":\"#2a3f5f\"},\"type\":\"carpet\"}],\"table\":[{\"cells\":{\"fill\":{\"color\":\"#EBF0F8\"},\"line\":{\"color\":\"white\"}},\"header\":{\"fill\":{\"color\":\"#C8D4E3\"},\"line\":{\"color\":\"white\"}},\"type\":\"table\"}],\"barpolar\":[{\"marker\":{\"line\":{\"color\":\"#E5ECF6\",\"width\":0.5},\"pattern\":{\"fillmode\":\"overlay\",\"size\":10,\"solidity\":0.2}},\"type\":\"barpolar\"}],\"pie\":[{\"automargin\":true,\"type\":\"pie\"}]},\"layout\":{\"autotypenumbers\":\"strict\",\"colorway\":[\"#636efa\",\"#EF553B\",\"#00cc96\",\"#ab63fa\",\"#FFA15A\",\"#19d3f3\",\"#FF6692\",\"#B6E880\",\"#FF97FF\",\"#FECB52\"],\"font\":{\"color\":\"#2a3f5f\"},\"hovermode\":\"closest\",\"hoverlabel\":{\"align\":\"left\"},\"paper_bgcolor\":\"white\",\"plot_bgcolor\":\"#E5ECF6\",\"polar\":{\"bgcolor\":\"#E5ECF6\",\"angularaxis\":{\"gridcolor\":\"white\",\"linecolor\":\"white\",\"ticks\":\"\"},\"radialaxis\":{\"gridcolor\":\"white\",\"linecolor\":\"white\",\"ticks\":\"\"}},\"ternary\":{\"bgcolor\":\"#E5ECF6\",\"aaxis\":{\"gridcolor\":\"white\",\"linecolor\":\"white\",\"ticks\":\"\"},\"baxis\":{\"gridcolor\":\"white\",\"linecolor\":\"white\",\"ticks\":\"\"},\"caxis\":{\"gridcolor\":\"white\",\"linecolor\":\"white\",\"ticks\":\"\"}},\"coloraxis\":{\"colorbar\":{\"outlinewidth\":0,\"ticks\":\"\"}},\"colorscale\":{\"sequential\":[[0.0,\"#0d0887\"],[0.1111111111111111,\"#46039f\"],[0.2222222222222222,\"#7201a8\"],[0.3333333333333333,\"#9c179e\"],[0.4444444444444444,\"#bd3786\"],[0.5555555555555556,\"#d8576b\"],[0.6666666666666666,\"#ed7953\"],[0.7777777777777778,\"#fb9f3a\"],[0.8888888888888888,\"#fdca26\"],[1.0,\"#f0f921\"]],\"sequentialminus\":[[0.0,\"#0d0887\"],[0.1111111111111111,\"#46039f\"],[0.2222222222222222,\"#7201a8\"],[0.3333333333333333,\"#9c179e\"],[0.4444444444444444,\"#bd3786\"],[0.5555555555555556,\"#d8576b\"],[0.6666666666666666,\"#ed7953\"],[0.7777777777777778,\"#fb9f3a\"],[0.8888888888888888,\"#fdca26\"],[1.0,\"#f0f921\"]],\"diverging\":[[0,\"#8e0152\"],[0.1,\"#c51b7d\"],[0.2,\"#de77ae\"],[0.3,\"#f1b6da\"],[0.4,\"#fde0ef\"],[0.5,\"#f7f7f7\"],[0.6,\"#e6f5d0\"],[0.7,\"#b8e186\"],[0.8,\"#7fbc41\"],[0.9,\"#4d9221\"],[1,\"#276419\"]]},\"xaxis\":{\"gridcolor\":\"white\",\"linecolor\":\"white\",\"ticks\":\"\",\"title\":{\"standoff\":15},\"zerolinecolor\":\"white\",\"automargin\":true,\"zerolinewidth\":2},\"yaxis\":{\"gridcolor\":\"white\",\"linecolor\":\"white\",\"ticks\":\"\",\"title\":{\"standoff\":15},\"zerolinecolor\":\"white\",\"automargin\":true,\"zerolinewidth\":2},\"scene\":{\"xaxis\":{\"backgroundcolor\":\"#E5ECF6\",\"gridcolor\":\"white\",\"linecolor\":\"white\",\"showbackground\":true,\"ticks\":\"\",\"zerolinecolor\":\"white\",\"gridwidth\":2},\"yaxis\":{\"backgroundcolor\":\"#E5ECF6\",\"gridcolor\":\"white\",\"linecolor\":\"white\",\"showbackground\":true,\"ticks\":\"\",\"zerolinecolor\":\"white\",\"gridwidth\":2},\"zaxis\":{\"backgroundcolor\":\"#E5ECF6\",\"gridcolor\":\"white\",\"linecolor\":\"white\",\"showbackground\":true,\"ticks\":\"\",\"zerolinecolor\":\"white\",\"gridwidth\":2}},\"shapedefaults\":{\"line\":{\"color\":\"#2a3f5f\"}},\"annotationdefaults\":{\"arrowcolor\":\"#2a3f5f\",\"arrowhead\":0,\"arrowwidth\":1},\"geo\":{\"bgcolor\":\"white\",\"landcolor\":\"#E5ECF6\",\"subunitcolor\":\"white\",\"showland\":true,\"showlakes\":true,\"lakecolor\":\"white\"},\"title\":{\"x\":0.05},\"mapbox\":{\"style\":\"light\"}}},\"legend\":{\"tracegroupgap\":0},\"margin\":{\"t\":60}},                        {\"responsive\": true}                    ).then(function(){\n",
              "                            \n",
              "var gd = document.getElementById('794e99c7-3fa5-4708-b4b8-5d72cb67f6a2');\n",
              "var x = new MutationObserver(function (mutations, observer) {{\n",
              "        var display = window.getComputedStyle(gd).display;\n",
              "        if (!display || display === 'none') {{\n",
              "            console.log([gd, 'removed!']);\n",
              "            Plotly.purge(gd);\n",
              "            observer.disconnect();\n",
              "        }}\n",
              "}});\n",
              "\n",
              "// Listen for the removal of the full notebook cells\n",
              "var notebookContainer = gd.closest('#notebook-container');\n",
              "if (notebookContainer) {{\n",
              "    x.observe(notebookContainer, {childList: true});\n",
              "}}\n",
              "\n",
              "// Listen for the clearing of the current output cell\n",
              "var outputEl = gd.closest('.output');\n",
              "if (outputEl) {{\n",
              "    x.observe(outputEl, {childList: true});\n",
              "}}\n",
              "\n",
              "                        })                };                            </script>        </div>\n",
              "</body>\n",
              "</html>"
            ]
          },
          "metadata": {}
        }
      ]
    }
  ]
}